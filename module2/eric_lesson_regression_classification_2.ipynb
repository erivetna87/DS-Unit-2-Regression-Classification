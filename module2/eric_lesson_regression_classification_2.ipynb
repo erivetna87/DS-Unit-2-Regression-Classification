{
  "nbformat": 4,
  "nbformat_minor": 0,
  "metadata": {
    "kernelspec": {
      "display_name": "Python 3",
      "language": "python",
      "name": "python3"
    },
    "language_info": {
      "codemirror_mode": {
        "name": "ipython",
        "version": 3
      },
      "file_extension": ".py",
      "mimetype": "text/x-python",
      "name": "python",
      "nbconvert_exporter": "python",
      "pygments_lexer": "ipython3",
      "version": "3.7.3"
    },
    "colab": {
      "name": "Copy of DS7_lesson_regression_classification_2.ipynb",
      "version": "0.3.2",
      "provenance": [],
      "collapsed_sections": [],
      "include_colab_link": true
    }
  },
  "cells": [
    {
      "cell_type": "markdown",
      "metadata": {
        "id": "view-in-github",
        "colab_type": "text"
      },
      "source": [
        "<a href=\"https://colab.research.google.com/github/erivetna87/DS-Unit-2-Regression-Classification/blob/master/module2/eric_lesson_regression_classification_2.ipynb\" target=\"_parent\"><img src=\"https://colab.research.google.com/assets/colab-badge.svg\" alt=\"Open In Colab\"/></a>"
      ]
    },
    {
      "cell_type": "markdown",
      "metadata": {
        "id": "XmOQQWETlITN",
        "colab_type": "text"
      },
      "source": [
        "Lambda School Data Science\n",
        "\n",
        "*Unit 2, Sprint 1, Module 2*\n",
        "\n",
        "---"
      ]
    },
    {
      "cell_type": "markdown",
      "metadata": {
        "id": "zmFCg6UArzn6",
        "colab_type": "text"
      },
      "source": [
        "\n",
        "\n",
        "# Regression & Classification, Module 2\n",
        "- Go from simple regression (1 feature) to multiple regression (2+ features)\n",
        "- Get and plot coefficients\n",
        "- Use regression metrics: MAE (Mean Absolute Error) and $R^2$ Score\n",
        "- Understand how ordinary least squares regression minimizes the sum of squared errors\n",
        "- Explain why overfitting is a problem. Do train/test split"
      ]
    },
    {
      "cell_type": "markdown",
      "metadata": {
        "id": "TLcAHk5arzn8",
        "colab_type": "text"
      },
      "source": [
        "### Setup\n",
        "\n",
        "You can work locally (follow the [local setup instructions](https://lambdaschool.github.io/ds/unit2/local/)) or on Colab (run the code cell below)."
      ]
    },
    {
      "cell_type": "code",
      "metadata": {
        "id": "gtJg1IJZrzn9",
        "colab_type": "code",
        "colab": {
          "base_uri": "https://localhost:8080/",
          "height": 1000
        },
        "outputId": "be7d4d13-a9a9-4dec-cc18-a3a8554c1f19"
      },
      "source": [
        "import os, sys\n",
        "in_colab = 'google.colab' in sys.modules\n",
        "\n",
        "# If you're in Colab...\n",
        "if in_colab:\n",
        "    # Pull files from Github repo\n",
        "    os.chdir('/content')\n",
        "    !git init .\n",
        "    !git remote add origin https://github.com/LambdaSchool/DS-Unit-2-Regression-Classification.git\n",
        "    !git pull origin master\n",
        "    \n",
        "    # Install required python packages\n",
        "    !pip install -r requirements.txt\n",
        "    \n",
        "    # Change into directory for module\n",
        "    os.chdir('module2')"
      ],
      "execution_count": 9,
      "outputs": [
        {
          "output_type": "stream",
          "text": [
            "Reinitialized existing Git repository in /content/.git/\n",
            "fatal: remote origin already exists.\n",
            "From https://github.com/LambdaSchool/DS-Unit-2-Regression-Classification\n",
            " * branch            master     -> FETCH_HEAD\n",
            "Already up to date.\n",
            "Requirement already satisfied: category_encoders==2.0.0 in /usr/local/lib/python3.6/dist-packages (from -r requirements.txt (line 1)) (2.0.0)\n",
            "Requirement already satisfied: eli5==0.10.0 in /usr/local/lib/python3.6/dist-packages (from -r requirements.txt (line 2)) (0.10.0)\n",
            "Requirement already satisfied: matplotlib!=3.1.1 in /usr/local/lib/python3.6/dist-packages (from -r requirements.txt (line 3)) (3.0.3)\n",
            "Requirement already satisfied: pandas-profiling==2.3.0 in /usr/local/lib/python3.6/dist-packages (from -r requirements.txt (line 4)) (2.3.0)\n",
            "Requirement already satisfied: pdpbox==0.2.0 in /usr/local/lib/python3.6/dist-packages (from -r requirements.txt (line 5)) (0.2.0)\n",
            "Requirement already satisfied: plotly==4.1.1 in /usr/local/lib/python3.6/dist-packages (from -r requirements.txt (line 6)) (4.1.1)\n",
            "Requirement already satisfied: seaborn==0.9.0 in /usr/local/lib/python3.6/dist-packages (from -r requirements.txt (line 7)) (0.9.0)\n",
            "Requirement already satisfied: scikit-learn==0.21.3 in /usr/local/lib/python3.6/dist-packages (from -r requirements.txt (line 8)) (0.21.3)\n",
            "Requirement already satisfied: shap==0.29.3 in /usr/local/lib/python3.6/dist-packages (from -r requirements.txt (line 9)) (0.29.3)\n",
            "Requirement already satisfied: statsmodels==0.10.1 in /usr/local/lib/python3.6/dist-packages (from -r requirements.txt (line 10)) (0.10.1)\n",
            "Requirement already satisfied: xgboost==0.90 in /usr/local/lib/python3.6/dist-packages (from -r requirements.txt (line 11)) (0.90)\n",
            "Requirement already satisfied: patsy>=0.4.1 in /usr/local/lib/python3.6/dist-packages (from category_encoders==2.0.0->-r requirements.txt (line 1)) (0.5.1)\n",
            "Requirement already satisfied: scipy>=0.19.0 in /usr/local/lib/python3.6/dist-packages (from category_encoders==2.0.0->-r requirements.txt (line 1)) (1.3.1)\n",
            "Requirement already satisfied: numpy>=1.11.3 in /usr/local/lib/python3.6/dist-packages (from category_encoders==2.0.0->-r requirements.txt (line 1)) (1.16.4)\n",
            "Requirement already satisfied: pandas>=0.21.1 in /usr/local/lib/python3.6/dist-packages (from category_encoders==2.0.0->-r requirements.txt (line 1)) (0.24.2)\n",
            "Requirement already satisfied: typing in /usr/local/lib/python3.6/dist-packages (from eli5==0.10.0->-r requirements.txt (line 2)) (3.7.4.1)\n",
            "Requirement already satisfied: jinja2 in /usr/local/lib/python3.6/dist-packages (from eli5==0.10.0->-r requirements.txt (line 2)) (2.10.1)\n",
            "Requirement already satisfied: attrs>16.0.0 in /usr/local/lib/python3.6/dist-packages (from eli5==0.10.0->-r requirements.txt (line 2)) (19.1.0)\n",
            "Requirement already satisfied: six in /usr/local/lib/python3.6/dist-packages (from eli5==0.10.0->-r requirements.txt (line 2)) (1.12.0)\n",
            "Requirement already satisfied: graphviz in /usr/local/lib/python3.6/dist-packages (from eli5==0.10.0->-r requirements.txt (line 2)) (0.10.1)\n",
            "Requirement already satisfied: tabulate>=0.7.7 in /usr/local/lib/python3.6/dist-packages (from eli5==0.10.0->-r requirements.txt (line 2)) (0.8.3)\n",
            "Requirement already satisfied: python-dateutil>=2.1 in /usr/local/lib/python3.6/dist-packages (from matplotlib!=3.1.1->-r requirements.txt (line 3)) (2.5.3)\n",
            "Requirement already satisfied: cycler>=0.10 in /usr/local/lib/python3.6/dist-packages (from matplotlib!=3.1.1->-r requirements.txt (line 3)) (0.10.0)\n",
            "Requirement already satisfied: kiwisolver>=1.0.1 in /usr/local/lib/python3.6/dist-packages (from matplotlib!=3.1.1->-r requirements.txt (line 3)) (1.1.0)\n",
            "Requirement already satisfied: pyparsing!=2.0.4,!=2.1.2,!=2.1.6,>=2.0.1 in /usr/local/lib/python3.6/dist-packages (from matplotlib!=3.1.1->-r requirements.txt (line 3)) (2.4.2)\n",
            "Requirement already satisfied: astropy in /usr/local/lib/python3.6/dist-packages (from pandas-profiling==2.3.0->-r requirements.txt (line 4)) (3.0.5)\n",
            "Requirement already satisfied: missingno>=0.4.2 in /usr/local/lib/python3.6/dist-packages (from pandas-profiling==2.3.0->-r requirements.txt (line 4)) (0.4.2)\n",
            "Requirement already satisfied: phik>=0.9.8 in /usr/local/lib/python3.6/dist-packages (from pandas-profiling==2.3.0->-r requirements.txt (line 4)) (0.9.8)\n",
            "Requirement already satisfied: confuse>=1.0.0 in /usr/local/lib/python3.6/dist-packages (from pandas-profiling==2.3.0->-r requirements.txt (line 4)) (1.0.0)\n",
            "Requirement already satisfied: htmlmin>=0.1.12 in /usr/local/lib/python3.6/dist-packages (from pandas-profiling==2.3.0->-r requirements.txt (line 4)) (0.1.12)\n",
            "Requirement already satisfied: joblib in /usr/local/lib/python3.6/dist-packages (from pdpbox==0.2.0->-r requirements.txt (line 5)) (0.13.2)\n",
            "Requirement already satisfied: psutil in /usr/local/lib/python3.6/dist-packages (from pdpbox==0.2.0->-r requirements.txt (line 5)) (5.4.8)\n",
            "Requirement already satisfied: retrying>=1.3.3 in /usr/local/lib/python3.6/dist-packages (from plotly==4.1.1->-r requirements.txt (line 6)) (1.3.3)\n",
            "Requirement already satisfied: tqdm>4.25.0 in /usr/local/lib/python3.6/dist-packages (from shap==0.29.3->-r requirements.txt (line 9)) (4.28.1)\n",
            "Requirement already satisfied: ipython in /usr/local/lib/python3.6/dist-packages (from shap==0.29.3->-r requirements.txt (line 9)) (5.5.0)\n",
            "Requirement already satisfied: scikit-image in /usr/local/lib/python3.6/dist-packages (from shap==0.29.3->-r requirements.txt (line 9)) (0.15.0)\n",
            "Requirement already satisfied: pytz>=2011k in /usr/local/lib/python3.6/dist-packages (from pandas>=0.21.1->category_encoders==2.0.0->-r requirements.txt (line 1)) (2018.9)\n",
            "Requirement already satisfied: MarkupSafe>=0.23 in /usr/local/lib/python3.6/dist-packages (from jinja2->eli5==0.10.0->-r requirements.txt (line 2)) (1.1.1)\n",
            "Requirement already satisfied: setuptools in /usr/local/lib/python3.6/dist-packages (from kiwisolver>=1.0.1->matplotlib!=3.1.1->-r requirements.txt (line 3)) (41.2.0)\n",
            "Requirement already satisfied: pytest>=4.0.2 in /usr/local/lib/python3.6/dist-packages (from phik>=0.9.8->pandas-profiling==2.3.0->-r requirements.txt (line 4)) (5.1.2)\n",
            "Requirement already satisfied: nbconvert>=5.3.1 in /usr/local/lib/python3.6/dist-packages (from phik>=0.9.8->pandas-profiling==2.3.0->-r requirements.txt (line 4)) (5.6.0)\n",
            "Requirement already satisfied: jupyter-client>=5.2.3 in /usr/local/lib/python3.6/dist-packages (from phik>=0.9.8->pandas-profiling==2.3.0->-r requirements.txt (line 4)) (5.3.1)\n",
            "Requirement already satisfied: pytest-pylint>=0.13.0 in /usr/local/lib/python3.6/dist-packages (from phik>=0.9.8->pandas-profiling==2.3.0->-r requirements.txt (line 4)) (0.14.1)\n",
            "Requirement already satisfied: numba>=0.38.1 in /usr/local/lib/python3.6/dist-packages (from phik>=0.9.8->pandas-profiling==2.3.0->-r requirements.txt (line 4)) (0.40.1)\n",
            "Requirement already satisfied: pyyaml in /usr/local/lib/python3.6/dist-packages (from confuse>=1.0.0->pandas-profiling==2.3.0->-r requirements.txt (line 4)) (3.13)\n",
            "Requirement already satisfied: prompt-toolkit<2.0.0,>=1.0.4 in /usr/local/lib/python3.6/dist-packages (from ipython->shap==0.29.3->-r requirements.txt (line 9)) (1.0.16)\n",
            "Requirement already satisfied: decorator in /usr/local/lib/python3.6/dist-packages (from ipython->shap==0.29.3->-r requirements.txt (line 9)) (4.4.0)\n",
            "Requirement already satisfied: pexpect; sys_platform != \"win32\" in /usr/local/lib/python3.6/dist-packages (from ipython->shap==0.29.3->-r requirements.txt (line 9)) (4.7.0)\n",
            "Requirement already satisfied: pickleshare in /usr/local/lib/python3.6/dist-packages (from ipython->shap==0.29.3->-r requirements.txt (line 9)) (0.7.5)\n",
            "Requirement already satisfied: pygments in /usr/local/lib/python3.6/dist-packages (from ipython->shap==0.29.3->-r requirements.txt (line 9)) (2.1.3)\n",
            "Requirement already satisfied: simplegeneric>0.8 in /usr/local/lib/python3.6/dist-packages (from ipython->shap==0.29.3->-r requirements.txt (line 9)) (0.8.1)\n",
            "Requirement already satisfied: traitlets>=4.2 in /usr/local/lib/python3.6/dist-packages (from ipython->shap==0.29.3->-r requirements.txt (line 9)) (4.3.2)\n",
            "Requirement already satisfied: networkx>=2.0 in /usr/local/lib/python3.6/dist-packages (from scikit-image->shap==0.29.3->-r requirements.txt (line 9)) (2.3)\n",
            "Requirement already satisfied: imageio>=2.0.1 in /usr/local/lib/python3.6/dist-packages (from scikit-image->shap==0.29.3->-r requirements.txt (line 9)) (2.4.1)\n",
            "Requirement already satisfied: pillow>=4.3.0 in /usr/local/lib/python3.6/dist-packages (from scikit-image->shap==0.29.3->-r requirements.txt (line 9)) (4.3.0)\n",
            "Requirement already satisfied: PyWavelets>=0.4.0 in /usr/local/lib/python3.6/dist-packages (from scikit-image->shap==0.29.3->-r requirements.txt (line 9)) (1.0.3)\n",
            "Requirement already satisfied: importlib-metadata>=0.12; python_version < \"3.8\" in /usr/local/lib/python3.6/dist-packages (from pytest>=4.0.2->phik>=0.9.8->pandas-profiling==2.3.0->-r requirements.txt (line 4)) (0.19)\n",
            "Requirement already satisfied: more-itertools>=4.0.0 in /usr/local/lib/python3.6/dist-packages (from pytest>=4.0.2->phik>=0.9.8->pandas-profiling==2.3.0->-r requirements.txt (line 4)) (7.2.0)\n",
            "Requirement already satisfied: packaging in /usr/local/lib/python3.6/dist-packages (from pytest>=4.0.2->phik>=0.9.8->pandas-profiling==2.3.0->-r requirements.txt (line 4)) (19.1)\n",
            "Requirement already satisfied: atomicwrites>=1.0 in /usr/local/lib/python3.6/dist-packages (from pytest>=4.0.2->phik>=0.9.8->pandas-profiling==2.3.0->-r requirements.txt (line 4)) (1.3.0)\n",
            "Requirement already satisfied: wcwidth in /usr/local/lib/python3.6/dist-packages (from pytest>=4.0.2->phik>=0.9.8->pandas-profiling==2.3.0->-r requirements.txt (line 4)) (0.1.7)\n",
            "Requirement already satisfied: py>=1.5.0 in /usr/local/lib/python3.6/dist-packages (from pytest>=4.0.2->phik>=0.9.8->pandas-profiling==2.3.0->-r requirements.txt (line 4)) (1.8.0)\n",
            "Requirement already satisfied: pluggy<1.0,>=0.12 in /usr/local/lib/python3.6/dist-packages (from pytest>=4.0.2->phik>=0.9.8->pandas-profiling==2.3.0->-r requirements.txt (line 4)) (0.12.0)\n",
            "Requirement already satisfied: entrypoints>=0.2.2 in /usr/local/lib/python3.6/dist-packages (from nbconvert>=5.3.1->phik>=0.9.8->pandas-profiling==2.3.0->-r requirements.txt (line 4)) (0.3)\n",
            "Requirement already satisfied: jupyter-core in /usr/local/lib/python3.6/dist-packages (from nbconvert>=5.3.1->phik>=0.9.8->pandas-profiling==2.3.0->-r requirements.txt (line 4)) (4.5.0)\n",
            "Requirement already satisfied: bleach in /usr/local/lib/python3.6/dist-packages (from nbconvert>=5.3.1->phik>=0.9.8->pandas-profiling==2.3.0->-r requirements.txt (line 4)) (3.1.0)\n",
            "Requirement already satisfied: mistune<2,>=0.8.1 in /usr/local/lib/python3.6/dist-packages (from nbconvert>=5.3.1->phik>=0.9.8->pandas-profiling==2.3.0->-r requirements.txt (line 4)) (0.8.4)\n",
            "Requirement already satisfied: pandocfilters>=1.4.1 in /usr/local/lib/python3.6/dist-packages (from nbconvert>=5.3.1->phik>=0.9.8->pandas-profiling==2.3.0->-r requirements.txt (line 4)) (1.4.2)\n",
            "Requirement already satisfied: nbformat>=4.4 in /usr/local/lib/python3.6/dist-packages (from nbconvert>=5.3.1->phik>=0.9.8->pandas-profiling==2.3.0->-r requirements.txt (line 4)) (4.4.0)\n",
            "Requirement already satisfied: defusedxml in /usr/local/lib/python3.6/dist-packages (from nbconvert>=5.3.1->phik>=0.9.8->pandas-profiling==2.3.0->-r requirements.txt (line 4)) (0.6.0)\n",
            "Requirement already satisfied: testpath in /usr/local/lib/python3.6/dist-packages (from nbconvert>=5.3.1->phik>=0.9.8->pandas-profiling==2.3.0->-r requirements.txt (line 4)) (0.4.2)\n",
            "Requirement already satisfied: pyzmq>=13 in /usr/local/lib/python3.6/dist-packages (from jupyter-client>=5.2.3->phik>=0.9.8->pandas-profiling==2.3.0->-r requirements.txt (line 4)) (17.0.0)\n",
            "Requirement already satisfied: tornado>=4.1 in /usr/local/lib/python3.6/dist-packages (from jupyter-client>=5.2.3->phik>=0.9.8->pandas-profiling==2.3.0->-r requirements.txt (line 4)) (4.5.3)\n",
            "Requirement already satisfied: pylint>=1.4.5 in /usr/local/lib/python3.6/dist-packages (from pytest-pylint>=0.13.0->phik>=0.9.8->pandas-profiling==2.3.0->-r requirements.txt (line 4)) (2.3.1)\n",
            "Requirement already satisfied: llvmlite>=0.25.0dev0 in /usr/local/lib/python3.6/dist-packages (from numba>=0.38.1->phik>=0.9.8->pandas-profiling==2.3.0->-r requirements.txt (line 4)) (0.29.0)\n",
            "Requirement already satisfied: ptyprocess>=0.5 in /usr/local/lib/python3.6/dist-packages (from pexpect; sys_platform != \"win32\"->ipython->shap==0.29.3->-r requirements.txt (line 9)) (0.6.0)\n",
            "Requirement already satisfied: ipython-genutils in /usr/local/lib/python3.6/dist-packages (from traitlets>=4.2->ipython->shap==0.29.3->-r requirements.txt (line 9)) (0.2.0)\n",
            "Requirement already satisfied: olefile in /usr/local/lib/python3.6/dist-packages (from pillow>=4.3.0->scikit-image->shap==0.29.3->-r requirements.txt (line 9)) (0.46)\n",
            "Requirement already satisfied: zipp>=0.5 in /usr/local/lib/python3.6/dist-packages (from importlib-metadata>=0.12; python_version < \"3.8\"->pytest>=4.0.2->phik>=0.9.8->pandas-profiling==2.3.0->-r requirements.txt (line 4)) (0.6.0)\n",
            "Requirement already satisfied: webencodings in /usr/local/lib/python3.6/dist-packages (from bleach->nbconvert>=5.3.1->phik>=0.9.8->pandas-profiling==2.3.0->-r requirements.txt (line 4)) (0.5.1)\n",
            "Requirement already satisfied: jsonschema!=2.5.0,>=2.4 in /usr/local/lib/python3.6/dist-packages (from nbformat>=4.4->nbconvert>=5.3.1->phik>=0.9.8->pandas-profiling==2.3.0->-r requirements.txt (line 4)) (2.6.0)\n",
            "Requirement already satisfied: isort<5,>=4.2.5 in /usr/local/lib/python3.6/dist-packages (from pylint>=1.4.5->pytest-pylint>=0.13.0->phik>=0.9.8->pandas-profiling==2.3.0->-r requirements.txt (line 4)) (4.3.21)\n",
            "Requirement already satisfied: astroid<3,>=2.2.0 in /usr/local/lib/python3.6/dist-packages (from pylint>=1.4.5->pytest-pylint>=0.13.0->phik>=0.9.8->pandas-profiling==2.3.0->-r requirements.txt (line 4)) (2.2.5)\n",
            "Requirement already satisfied: mccabe<0.7,>=0.6 in /usr/local/lib/python3.6/dist-packages (from pylint>=1.4.5->pytest-pylint>=0.13.0->phik>=0.9.8->pandas-profiling==2.3.0->-r requirements.txt (line 4)) (0.6.1)\n",
            "Requirement already satisfied: lazy-object-proxy in /usr/local/lib/python3.6/dist-packages (from astroid<3,>=2.2.0->pylint>=1.4.5->pytest-pylint>=0.13.0->phik>=0.9.8->pandas-profiling==2.3.0->-r requirements.txt (line 4)) (1.4.2)\n",
            "Requirement already satisfied: wrapt in /usr/local/lib/python3.6/dist-packages (from astroid<3,>=2.2.0->pylint>=1.4.5->pytest-pylint>=0.13.0->phik>=0.9.8->pandas-profiling==2.3.0->-r requirements.txt (line 4)) (1.11.2)\n",
            "Requirement already satisfied: typed-ast>=1.3.0; implementation_name == \"cpython\" in /usr/local/lib/python3.6/dist-packages (from astroid<3,>=2.2.0->pylint>=1.4.5->pytest-pylint>=0.13.0->phik>=0.9.8->pandas-profiling==2.3.0->-r requirements.txt (line 4)) (1.4.0)\n"
          ],
          "name": "stdout"
        }
      ]
    },
    {
      "cell_type": "code",
      "metadata": {
        "id": "bAmYnbqurzn_",
        "colab_type": "code",
        "colab": {}
      },
      "source": [
        "# Ignore this Numpy warning when using Plotly Express:\n",
        "# FutureWarning: Method .ptp is deprecated and will be removed in a future version. Use numpy.ptp instead.\n",
        "import warnings\n",
        "warnings.filterwarnings(action='ignore', category=FutureWarning, module='numpy')"
      ],
      "execution_count": 0,
      "outputs": []
    },
    {
      "cell_type": "markdown",
      "metadata": {
        "id": "qTMLR9JjmWuT",
        "colab_type": "text"
      },
      "source": [
        "# Go from simple regression (1 feature) to multiple regression (2+ features)"
      ]
    },
    {
      "cell_type": "markdown",
      "metadata": {
        "id": "ZLte4DsmmZgC",
        "colab_type": "text"
      },
      "source": [
        "## Overview: Predict Elections! 🗳️"
      ]
    },
    {
      "cell_type": "code",
      "metadata": {
        "id": "88JNPm46rzoD",
        "colab_type": "code",
        "colab": {
          "base_uri": "https://localhost:8080/",
          "height": 616
        },
        "outputId": "f0b3e948-b5a5-43f2-a307-1bfac2d2ef55"
      },
      "source": [
        "import pandas as pd\n",
        "import plotly.express as px\n",
        "\n",
        "df = pd.read_csv('../data/bread_peace_voting.csv')\n",
        "px.scatter(\n",
        "    df,\n",
        "    x='Average Recent Growth in Personal Incomes',\n",
        "    y='Incumbent Party Vote Share',\n",
        "    text='Year',\n",
        "    title='US Presidential Elections, 1952-2016',\n",
        "    trendline='ols',  # Ordinary Least Squares\n",
        ")"
      ],
      "execution_count": 11,
      "outputs": [
        {
          "output_type": "display_data",
          "data": {
            "text/html": [
              "<html>\n",
              "<head><meta charset=\"utf-8\" /></head>\n",
              "<body>\n",
              "    <div>\n",
              "            <script src=\"https://cdnjs.cloudflare.com/ajax/libs/mathjax/2.7.5/MathJax.js?config=TeX-AMS-MML_SVG\"></script><script type=\"text/javascript\">if (window.MathJax) {MathJax.Hub.Config({SVG: {font: \"STIX-Web\"}});}</script>\n",
              "                <script type=\"text/javascript\">window.PlotlyConfig = {MathJaxConfig: 'local'};</script>\n",
              "        <script src=\"https://cdn.plot.ly/plotly-latest.min.js\"></script>    \n",
              "            <div id=\"5493996a-c4fc-4d7f-807a-705a1dfa8c15\" class=\"plotly-graph-div\" style=\"height:600px; width:100%;\"></div>\n",
              "            <script type=\"text/javascript\">\n",
              "                \n",
              "                    window.PLOTLYENV=window.PLOTLYENV || {};\n",
              "                    \n",
              "                if (document.getElementById(\"5493996a-c4fc-4d7f-807a-705a1dfa8c15\")) {\n",
              "                    Plotly.newPlot(\n",
              "                        '5493996a-c4fc-4d7f-807a-705a1dfa8c15',\n",
              "                        [{\"hoverlabel\": {\"namelength\": 0}, \"hovertemplate\": \"Average Recent Growth in Personal Incomes=%{x}<br>Incumbent Party Vote Share=%{y}<br>Year=%{text}\", \"legendgroup\": \"\", \"marker\": {\"color\": \"#636efa\", \"symbol\": \"circle\"}, \"mode\": \"markers+text\", \"name\": \"\", \"showlegend\": false, \"text\": [1952.0, 1956.0, 1960.0, 1964.0, 1968.0, 1972.0, 1976.0, 1980.0, 1984.0, 1988.0, 1992.0, 1996.0, 2000.0, 2004.0, 2008.0, 2012.0, 2016.0], \"type\": \"scatter\", \"x\": [2.4, 2.89, 0.85, 4.21, 3.02, 3.62, 1.08, -0.39, 3.86, 2.27, 0.38, 1.04, 2.36, 1.72, 0.1, 0.95, 0.1], \"xaxis\": \"x\", \"y\": [44.6, 57.76, 49.91, 61.34, 49.6, 61.79, 48.95, 44.7, 59.17, 53.94, 46.55, 54.74, 50.27, 51.24, 46.32, 52.0, 48.2], \"yaxis\": \"y\"}, {\"hoverlabel\": {\"namelength\": 0}, \"hovertemplate\": \"<b>OLS trendline</b><br>Incumbent Party Vote Share = 2.974177 * Average Recent Growth in Personal Incomes + 46.499210<br>R<sup>2</sup>=0.587186<br><br>Average Recent Growth in Personal Incomes=%{x}<br>Incumbent Party Vote Share=%{y} <b>(trend)</b>\", \"legendgroup\": \"\", \"marker\": {\"color\": \"#636efa\", \"symbol\": \"circle\"}, \"mode\": \"lines\", \"name\": \"\", \"showlegend\": false, \"type\": \"scatter\", \"x\": [-0.39, 0.1, 0.1, 0.38, 0.85, 0.95, 1.04, 1.08, 1.72, 2.27, 2.36, 2.4, 2.89, 3.02, 3.62, 3.86, 4.21], \"xaxis\": \"x\", \"y\": [45.33928069319227, 46.79662746660043, 46.79662746660043, 47.629397051405086, 49.02726028304147, 49.32467799190028, 49.592353929873205, 49.71132101341673, 51.614794350113094, 53.25059174883653, 53.51826768680945, 53.637234770352975, 55.09458154376113, 55.48122456527758, 57.26573081843042, 57.979533319691555, 59.02049530069738], \"yaxis\": \"y\"}],\n",
              "                        {\"height\": 600, \"legend\": {\"tracegroupgap\": 0}, \"template\": {\"data\": {\"bar\": [{\"error_x\": {\"color\": \"#2a3f5f\"}, \"error_y\": {\"color\": \"#2a3f5f\"}, \"marker\": {\"line\": {\"color\": \"#E5ECF6\", \"width\": 0.5}}, \"type\": \"bar\"}], \"barpolar\": [{\"marker\": {\"line\": {\"color\": \"#E5ECF6\", \"width\": 0.5}}, \"type\": \"barpolar\"}], \"carpet\": [{\"aaxis\": {\"endlinecolor\": \"#2a3f5f\", \"gridcolor\": \"white\", \"linecolor\": \"white\", \"minorgridcolor\": \"white\", \"startlinecolor\": \"#2a3f5f\"}, \"baxis\": {\"endlinecolor\": \"#2a3f5f\", \"gridcolor\": \"white\", \"linecolor\": \"white\", \"minorgridcolor\": \"white\", \"startlinecolor\": \"#2a3f5f\"}, \"type\": \"carpet\"}], \"choropleth\": [{\"colorbar\": {\"outlinewidth\": 0, \"ticks\": \"\"}, \"type\": \"choropleth\"}], \"contour\": [{\"colorbar\": {\"outlinewidth\": 0, \"ticks\": \"\"}, \"colorscale\": [[0.0, \"#0d0887\"], [0.1111111111111111, \"#46039f\"], [0.2222222222222222, \"#7201a8\"], [0.3333333333333333, \"#9c179e\"], [0.4444444444444444, \"#bd3786\"], [0.5555555555555556, \"#d8576b\"], [0.6666666666666666, \"#ed7953\"], [0.7777777777777778, \"#fb9f3a\"], [0.8888888888888888, \"#fdca26\"], [1.0, \"#f0f921\"]], \"type\": \"contour\"}], \"contourcarpet\": [{\"colorbar\": {\"outlinewidth\": 0, \"ticks\": \"\"}, \"type\": \"contourcarpet\"}], \"heatmap\": [{\"colorbar\": {\"outlinewidth\": 0, \"ticks\": \"\"}, \"colorscale\": [[0.0, \"#0d0887\"], [0.1111111111111111, \"#46039f\"], [0.2222222222222222, \"#7201a8\"], [0.3333333333333333, \"#9c179e\"], [0.4444444444444444, \"#bd3786\"], [0.5555555555555556, \"#d8576b\"], [0.6666666666666666, \"#ed7953\"], [0.7777777777777778, \"#fb9f3a\"], [0.8888888888888888, \"#fdca26\"], [1.0, \"#f0f921\"]], \"type\": \"heatmap\"}], \"heatmapgl\": [{\"colorbar\": {\"outlinewidth\": 0, \"ticks\": \"\"}, \"colorscale\": [[0.0, \"#0d0887\"], [0.1111111111111111, \"#46039f\"], [0.2222222222222222, \"#7201a8\"], [0.3333333333333333, \"#9c179e\"], [0.4444444444444444, \"#bd3786\"], [0.5555555555555556, \"#d8576b\"], [0.6666666666666666, \"#ed7953\"], [0.7777777777777778, \"#fb9f3a\"], [0.8888888888888888, \"#fdca26\"], [1.0, \"#f0f921\"]], \"type\": \"heatmapgl\"}], \"histogram\": [{\"marker\": {\"colorbar\": {\"outlinewidth\": 0, \"ticks\": \"\"}}, \"type\": \"histogram\"}], \"histogram2d\": [{\"colorbar\": {\"outlinewidth\": 0, \"ticks\": \"\"}, \"colorscale\": [[0.0, \"#0d0887\"], [0.1111111111111111, \"#46039f\"], [0.2222222222222222, \"#7201a8\"], [0.3333333333333333, \"#9c179e\"], [0.4444444444444444, \"#bd3786\"], [0.5555555555555556, \"#d8576b\"], [0.6666666666666666, \"#ed7953\"], [0.7777777777777778, \"#fb9f3a\"], [0.8888888888888888, \"#fdca26\"], [1.0, \"#f0f921\"]], \"type\": \"histogram2d\"}], \"histogram2dcontour\": [{\"colorbar\": {\"outlinewidth\": 0, \"ticks\": \"\"}, \"colorscale\": [[0.0, \"#0d0887\"], [0.1111111111111111, \"#46039f\"], [0.2222222222222222, \"#7201a8\"], [0.3333333333333333, \"#9c179e\"], [0.4444444444444444, \"#bd3786\"], [0.5555555555555556, \"#d8576b\"], [0.6666666666666666, \"#ed7953\"], [0.7777777777777778, \"#fb9f3a\"], [0.8888888888888888, \"#fdca26\"], [1.0, \"#f0f921\"]], \"type\": \"histogram2dcontour\"}], \"mesh3d\": [{\"colorbar\": {\"outlinewidth\": 0, \"ticks\": \"\"}, \"type\": \"mesh3d\"}], \"parcoords\": [{\"line\": {\"colorbar\": {\"outlinewidth\": 0, \"ticks\": \"\"}}, \"type\": \"parcoords\"}], \"scatter\": [{\"marker\": {\"colorbar\": {\"outlinewidth\": 0, \"ticks\": \"\"}}, \"type\": \"scatter\"}], \"scatter3d\": [{\"line\": {\"colorbar\": {\"outlinewidth\": 0, \"ticks\": \"\"}}, \"marker\": {\"colorbar\": {\"outlinewidth\": 0, \"ticks\": \"\"}}, \"type\": \"scatter3d\"}], \"scattercarpet\": [{\"marker\": {\"colorbar\": {\"outlinewidth\": 0, \"ticks\": \"\"}}, \"type\": \"scattercarpet\"}], \"scattergeo\": [{\"marker\": {\"colorbar\": {\"outlinewidth\": 0, \"ticks\": \"\"}}, \"type\": \"scattergeo\"}], \"scattergl\": [{\"marker\": {\"colorbar\": {\"outlinewidth\": 0, \"ticks\": \"\"}}, \"type\": \"scattergl\"}], \"scattermapbox\": [{\"marker\": {\"colorbar\": {\"outlinewidth\": 0, \"ticks\": \"\"}}, \"type\": \"scattermapbox\"}], \"scatterpolar\": [{\"marker\": {\"colorbar\": {\"outlinewidth\": 0, \"ticks\": \"\"}}, \"type\": \"scatterpolar\"}], \"scatterpolargl\": [{\"marker\": {\"colorbar\": {\"outlinewidth\": 0, \"ticks\": \"\"}}, \"type\": \"scatterpolargl\"}], \"scatterternary\": [{\"marker\": {\"colorbar\": {\"outlinewidth\": 0, \"ticks\": \"\"}}, \"type\": \"scatterternary\"}], \"surface\": [{\"colorbar\": {\"outlinewidth\": 0, \"ticks\": \"\"}, \"colorscale\": [[0.0, \"#0d0887\"], [0.1111111111111111, \"#46039f\"], [0.2222222222222222, \"#7201a8\"], [0.3333333333333333, \"#9c179e\"], [0.4444444444444444, \"#bd3786\"], [0.5555555555555556, \"#d8576b\"], [0.6666666666666666, \"#ed7953\"], [0.7777777777777778, \"#fb9f3a\"], [0.8888888888888888, \"#fdca26\"], [1.0, \"#f0f921\"]], \"type\": \"surface\"}], \"table\": [{\"cells\": {\"fill\": {\"color\": \"#EBF0F8\"}, \"line\": {\"color\": \"white\"}}, \"header\": {\"fill\": {\"color\": \"#C8D4E3\"}, \"line\": {\"color\": \"white\"}}, \"type\": \"table\"}]}, \"layout\": {\"annotationdefaults\": {\"arrowcolor\": \"#2a3f5f\", \"arrowhead\": 0, \"arrowwidth\": 1}, \"colorscale\": {\"diverging\": [[0, \"#8e0152\"], [0.1, \"#c51b7d\"], [0.2, \"#de77ae\"], [0.3, \"#f1b6da\"], [0.4, \"#fde0ef\"], [0.5, \"#f7f7f7\"], [0.6, \"#e6f5d0\"], [0.7, \"#b8e186\"], [0.8, \"#7fbc41\"], [0.9, \"#4d9221\"], [1, \"#276419\"]], \"sequential\": [[0.0, \"#0d0887\"], [0.1111111111111111, \"#46039f\"], [0.2222222222222222, \"#7201a8\"], [0.3333333333333333, \"#9c179e\"], [0.4444444444444444, \"#bd3786\"], [0.5555555555555556, \"#d8576b\"], [0.6666666666666666, \"#ed7953\"], [0.7777777777777778, \"#fb9f3a\"], [0.8888888888888888, \"#fdca26\"], [1.0, \"#f0f921\"]], \"sequentialminus\": [[0.0, \"#0d0887\"], [0.1111111111111111, \"#46039f\"], [0.2222222222222222, \"#7201a8\"], [0.3333333333333333, \"#9c179e\"], [0.4444444444444444, \"#bd3786\"], [0.5555555555555556, \"#d8576b\"], [0.6666666666666666, \"#ed7953\"], [0.7777777777777778, \"#fb9f3a\"], [0.8888888888888888, \"#fdca26\"], [1.0, \"#f0f921\"]]}, \"colorway\": [\"#636efa\", \"#EF553B\", \"#00cc96\", \"#ab63fa\", \"#FFA15A\", \"#19d3f3\", \"#FF6692\", \"#B6E880\", \"#FF97FF\", \"#FECB52\"], \"font\": {\"color\": \"#2a3f5f\"}, \"geo\": {\"bgcolor\": \"white\", \"lakecolor\": \"white\", \"landcolor\": \"#E5ECF6\", \"showlakes\": true, \"showland\": true, \"subunitcolor\": \"white\"}, \"hoverlabel\": {\"align\": \"left\"}, \"hovermode\": \"closest\", \"mapbox\": {\"style\": \"light\"}, \"paper_bgcolor\": \"white\", \"plot_bgcolor\": \"#E5ECF6\", \"polar\": {\"angularaxis\": {\"gridcolor\": \"white\", \"linecolor\": \"white\", \"ticks\": \"\"}, \"bgcolor\": \"#E5ECF6\", \"radialaxis\": {\"gridcolor\": \"white\", \"linecolor\": \"white\", \"ticks\": \"\"}}, \"scene\": {\"xaxis\": {\"backgroundcolor\": \"#E5ECF6\", \"gridcolor\": \"white\", \"gridwidth\": 2, \"linecolor\": \"white\", \"showbackground\": true, \"ticks\": \"\", \"zerolinecolor\": \"white\"}, \"yaxis\": {\"backgroundcolor\": \"#E5ECF6\", \"gridcolor\": \"white\", \"gridwidth\": 2, \"linecolor\": \"white\", \"showbackground\": true, \"ticks\": \"\", \"zerolinecolor\": \"white\"}, \"zaxis\": {\"backgroundcolor\": \"#E5ECF6\", \"gridcolor\": \"white\", \"gridwidth\": 2, \"linecolor\": \"white\", \"showbackground\": true, \"ticks\": \"\", \"zerolinecolor\": \"white\"}}, \"shapedefaults\": {\"line\": {\"color\": \"#2a3f5f\"}}, \"ternary\": {\"aaxis\": {\"gridcolor\": \"white\", \"linecolor\": \"white\", \"ticks\": \"\"}, \"baxis\": {\"gridcolor\": \"white\", \"linecolor\": \"white\", \"ticks\": \"\"}, \"bgcolor\": \"#E5ECF6\", \"caxis\": {\"gridcolor\": \"white\", \"linecolor\": \"white\", \"ticks\": \"\"}}, \"title\": {\"x\": 0.05}, \"xaxis\": {\"automargin\": true, \"gridcolor\": \"white\", \"linecolor\": \"white\", \"ticks\": \"\", \"zerolinecolor\": \"white\", \"zerolinewidth\": 2}, \"yaxis\": {\"automargin\": true, \"gridcolor\": \"white\", \"linecolor\": \"white\", \"ticks\": \"\", \"zerolinecolor\": \"white\", \"zerolinewidth\": 2}}}, \"title\": {\"text\": \"US Presidential Elections, 1952-2016\"}, \"xaxis\": {\"anchor\": \"y\", \"domain\": [0.0, 0.98], \"title\": {\"text\": \"Average Recent Growth in Personal Incomes\"}}, \"yaxis\": {\"anchor\": \"x\", \"domain\": [0.0, 1.0], \"title\": {\"text\": \"Incumbent Party Vote Share\"}}},\n",
              "                        {\"responsive\": true}\n",
              "                    ).then(function(){\n",
              "                            \n",
              "var gd = document.getElementById('5493996a-c4fc-4d7f-807a-705a1dfa8c15');\n",
              "var x = new MutationObserver(function (mutations, observer) {{\n",
              "        var display = window.getComputedStyle(gd).display;\n",
              "        if (!display || display === 'none') {{\n",
              "            console.log([gd, 'removed!']);\n",
              "            Plotly.purge(gd);\n",
              "            observer.disconnect();\n",
              "        }}\n",
              "}});\n",
              "\n",
              "// Listen for the removal of the full notebook cells\n",
              "var notebookContainer = gd.closest('#notebook-container');\n",
              "if (notebookContainer) {{\n",
              "    x.observe(notebookContainer, {childList: true});\n",
              "}}\n",
              "\n",
              "// Listen for the clearing of the current output cell\n",
              "var outputEl = gd.closest('.output');\n",
              "if (outputEl) {{\n",
              "    x.observe(outputEl, {childList: true});\n",
              "}}\n",
              "\n",
              "                        })\n",
              "                };\n",
              "                \n",
              "            </script>\n",
              "        </div>\n",
              "</body>\n",
              "</html>"
            ]
          },
          "metadata": {
            "tags": []
          }
        }
      ]
    },
    {
      "cell_type": "markdown",
      "metadata": {
        "id": "j0pqeNP6rzoF",
        "colab_type": "text"
      },
      "source": [
        "#### Douglas Hibbs, [Background Information on the ‘Bread and Peace’ Model of Voting in Postwar US Presidential Elections](https://douglas-hibbs.com/background-information-on-bread-and-peace-voting-in-us-presidential-elections/)\n",
        "\n",
        "> Aggregate two-party vote shares going to candidates of the party holding the presidency during the postwar era are well explained by just two fundamental determinants:\n",
        "\n",
        "> (1) Positively by weighted-average growth of per capita real disposable personal income over the term.  \n",
        "> (2) Negatively by cumulative US military fatalities (scaled to population) owing to unprovoked, hostile deployments of American armed forces in foreign wars.\n",
        "\n",
        "#### Data sources\n",
        "- 1952-2012: Douglas Hibbs, [2014 lecture at Deakin University Melbourne](http://www.douglas-hibbs.com/HibbsArticles/HIBBS-PRESVOTE-SLIDES-MELBOURNE-Part1-2014-02-26.pdf), Slide 40\n",
        "- 2016, Vote Share: [The American Presidency Project](https://www.presidency.ucsb.edu/statistics/elections)\n",
        "- 2016, Recent Growth in Personal Incomes: [The 2016 election economy: the \"Bread and Peace\" model final forecast](https://angrybearblog.com/2016/11/the-2016-election-economy-the-bread-and-peace-model-final-forecast.html)\n",
        "- 2016, US Military Fatalities: Assumption that Afghanistan War fatalities in 2012-16 occured at the same rate as 2008-12\n",
        "\n",
        "> Fatalities denotes the cumulative number of American military fatalities per millions of US population the in Korea, Vietnam, Iraq and Afghanistan wars during the presidential terms preceding the 1952, 1964, 1968, 1976 and 2004, 2008 and 2012 elections. —[Hibbs](http://www.douglas-hibbs.com/HibbsArticles/HIBBS-PRESVOTE-SLIDES-MELBOURNE-Part1-2014-02-26.pdf), Slide 33"
      ]
    },
    {
      "cell_type": "markdown",
      "metadata": {
        "id": "_9grxlv2tzDQ",
        "colab_type": "text"
      },
      "source": [
        "## Follow Along"
      ]
    },
    {
      "cell_type": "markdown",
      "metadata": {
        "id": "xNDqNff_0N6m",
        "colab_type": "text"
      },
      "source": [
        "Look at the data"
      ]
    },
    {
      "cell_type": "code",
      "metadata": {
        "id": "VRh-FSMTrzoG",
        "colab_type": "code",
        "colab": {
          "base_uri": "https://localhost:8080/",
          "height": 557
        },
        "outputId": "a9a54cc1-1c45-4e0c-aef7-521ac98fa4c2"
      },
      "source": [
        "df"
      ],
      "execution_count": 12,
      "outputs": [
        {
          "output_type": "execute_result",
          "data": {
            "text/html": [
              "<div>\n",
              "<style scoped>\n",
              "    .dataframe tbody tr th:only-of-type {\n",
              "        vertical-align: middle;\n",
              "    }\n",
              "\n",
              "    .dataframe tbody tr th {\n",
              "        vertical-align: top;\n",
              "    }\n",
              "\n",
              "    .dataframe thead th {\n",
              "        text-align: right;\n",
              "    }\n",
              "</style>\n",
              "<table border=\"1\" class=\"dataframe\">\n",
              "  <thead>\n",
              "    <tr style=\"text-align: right;\">\n",
              "      <th></th>\n",
              "      <th>Year</th>\n",
              "      <th>Incumbent Party Candidate</th>\n",
              "      <th>Other Candidate</th>\n",
              "      <th>Average Recent Growth in Personal Incomes</th>\n",
              "      <th>US Military Fatalities per Million</th>\n",
              "      <th>Incumbent Party Vote Share</th>\n",
              "    </tr>\n",
              "  </thead>\n",
              "  <tbody>\n",
              "    <tr>\n",
              "      <th>0</th>\n",
              "      <td>1952</td>\n",
              "      <td>Stevenson</td>\n",
              "      <td>Eisenhower</td>\n",
              "      <td>2.40</td>\n",
              "      <td>190</td>\n",
              "      <td>44.60</td>\n",
              "    </tr>\n",
              "    <tr>\n",
              "      <th>1</th>\n",
              "      <td>1956</td>\n",
              "      <td>Eisenhower</td>\n",
              "      <td>Stevenson</td>\n",
              "      <td>2.89</td>\n",
              "      <td>0</td>\n",
              "      <td>57.76</td>\n",
              "    </tr>\n",
              "    <tr>\n",
              "      <th>2</th>\n",
              "      <td>1960</td>\n",
              "      <td>Nixon</td>\n",
              "      <td>Kennedy</td>\n",
              "      <td>0.85</td>\n",
              "      <td>0</td>\n",
              "      <td>49.91</td>\n",
              "    </tr>\n",
              "    <tr>\n",
              "      <th>3</th>\n",
              "      <td>1964</td>\n",
              "      <td>Johnson</td>\n",
              "      <td>Goldwater</td>\n",
              "      <td>4.21</td>\n",
              "      <td>1</td>\n",
              "      <td>61.34</td>\n",
              "    </tr>\n",
              "    <tr>\n",
              "      <th>4</th>\n",
              "      <td>1968</td>\n",
              "      <td>Humphrey</td>\n",
              "      <td>Nixon</td>\n",
              "      <td>3.02</td>\n",
              "      <td>146</td>\n",
              "      <td>49.60</td>\n",
              "    </tr>\n",
              "    <tr>\n",
              "      <th>5</th>\n",
              "      <td>1972</td>\n",
              "      <td>Nixon</td>\n",
              "      <td>McGovern</td>\n",
              "      <td>3.62</td>\n",
              "      <td>0</td>\n",
              "      <td>61.79</td>\n",
              "    </tr>\n",
              "    <tr>\n",
              "      <th>6</th>\n",
              "      <td>1976</td>\n",
              "      <td>Ford</td>\n",
              "      <td>Carter</td>\n",
              "      <td>1.08</td>\n",
              "      <td>2</td>\n",
              "      <td>48.95</td>\n",
              "    </tr>\n",
              "    <tr>\n",
              "      <th>7</th>\n",
              "      <td>1980</td>\n",
              "      <td>Carter</td>\n",
              "      <td>Reagan</td>\n",
              "      <td>-0.39</td>\n",
              "      <td>0</td>\n",
              "      <td>44.70</td>\n",
              "    </tr>\n",
              "    <tr>\n",
              "      <th>8</th>\n",
              "      <td>1984</td>\n",
              "      <td>Reagan</td>\n",
              "      <td>Mondale</td>\n",
              "      <td>3.86</td>\n",
              "      <td>0</td>\n",
              "      <td>59.17</td>\n",
              "    </tr>\n",
              "    <tr>\n",
              "      <th>9</th>\n",
              "      <td>1988</td>\n",
              "      <td>Bush, Sr.</td>\n",
              "      <td>Dukakis</td>\n",
              "      <td>2.27</td>\n",
              "      <td>0</td>\n",
              "      <td>53.94</td>\n",
              "    </tr>\n",
              "    <tr>\n",
              "      <th>10</th>\n",
              "      <td>1992</td>\n",
              "      <td>Bush, Sr.</td>\n",
              "      <td>Clinton</td>\n",
              "      <td>0.38</td>\n",
              "      <td>0</td>\n",
              "      <td>46.55</td>\n",
              "    </tr>\n",
              "    <tr>\n",
              "      <th>11</th>\n",
              "      <td>1996</td>\n",
              "      <td>Clinton</td>\n",
              "      <td>Dole</td>\n",
              "      <td>1.04</td>\n",
              "      <td>0</td>\n",
              "      <td>54.74</td>\n",
              "    </tr>\n",
              "    <tr>\n",
              "      <th>12</th>\n",
              "      <td>2000</td>\n",
              "      <td>Gore</td>\n",
              "      <td>Bush, Jr.</td>\n",
              "      <td>2.36</td>\n",
              "      <td>0</td>\n",
              "      <td>50.27</td>\n",
              "    </tr>\n",
              "    <tr>\n",
              "      <th>13</th>\n",
              "      <td>2004</td>\n",
              "      <td>Bush, Jr.</td>\n",
              "      <td>Kerry</td>\n",
              "      <td>1.72</td>\n",
              "      <td>4</td>\n",
              "      <td>51.24</td>\n",
              "    </tr>\n",
              "    <tr>\n",
              "      <th>14</th>\n",
              "      <td>2008</td>\n",
              "      <td>McCain</td>\n",
              "      <td>Obama</td>\n",
              "      <td>0.10</td>\n",
              "      <td>14</td>\n",
              "      <td>46.32</td>\n",
              "    </tr>\n",
              "    <tr>\n",
              "      <th>15</th>\n",
              "      <td>2012</td>\n",
              "      <td>Obama</td>\n",
              "      <td>Romney</td>\n",
              "      <td>0.95</td>\n",
              "      <td>5</td>\n",
              "      <td>52.00</td>\n",
              "    </tr>\n",
              "    <tr>\n",
              "      <th>16</th>\n",
              "      <td>2016</td>\n",
              "      <td>Clinton</td>\n",
              "      <td>Trump</td>\n",
              "      <td>0.10</td>\n",
              "      <td>5</td>\n",
              "      <td>48.20</td>\n",
              "    </tr>\n",
              "  </tbody>\n",
              "</table>\n",
              "</div>"
            ],
            "text/plain": [
              "    Year  ... Incumbent Party Vote Share\n",
              "0   1952  ...                      44.60\n",
              "1   1956  ...                      57.76\n",
              "2   1960  ...                      49.91\n",
              "3   1964  ...                      61.34\n",
              "4   1968  ...                      49.60\n",
              "5   1972  ...                      61.79\n",
              "6   1976  ...                      48.95\n",
              "7   1980  ...                      44.70\n",
              "8   1984  ...                      59.17\n",
              "9   1988  ...                      53.94\n",
              "10  1992  ...                      46.55\n",
              "11  1996  ...                      54.74\n",
              "12  2000  ...                      50.27\n",
              "13  2004  ...                      51.24\n",
              "14  2008  ...                      46.32\n",
              "15  2012  ...                      52.00\n",
              "16  2016  ...                      48.20\n",
              "\n",
              "[17 rows x 6 columns]"
            ]
          },
          "metadata": {
            "tags": []
          },
          "execution_count": 12
        }
      ]
    },
    {
      "cell_type": "markdown",
      "metadata": {
        "id": "d_0nPUcQ0RpB",
        "colab_type": "text"
      },
      "source": [
        "What's the average Incumbent Party Vote Share?"
      ]
    },
    {
      "cell_type": "code",
      "metadata": {
        "id": "mjm2CBV1ty35",
        "colab_type": "code",
        "colab": {
          "base_uri": "https://localhost:8080/",
          "height": 34
        },
        "outputId": "45417884-3134-4bad-c835-c34da5a697e4"
      },
      "source": [
        "df['Incumbent Party Vote Share'].mean()"
      ],
      "execution_count": 13,
      "outputs": [
        {
          "output_type": "execute_result",
          "data": {
            "text/plain": [
              "51.82823529411765"
            ]
          },
          "metadata": {
            "tags": []
          },
          "execution_count": 13
        }
      ]
    },
    {
      "cell_type": "markdown",
      "metadata": {
        "id": "H9fEbVTE0ZMe",
        "colab_type": "text"
      },
      "source": [
        "Add another feature to the scatterplot"
      ]
    },
    {
      "cell_type": "code",
      "metadata": {
        "id": "XWNNK5r-t_pF",
        "colab_type": "code",
        "colab": {
          "base_uri": "https://localhost:8080/",
          "height": 616
        },
        "outputId": "1565bbb8-2b9e-458f-910b-eae48079e904"
      },
      "source": [
        "px.scatter_3d(df,x='Average Recent Growth in Personal Incomes',\n",
        "                 y='US Military Fatalities per Million',\n",
        "                 z='Incumbent Party Vote Share',\n",
        "                 text='Year',\n",
        "                 title='US Presidential Elections, 1952-2016')"
      ],
      "execution_count": 14,
      "outputs": [
        {
          "output_type": "display_data",
          "data": {
            "text/html": [
              "<html>\n",
              "<head><meta charset=\"utf-8\" /></head>\n",
              "<body>\n",
              "    <div>\n",
              "            <script src=\"https://cdnjs.cloudflare.com/ajax/libs/mathjax/2.7.5/MathJax.js?config=TeX-AMS-MML_SVG\"></script><script type=\"text/javascript\">if (window.MathJax) {MathJax.Hub.Config({SVG: {font: \"STIX-Web\"}});}</script>\n",
              "                <script type=\"text/javascript\">window.PlotlyConfig = {MathJaxConfig: 'local'};</script>\n",
              "        <script src=\"https://cdn.plot.ly/plotly-latest.min.js\"></script>    \n",
              "            <div id=\"bc506a7e-7724-454d-82ee-938f62b2ccf6\" class=\"plotly-graph-div\" style=\"height:600px; width:100%;\"></div>\n",
              "            <script type=\"text/javascript\">\n",
              "                \n",
              "                    window.PLOTLYENV=window.PLOTLYENV || {};\n",
              "                    \n",
              "                if (document.getElementById(\"bc506a7e-7724-454d-82ee-938f62b2ccf6\")) {\n",
              "                    Plotly.newPlot(\n",
              "                        'bc506a7e-7724-454d-82ee-938f62b2ccf6',\n",
              "                        [{\"hoverlabel\": {\"namelength\": 0}, \"hovertemplate\": \"Average Recent Growth in Personal Incomes=%{x}<br>US Military Fatalities per Million=%{y}<br>Incumbent Party Vote Share=%{z}<br>Year=%{text}\", \"legendgroup\": \"\", \"marker\": {\"color\": \"#636efa\", \"symbol\": \"circle\"}, \"mode\": \"markers+text\", \"name\": \"\", \"scene\": \"scene\", \"showlegend\": false, \"text\": [1952.0, 1956.0, 1960.0, 1964.0, 1968.0, 1972.0, 1976.0, 1980.0, 1984.0, 1988.0, 1992.0, 1996.0, 2000.0, 2004.0, 2008.0, 2012.0, 2016.0], \"type\": \"scatter3d\", \"x\": [2.4, 2.89, 0.85, 4.21, 3.02, 3.62, 1.08, -0.39, 3.86, 2.27, 0.38, 1.04, 2.36, 1.72, 0.1, 0.95, 0.1], \"y\": [190, 0, 0, 1, 146, 0, 2, 0, 0, 0, 0, 0, 0, 4, 14, 5, 5], \"z\": [44.6, 57.76, 49.91, 61.34, 49.6, 61.79, 48.95, 44.7, 59.17, 53.94, 46.55, 54.74, 50.27, 51.24, 46.32, 52.0, 48.2]}],\n",
              "                        {\"height\": 600, \"legend\": {\"tracegroupgap\": 0}, \"scene\": {\"domain\": {\"x\": [0.0, 0.98], \"y\": [0.0, 1.0]}, \"xaxis\": {\"title\": {\"text\": \"Average Recent Growth in Personal Incomes\"}}, \"yaxis\": {\"title\": {\"text\": \"US Military Fatalities per Million\"}}, \"zaxis\": {\"title\": {\"text\": \"Incumbent Party Vote Share\"}}}, \"template\": {\"data\": {\"bar\": [{\"error_x\": {\"color\": \"#2a3f5f\"}, \"error_y\": {\"color\": \"#2a3f5f\"}, \"marker\": {\"line\": {\"color\": \"#E5ECF6\", \"width\": 0.5}}, \"type\": \"bar\"}], \"barpolar\": [{\"marker\": {\"line\": {\"color\": \"#E5ECF6\", \"width\": 0.5}}, \"type\": \"barpolar\"}], \"carpet\": [{\"aaxis\": {\"endlinecolor\": \"#2a3f5f\", \"gridcolor\": \"white\", \"linecolor\": \"white\", \"minorgridcolor\": \"white\", \"startlinecolor\": \"#2a3f5f\"}, \"baxis\": {\"endlinecolor\": \"#2a3f5f\", \"gridcolor\": \"white\", \"linecolor\": \"white\", \"minorgridcolor\": \"white\", \"startlinecolor\": \"#2a3f5f\"}, \"type\": \"carpet\"}], \"choropleth\": [{\"colorbar\": {\"outlinewidth\": 0, \"ticks\": \"\"}, \"type\": \"choropleth\"}], \"contour\": [{\"colorbar\": {\"outlinewidth\": 0, \"ticks\": \"\"}, \"colorscale\": [[0.0, \"#0d0887\"], [0.1111111111111111, \"#46039f\"], [0.2222222222222222, \"#7201a8\"], [0.3333333333333333, \"#9c179e\"], [0.4444444444444444, \"#bd3786\"], [0.5555555555555556, \"#d8576b\"], [0.6666666666666666, \"#ed7953\"], [0.7777777777777778, \"#fb9f3a\"], [0.8888888888888888, \"#fdca26\"], [1.0, \"#f0f921\"]], \"type\": \"contour\"}], \"contourcarpet\": [{\"colorbar\": {\"outlinewidth\": 0, \"ticks\": \"\"}, \"type\": \"contourcarpet\"}], \"heatmap\": [{\"colorbar\": {\"outlinewidth\": 0, \"ticks\": \"\"}, \"colorscale\": [[0.0, \"#0d0887\"], [0.1111111111111111, \"#46039f\"], [0.2222222222222222, \"#7201a8\"], [0.3333333333333333, \"#9c179e\"], [0.4444444444444444, \"#bd3786\"], [0.5555555555555556, \"#d8576b\"], [0.6666666666666666, \"#ed7953\"], [0.7777777777777778, \"#fb9f3a\"], [0.8888888888888888, \"#fdca26\"], [1.0, \"#f0f921\"]], \"type\": \"heatmap\"}], \"heatmapgl\": [{\"colorbar\": {\"outlinewidth\": 0, \"ticks\": \"\"}, \"colorscale\": [[0.0, \"#0d0887\"], [0.1111111111111111, \"#46039f\"], [0.2222222222222222, \"#7201a8\"], [0.3333333333333333, \"#9c179e\"], [0.4444444444444444, \"#bd3786\"], [0.5555555555555556, \"#d8576b\"], [0.6666666666666666, \"#ed7953\"], [0.7777777777777778, \"#fb9f3a\"], [0.8888888888888888, \"#fdca26\"], [1.0, \"#f0f921\"]], \"type\": \"heatmapgl\"}], \"histogram\": [{\"marker\": {\"colorbar\": {\"outlinewidth\": 0, \"ticks\": \"\"}}, \"type\": \"histogram\"}], \"histogram2d\": [{\"colorbar\": {\"outlinewidth\": 0, \"ticks\": \"\"}, \"colorscale\": [[0.0, \"#0d0887\"], [0.1111111111111111, \"#46039f\"], [0.2222222222222222, \"#7201a8\"], [0.3333333333333333, \"#9c179e\"], [0.4444444444444444, \"#bd3786\"], [0.5555555555555556, \"#d8576b\"], [0.6666666666666666, \"#ed7953\"], [0.7777777777777778, \"#fb9f3a\"], [0.8888888888888888, \"#fdca26\"], [1.0, \"#f0f921\"]], \"type\": \"histogram2d\"}], \"histogram2dcontour\": [{\"colorbar\": {\"outlinewidth\": 0, \"ticks\": \"\"}, \"colorscale\": [[0.0, \"#0d0887\"], [0.1111111111111111, \"#46039f\"], [0.2222222222222222, \"#7201a8\"], [0.3333333333333333, \"#9c179e\"], [0.4444444444444444, \"#bd3786\"], [0.5555555555555556, \"#d8576b\"], [0.6666666666666666, \"#ed7953\"], [0.7777777777777778, \"#fb9f3a\"], [0.8888888888888888, \"#fdca26\"], [1.0, \"#f0f921\"]], \"type\": \"histogram2dcontour\"}], \"mesh3d\": [{\"colorbar\": {\"outlinewidth\": 0, \"ticks\": \"\"}, \"type\": \"mesh3d\"}], \"parcoords\": [{\"line\": {\"colorbar\": {\"outlinewidth\": 0, \"ticks\": \"\"}}, \"type\": \"parcoords\"}], \"scatter\": [{\"marker\": {\"colorbar\": {\"outlinewidth\": 0, \"ticks\": \"\"}}, \"type\": \"scatter\"}], \"scatter3d\": [{\"line\": {\"colorbar\": {\"outlinewidth\": 0, \"ticks\": \"\"}}, \"marker\": {\"colorbar\": {\"outlinewidth\": 0, \"ticks\": \"\"}}, \"type\": \"scatter3d\"}], \"scattercarpet\": [{\"marker\": {\"colorbar\": {\"outlinewidth\": 0, \"ticks\": \"\"}}, \"type\": \"scattercarpet\"}], \"scattergeo\": [{\"marker\": {\"colorbar\": {\"outlinewidth\": 0, \"ticks\": \"\"}}, \"type\": \"scattergeo\"}], \"scattergl\": [{\"marker\": {\"colorbar\": {\"outlinewidth\": 0, \"ticks\": \"\"}}, \"type\": \"scattergl\"}], \"scattermapbox\": [{\"marker\": {\"colorbar\": {\"outlinewidth\": 0, \"ticks\": \"\"}}, \"type\": \"scattermapbox\"}], \"scatterpolar\": [{\"marker\": {\"colorbar\": {\"outlinewidth\": 0, \"ticks\": \"\"}}, \"type\": \"scatterpolar\"}], \"scatterpolargl\": [{\"marker\": {\"colorbar\": {\"outlinewidth\": 0, \"ticks\": \"\"}}, \"type\": \"scatterpolargl\"}], \"scatterternary\": [{\"marker\": {\"colorbar\": {\"outlinewidth\": 0, \"ticks\": \"\"}}, \"type\": \"scatterternary\"}], \"surface\": [{\"colorbar\": {\"outlinewidth\": 0, \"ticks\": \"\"}, \"colorscale\": [[0.0, \"#0d0887\"], [0.1111111111111111, \"#46039f\"], [0.2222222222222222, \"#7201a8\"], [0.3333333333333333, \"#9c179e\"], [0.4444444444444444, \"#bd3786\"], [0.5555555555555556, \"#d8576b\"], [0.6666666666666666, \"#ed7953\"], [0.7777777777777778, \"#fb9f3a\"], [0.8888888888888888, \"#fdca26\"], [1.0, \"#f0f921\"]], \"type\": \"surface\"}], \"table\": [{\"cells\": {\"fill\": {\"color\": \"#EBF0F8\"}, \"line\": {\"color\": \"white\"}}, \"header\": {\"fill\": {\"color\": \"#C8D4E3\"}, \"line\": {\"color\": \"white\"}}, \"type\": \"table\"}]}, \"layout\": {\"annotationdefaults\": {\"arrowcolor\": \"#2a3f5f\", \"arrowhead\": 0, \"arrowwidth\": 1}, \"colorscale\": {\"diverging\": [[0, \"#8e0152\"], [0.1, \"#c51b7d\"], [0.2, \"#de77ae\"], [0.3, \"#f1b6da\"], [0.4, \"#fde0ef\"], [0.5, \"#f7f7f7\"], [0.6, \"#e6f5d0\"], [0.7, \"#b8e186\"], [0.8, \"#7fbc41\"], [0.9, \"#4d9221\"], [1, \"#276419\"]], \"sequential\": [[0.0, \"#0d0887\"], [0.1111111111111111, \"#46039f\"], [0.2222222222222222, \"#7201a8\"], [0.3333333333333333, \"#9c179e\"], [0.4444444444444444, \"#bd3786\"], [0.5555555555555556, \"#d8576b\"], [0.6666666666666666, \"#ed7953\"], [0.7777777777777778, \"#fb9f3a\"], [0.8888888888888888, \"#fdca26\"], [1.0, \"#f0f921\"]], \"sequentialminus\": [[0.0, \"#0d0887\"], [0.1111111111111111, \"#46039f\"], [0.2222222222222222, \"#7201a8\"], [0.3333333333333333, \"#9c179e\"], [0.4444444444444444, \"#bd3786\"], [0.5555555555555556, \"#d8576b\"], [0.6666666666666666, \"#ed7953\"], [0.7777777777777778, \"#fb9f3a\"], [0.8888888888888888, \"#fdca26\"], [1.0, \"#f0f921\"]]}, \"colorway\": [\"#636efa\", \"#EF553B\", \"#00cc96\", \"#ab63fa\", \"#FFA15A\", \"#19d3f3\", \"#FF6692\", \"#B6E880\", \"#FF97FF\", \"#FECB52\"], \"font\": {\"color\": \"#2a3f5f\"}, \"geo\": {\"bgcolor\": \"white\", \"lakecolor\": \"white\", \"landcolor\": \"#E5ECF6\", \"showlakes\": true, \"showland\": true, \"subunitcolor\": \"white\"}, \"hoverlabel\": {\"align\": \"left\"}, \"hovermode\": \"closest\", \"mapbox\": {\"style\": \"light\"}, \"paper_bgcolor\": \"white\", \"plot_bgcolor\": \"#E5ECF6\", \"polar\": {\"angularaxis\": {\"gridcolor\": \"white\", \"linecolor\": \"white\", \"ticks\": \"\"}, \"bgcolor\": \"#E5ECF6\", \"radialaxis\": {\"gridcolor\": \"white\", \"linecolor\": \"white\", \"ticks\": \"\"}}, \"scene\": {\"xaxis\": {\"backgroundcolor\": \"#E5ECF6\", \"gridcolor\": \"white\", \"gridwidth\": 2, \"linecolor\": \"white\", \"showbackground\": true, \"ticks\": \"\", \"zerolinecolor\": \"white\"}, \"yaxis\": {\"backgroundcolor\": \"#E5ECF6\", \"gridcolor\": \"white\", \"gridwidth\": 2, \"linecolor\": \"white\", \"showbackground\": true, \"ticks\": \"\", \"zerolinecolor\": \"white\"}, \"zaxis\": {\"backgroundcolor\": \"#E5ECF6\", \"gridcolor\": \"white\", \"gridwidth\": 2, \"linecolor\": \"white\", \"showbackground\": true, \"ticks\": \"\", \"zerolinecolor\": \"white\"}}, \"shapedefaults\": {\"line\": {\"color\": \"#2a3f5f\"}}, \"ternary\": {\"aaxis\": {\"gridcolor\": \"white\", \"linecolor\": \"white\", \"ticks\": \"\"}, \"baxis\": {\"gridcolor\": \"white\", \"linecolor\": \"white\", \"ticks\": \"\"}, \"bgcolor\": \"#E5ECF6\", \"caxis\": {\"gridcolor\": \"white\", \"linecolor\": \"white\", \"ticks\": \"\"}}, \"title\": {\"x\": 0.05}, \"xaxis\": {\"automargin\": true, \"gridcolor\": \"white\", \"linecolor\": \"white\", \"ticks\": \"\", \"zerolinecolor\": \"white\", \"zerolinewidth\": 2}, \"yaxis\": {\"automargin\": true, \"gridcolor\": \"white\", \"linecolor\": \"white\", \"ticks\": \"\", \"zerolinecolor\": \"white\", \"zerolinewidth\": 2}}}, \"title\": {\"text\": \"US Presidential Elections, 1952-2016\"}},\n",
              "                        {\"responsive\": true}\n",
              "                    ).then(function(){\n",
              "                            \n",
              "var gd = document.getElementById('bc506a7e-7724-454d-82ee-938f62b2ccf6');\n",
              "var x = new MutationObserver(function (mutations, observer) {{\n",
              "        var display = window.getComputedStyle(gd).display;\n",
              "        if (!display || display === 'none') {{\n",
              "            console.log([gd, 'removed!']);\n",
              "            Plotly.purge(gd);\n",
              "            observer.disconnect();\n",
              "        }}\n",
              "}});\n",
              "\n",
              "// Listen for the removal of the full notebook cells\n",
              "var notebookContainer = gd.closest('#notebook-container');\n",
              "if (notebookContainer) {{\n",
              "    x.observe(notebookContainer, {childList: true});\n",
              "}}\n",
              "\n",
              "// Listen for the clearing of the current output cell\n",
              "var outputEl = gd.closest('.output');\n",
              "if (outputEl) {{\n",
              "    x.observe(outputEl, {childList: true});\n",
              "}}\n",
              "\n",
              "                        })\n",
              "                };\n",
              "                \n",
              "            </script>\n",
              "        </div>\n",
              "</body>\n",
              "</html>"
            ]
          },
          "metadata": {
            "tags": []
          }
        }
      ]
    },
    {
      "cell_type": "markdown",
      "metadata": {
        "id": "k2B1CHml0eJ0",
        "colab_type": "text"
      },
      "source": [
        "Plot the hyperplane of best fit"
      ]
    },
    {
      "cell_type": "code",
      "metadata": {
        "id": "MQ73YaIF0gJC",
        "colab_type": "code",
        "colab": {}
      },
      "source": [
        "import itertools\n",
        "import numpy as np\n",
        "import plotly.express as px\n",
        "import plotly.graph_objs as go\n",
        "from sklearn.linear_model import LinearRegression\n",
        "\n",
        "def regression_3d(df, x, y, z, num=100, **kwargs):\n",
        "    \"\"\"\n",
        "    Visualize linear regression in 3D: 2 features + 1 target\n",
        "    \n",
        "    df : Pandas DataFrame\n",
        "    x : string, feature 1 column in df\n",
        "    y : string, feature 2 column in df\n",
        "    z : string, target column in df\n",
        "    num : integer, number of quantiles for each feature\n",
        "    \"\"\"\n",
        "    \n",
        "    # Plot data\n",
        "    fig = px.scatter_3d(df, x, y, z, **kwargs)\n",
        "    \n",
        "    # Fit Linear Regression\n",
        "    features = [x, y]\n",
        "    target = z\n",
        "    model = LinearRegression()\n",
        "    model.fit(df[features], df[target])    \n",
        "    \n",
        "    # Define grid of coordinates in the feature space\n",
        "    xmin, xmax = df[x].min(), df[x].max()\n",
        "    ymin, ymax = df[y].min(), df[y].max()\n",
        "    xcoords = np.linspace(xmin, xmax, num)\n",
        "    ycoords = np.linspace(ymin, ymax, num)\n",
        "    coords = list(itertools.product(xcoords, ycoords))\n",
        "    \n",
        "    # Make predictions for the grid\n",
        "    predictions = model.predict(coords)\n",
        "    Z = predictions.reshape(num, num).T\n",
        "    \n",
        "    # Plot predictions as a 3D surface (plane)\n",
        "    fig.add_trace(go.Surface(x=xcoords, y=ycoords, z=Z))\n",
        "    \n",
        "    return fig"
      ],
      "execution_count": 0,
      "outputs": []
    },
    {
      "cell_type": "code",
      "metadata": {
        "id": "f2TMPMM4u_5I",
        "colab_type": "code",
        "colab": {
          "base_uri": "https://localhost:8080/",
          "height": 616
        },
        "outputId": "7c5a095c-973f-4eb6-f6d7-24fb4d938485"
      },
      "source": [
        "regression_3d(df,x='Average Recent Growth in Personal Incomes',\n",
        "                 y='US Military Fatalities per Million',\n",
        "                 z='Incumbent Party Vote Share',\n",
        "                 text='Year',\n",
        "                 title='US Presidential Elections, 1952-2016',\n",
        "                 num=100)"
      ],
      "execution_count": 16,
      "outputs": [
        {
          "output_type": "display_data",
          "data": {
            "text/html": [
              "<html>\n",
              "<head><meta charset=\"utf-8\" /></head>\n",
              "<body>\n",
              "    <div>\n",
              "            <script src=\"https://cdnjs.cloudflare.com/ajax/libs/mathjax/2.7.5/MathJax.js?config=TeX-AMS-MML_SVG\"></script><script type=\"text/javascript\">if (window.MathJax) {MathJax.Hub.Config({SVG: {font: \"STIX-Web\"}});}</script>\n",
              "                <script type=\"text/javascript\">window.PlotlyConfig = {MathJaxConfig: 'local'};</script>\n",
              "        <script src=\"https://cdn.plot.ly/plotly-latest.min.js\"></script>    \n",
              "            <div id=\"ff57eea6-ddc1-4607-9353-ab552ddcccfc\" class=\"plotly-graph-div\" style=\"height:600px; width:100%;\"></div>\n",
              "            <script type=\"text/javascript\">\n",
              "                \n",
              "                    window.PLOTLYENV=window.PLOTLYENV || {};\n",
              "                    \n",
              "                if (document.getElementById(\"ff57eea6-ddc1-4607-9353-ab552ddcccfc\")) {\n",
              "                    Plotly.newPlot(\n",
              "                        'ff57eea6-ddc1-4607-9353-ab552ddcccfc',\n",
              "                        [{\"hoverlabel\": {\"namelength\": 0}, \"hovertemplate\": \"Average Recent Growth in Personal Incomes=%{x}<br>US Military Fatalities per Million=%{y}<br>Incumbent Party Vote Share=%{z}<br>Year=%{text}\", \"legendgroup\": \"\", \"marker\": {\"color\": \"#636efa\", \"symbol\": \"circle\"}, \"mode\": \"markers+text\", \"name\": \"\", \"scene\": \"scene\", \"showlegend\": false, \"text\": [1952.0, 1956.0, 1960.0, 1964.0, 1968.0, 1972.0, 1976.0, 1980.0, 1984.0, 1988.0, 1992.0, 1996.0, 2000.0, 2004.0, 2008.0, 2012.0, 2016.0], \"type\": \"scatter3d\", \"x\": [2.4, 2.89, 0.85, 4.21, 3.02, 3.62, 1.08, -0.39, 3.86, 2.27, 0.38, 1.04, 2.36, 1.72, 0.1, 0.95, 0.1], \"y\": [190, 0, 0, 1, 146, 0, 2, 0, 0, 0, 0, 0, 0, 4, 14, 5, 5], \"z\": [44.6, 57.76, 49.91, 61.34, 49.6, 61.79, 48.95, 44.7, 59.17, 53.94, 46.55, 54.74, 50.27, 51.24, 46.32, 52.0, 48.2]}, {\"type\": \"surface\", \"x\": [-0.39, -0.3435353535353536, -0.2970707070707071, -0.2506060606060606, -0.20414141414141418, -0.15767676767676772, -0.11121212121212126, -0.06474747474747478, -0.018282828282828345, 0.028181818181818086, 0.07464646464646457, 0.12111111111111106, 0.1675757575757575, 0.21404040404040392, 0.26050505050505046, 0.3069696969696969, 0.3534343434343433, 0.39989898989898975, 0.4463636363636362, 0.4928282828282827, 0.5392929292929292, 0.5857575757575756, 0.6322222222222221, 0.6786868686868684, 0.725151515151515, 0.7716161616161615, 0.8180808080808079, 0.8645454545454544, 0.9110101010101009, 0.9574747474747473, 1.003939393939394, 1.05040404040404, 1.0968686868686865, 1.143333333333333, 1.1897979797979796, 1.2362626262626262, 1.2827272727272723, 1.3291919191919188, 1.3756565656565654, 1.422121212121212, 1.4685858585858584, 1.515050505050505, 1.561515151515151, 1.6079797979797976, 1.6544444444444442, 1.7009090909090907, 1.7473737373737368, 1.7938383838383833, 1.8403030303030299, 1.8867676767676764, 1.933232323232323, 1.979696969696969, 2.0261616161616156, 2.072626262626262, 2.1190909090909087, 2.1655555555555552, 2.2120202020202018, 2.258484848484848, 2.3049494949494944, 2.351414141414141, 2.3978787878787875, 2.444343434343434, 2.49080808080808, 2.5372727272727267, 2.583737373737373, 2.6302020202020198, 2.6766666666666663, 2.7231313131313124, 2.769595959595959, 2.8160606060606055, 2.862525252525252, 2.9089898989898986, 2.9554545454545447, 3.001919191919191, 3.0483838383838378, 3.0948484848484843, 3.141313131313131, 3.1877777777777774, 3.2342424242424235, 3.28070707070707, 3.3271717171717166, 3.373636363636363, 3.4201010101010096, 3.4665656565656557, 3.5130303030303023, 3.559494949494949, 3.6059595959595954, 3.652424242424242, 3.6988888888888884, 3.745353535353535, 3.7918181818181815, 3.838282828282827, 3.8847474747474737, 3.9312121212121203, 3.977676767676767, 4.024141414141414, 4.07060606060606, 4.117070707070707, 4.163535353535353, 4.21], \"y\": [0.0, 1.9191919191919191, 3.8383838383838382, 5.757575757575758, 7.6767676767676765, 9.595959595959595, 11.515151515151516, 13.434343434343434, 15.353535353535353, 17.272727272727273, 19.19191919191919, 21.11111111111111, 23.03030303030303, 24.949494949494948, 26.86868686868687, 28.787878787878785, 30.707070707070706, 32.62626262626262, 34.54545454545455, 36.464646464646464, 38.38383838383838, 40.303030303030305, 42.22222222222222, 44.14141414141414, 46.06060606060606, 47.97979797979798, 49.898989898989896, 51.81818181818181, 53.73737373737374, 55.656565656565654, 57.57575757575757, 59.494949494949495, 61.41414141414141, 63.33333333333333, 65.25252525252525, 67.17171717171716, 69.0909090909091, 71.01010101010101, 72.92929292929293, 74.84848484848484, 76.76767676767676, 78.68686868686868, 80.60606060606061, 82.52525252525253, 84.44444444444444, 86.36363636363636, 88.28282828282828, 90.2020202020202, 92.12121212121212, 94.04040404040404, 95.95959595959596, 97.87878787878788, 99.79797979797979, 101.71717171717171, 103.63636363636363, 105.55555555555556, 107.47474747474747, 109.39393939393939, 111.31313131313131, 113.23232323232322, 115.15151515151514, 117.07070707070707, 118.98989898989899, 120.9090909090909, 122.82828282828282, 124.74747474747474, 126.66666666666666, 128.58585858585857, 130.5050505050505, 132.4242424242424, 134.34343434343432, 136.26262626262627, 138.1818181818182, 140.1010101010101, 142.02020202020202, 143.93939393939394, 145.85858585858585, 147.77777777777777, 149.6969696969697, 151.6161616161616, 153.53535353535352, 155.45454545454544, 157.37373737373736, 159.29292929292927, 161.21212121212122, 163.13131313131314, 165.05050505050505, 166.96969696969697, 168.88888888888889, 170.8080808080808, 172.72727272727272, 174.64646464646464, 176.56565656565655, 178.48484848484847, 180.4040404040404, 182.3232323232323, 184.24242424242425, 186.16161616161617, 188.08080808080808, 190.0], \"z\": [[45.55709345501933, 45.71536198746591, 45.8736305199125, 46.03189905235909, 46.19016758480568, 46.34843611725226, 46.506704649698854, 46.664973182145445, 46.82324171459203, 46.98151024703862, 47.139778779485205, 47.298047311931796, 47.45631584437838, 47.61458437682497, 47.772852909271556, 47.93112144171815, 48.08938997416473, 48.24765850661132, 48.40592703905791, 48.5641955715045, 48.72246410395108, 48.880732636397674, 49.03900116884426, 49.19726970129085, 49.355538233737434, 49.513806766184025, 49.67207529863061, 49.8303438310772, 49.988612363523785, 50.14688089597038, 50.30514942841697, 50.46341796086355, 50.621686493310136, 50.77995502575673, 50.93822355820332, 51.0964920906499, 51.25476062309649, 51.41302915554308, 51.57129768798967, 51.729566220436254, 51.887834752882846, 52.04610328532943, 52.20437181777602, 52.362640350222605, 52.5209088826692, 52.67917741511578, 52.83744594756237, 52.99571448000896, 53.15398301245555, 53.31225154490213, 53.47052007734872, 53.62878860979531, 53.7870571422419, 53.94532567468848, 54.103594207135075, 54.26186273958166, 54.42013127202825, 54.578399804474834, 54.736668336921426, 54.89493686936801, 55.0532054018146, 55.21147393426119, 55.36974246670778, 55.52801099915436, 55.68627953160095, 55.844548064047544, 56.00281659649413, 56.16108512894071, 56.319353661387304, 56.477622193833895, 56.63589072628048, 56.79415925872706, 56.952427791173655, 57.110696323620246, 57.26896485606683, 57.427233388513415, 57.585501920960006, 57.7437704534066, 57.90203898585318, 58.06030751829977, 58.21857605074636, 58.37684458319295, 58.53511311563953, 58.693381648086124, 58.85165018053271, 59.0099187129793, 59.168187245425884, 59.326455777872475, 59.484724310319066, 59.64299284276565, 59.801261375212235, 59.959529907658826, 60.11779844010541, 60.276066972552, 60.434335504998586, 60.59260403744518, 60.75087256989177, 60.90914110233835, 61.067409634784944, 61.22567816723153], [45.453932609027675, 45.61220114147426, 45.77046967392085, 45.928738206367434, 46.087006738814026, 46.24527527126061, 46.4035438037072, 46.561812336153785, 46.72008086860038, 46.87834940104696, 47.03661793349355, 47.19488646594014, 47.35315499838673, 47.51142353083331, 47.6696920632799, 47.827960595726495, 47.98622912817308, 48.14449766061967, 48.302766193066255, 48.461034725512846, 48.61930325795943, 48.77757179040602, 48.935840322852606, 49.0941088552992, 49.25237738774578, 49.41064592019237, 49.56891445263896, 49.72718298508555, 49.88545151753213, 50.043720049978724, 50.20198858242531, 50.3602571148719, 50.518525647318484, 50.676794179765075, 50.83506271221166, 50.99333124465825, 51.151599777104835, 51.309868309551426, 51.46813684199801, 51.6264053744446, 51.784673906891186, 51.94294243933778, 52.10121097178436, 52.25947950423095, 52.41774803667754, 52.57601656912413, 52.73428510157071, 52.892553634017304, 53.05082216646389, 53.20909069891048, 53.36735923135707, 53.525627763803655, 53.68389629625024, 53.84216482869683, 54.00043336114342, 54.158701893590006, 54.3169704260366, 54.47523895848318, 54.63350749092977, 54.79177602337636, 54.95004455582295, 55.10831308826954, 55.266581620716124, 55.42485015316271, 55.5831186856093, 55.74138721805589, 55.899655750502475, 56.05792428294906, 56.21619281539565, 56.37446134784224, 56.53272988028883, 56.69099841273541, 56.849266945182, 57.00753547762859, 57.16580401007518, 57.32407254252176, 57.48234107496835, 57.640609607414945, 57.79887813986153, 57.95714667230812, 58.115415204754704, 58.273683737201296, 58.43195226964788, 58.59022080209447, 58.748489334541055, 58.90675786698765, 59.06502639943423, 59.22329493188082, 59.381563464327414, 59.539831996774, 59.69810052922058, 59.85636906166717, 60.01463759411376, 60.17290612656035, 60.33117465900693, 60.489443191453525, 60.647711723900116, 60.8059802563467, 60.96424878879329, 61.122517321239876], [45.35077176303602, 45.509040295482606, 45.6673088279292, 45.82557736037578, 45.98384589282237, 46.14211442526896, 46.30038295771555, 46.45865149016213, 46.616920022608724, 46.77518855505531, 46.9334570875019, 47.091725619948484, 47.249994152395075, 47.40826268484166, 47.56653121728825, 47.724799749734835, 47.883068282181426, 48.04133681462801, 48.1996053470746, 48.35787387952119, 48.51614241196778, 48.67441094441437, 48.83267947686095, 48.990948009307544, 49.14921654175413, 49.30748507420072, 49.465753606647304, 49.624022139093896, 49.78229067154048, 49.94055920398707, 50.098827736433655, 50.25709626888025, 50.41536480132683, 50.57363333377342, 50.73190186622001, 50.8901703986666, 51.04843893111318, 51.20670746355977, 51.36497599600636, 51.52324452845295, 51.68151306089953, 51.839781593346125, 51.99805012579271, 52.1563186582393, 52.314587190685884, 52.472855723132476, 52.63112425557906, 52.78939278802565, 52.947661320472236, 53.10592985291883, 53.26419838536542, 53.422466917812, 53.58073545025859, 53.73900398270518, 53.89727251515177, 54.05554104759835, 54.213809580044945, 54.37207811249153, 54.53034664493812, 54.688615177384705, 54.846883709831296, 55.00515224227788, 55.16342077472447, 55.321689307171056, 55.47995783961765, 55.63822637206423, 55.79649490451082, 55.95476343695741, 56.113031969404, 56.27130050185058, 56.429569034297174, 56.58783756674376, 56.74610609919035, 56.904374631636934, 57.062643164083525, 57.22091169653011, 57.3791802289767, 57.53744876142329, 57.695717293869876, 57.85398582631646, 58.01225435876305, 58.17052289120964, 58.32879142365623, 58.48705995610281, 58.6453284885494, 58.803597020995994, 58.96186555344258, 59.12013408588916, 59.278402618335754, 59.436671150782345, 59.59493968322893, 59.753208215675514, 59.911476748122105, 60.069745280568696, 60.22801381301528, 60.38628234546187, 60.54455087790846, 60.70281941035505, 60.86108794280163, 61.01935647524822], [45.24761091704437, 45.40587944949095, 45.564147981937545, 45.72241651438413, 45.88068504683072, 46.038953579277305, 46.197222111723896, 46.35549064417048, 46.51375917661707, 46.672027709063656, 46.83029624151025, 46.98856477395683, 47.14683330640342, 47.30510183885001, 47.4633703712966, 47.62163890374318, 47.779907436189774, 47.93817596863636, 48.09644450108295, 48.254713033529534, 48.412981565976125, 48.57125009842271, 48.7295186308693, 48.887787163315885, 49.046055695762476, 49.20432422820907, 49.36259276065565, 49.52086129310224, 49.67912982554883, 49.83739835799542, 49.995666890442, 50.153935422888594, 50.31220395533518, 50.47047248778177, 50.628741020228354, 50.787009552674945, 50.94527808512153, 51.10354661756812, 51.261815150014705, 51.420083682461296, 51.57835221490788, 51.73662074735447, 51.894889279801056, 52.05315781224765, 52.21142634469423, 52.36969487714082, 52.52796340958741, 52.686231942034, 52.84450047448058, 53.002769006927174, 53.16103753937376, 53.31930607182035, 53.477574604266934, 53.635843136713525, 53.79411166916011, 53.9523802016067, 54.110648734053285, 54.26891726649988, 54.42718579894646, 54.58545433139305, 54.74372286383964, 54.90199139628623, 55.06025992873282, 55.2185284611794, 55.376796993625995, 55.53506552607258, 55.69333405851917, 55.851602590965754, 56.009871123412346, 56.16813965585893, 56.32640818830552, 56.484676720752105, 56.6429452531987, 56.80121378564528, 56.95948231809187, 57.11775085053846, 57.27601938298505, 57.43428791543164, 57.59255644787822, 57.75082498032481, 57.9090935127714, 58.06736204521799, 58.225630577664575, 58.38389911011116, 58.54216764255775, 58.70043617500434, 58.858704707450926, 59.01697323989751, 59.1752417723441, 59.33351030479069, 59.49177883723728, 59.65004736968386, 59.80831590213045, 59.966584434577044, 60.12485296702363, 60.28312149947022, 60.44139003191681, 60.599658564363395, 60.75792709680998, 60.91619562925657], [45.14445007105271, 45.3027186034993, 45.460987135945885, 45.619255668392476, 45.77752420083907, 45.93579273328565, 46.09406126573224, 46.25232979817883, 46.41059833062542, 46.568866863072, 46.727135395518594, 46.88540392796518, 47.04367246041177, 47.201940992858354, 47.360209525304946, 47.51847805775153, 47.67674659019812, 47.835015122644705, 47.9932836550913, 48.15155218753788, 48.30982071998447, 48.46808925243106, 48.62635778487765, 48.78462631732423, 48.94289484977082, 49.10116338221741, 49.259431914664, 49.41770044711058, 49.575968979557175, 49.73423751200376, 49.89250604445035, 50.050774576896934, 50.209043109343526, 50.36731164179011, 50.5255801742367, 50.68384870668329, 50.84211723912988, 51.00038577157646, 51.15865430402305, 51.316922836469644, 51.47519136891623, 51.63345990136282, 51.7917284338094, 51.949996966255995, 52.10826549870258, 52.26653403114917, 52.424802563595755, 52.583071096042346, 52.74133962848893, 52.89960816093552, 53.057876693382106, 53.2161452258287, 53.37441375827528, 53.53268229072187, 53.69095082316846, 53.84921935561505, 54.00748788806163, 54.165756420508224, 54.32402495295481, 54.4822934854014, 54.640562017847984, 54.798830550294575, 54.95709908274116, 55.11536761518775, 55.273636147634335, 55.431904680080926, 55.59017321252752, 55.7484417449741, 55.906710277420686, 56.06497880986728, 56.22324734231387, 56.38151587476045, 56.53978440720704, 56.69805293965363, 56.85632147210022, 57.014590004546804, 57.172858536993395, 57.33112706943998, 57.48939560188657, 57.647664134333155, 57.805932666779746, 57.96420119922633, 58.12246973167292, 58.280738264119506, 58.4390067965661, 58.59727532901268, 58.75554386145927, 58.91381239390586, 59.07208092635245, 59.23034945879904, 59.388617991245624, 59.54688652369221, 59.7051550561388, 59.863423588585384, 60.021692121031975, 60.17996065347856, 60.33822918592515, 60.49649771837174, 60.65476625081833, 60.81303478326492], [45.04128922506106, 45.19955775750765, 45.35782628995423, 45.516094822400824, 45.67436335484741, 45.832631887294, 45.99090041974058, 46.149168952187175, 46.30743748463376, 46.46570601708035, 46.62397454952694, 46.782243081973526, 46.94051161442012, 47.0987801468667, 47.25704867931329, 47.41531721175988, 47.57358574420647, 47.73185427665305, 47.890122809099644, 48.04839134154623, 48.20665987399282, 48.364928406439404, 48.523196938885995, 48.68146547133258, 48.83973400377917, 48.998002536225755, 49.156271068672346, 49.31453960111893, 49.47280813356552, 49.631076666012106, 49.7893451984587, 49.94761373090528, 50.10588226335187, 50.26415079579846, 50.42241932824505, 50.58068786069163, 50.738956393138224, 50.89722492558481, 51.0554934580314, 51.21376199047799, 51.372030522924575, 51.53029905537116, 51.68856758781775, 51.84683612026434, 52.005104652710926, 52.16337318515752, 52.3216417176041, 52.47991025005069, 52.63817878249728, 52.79644731494387, 52.95471584739045, 53.112984379837044, 53.27125291228363, 53.42952144473022, 53.587789977176804, 53.746058509623396, 53.90432704206998, 54.06259557451657, 54.220864106963155, 54.37913263940975, 54.53740117185633, 54.69566970430292, 54.85393823674951, 55.0122067691961, 55.17047530164268, 55.32874383408927, 55.487012366535865, 55.64528089898245, 55.80354943142903, 55.961817963875625, 56.120086496322216, 56.2783550287688, 56.436623561215384, 56.594892093661976, 56.75316062610857, 56.91142915855515, 57.06969769100174, 57.22796622344833, 57.38623475589492, 57.5445032883415, 57.702771820788094, 57.86104035323468, 58.01930888568127, 58.17757741812785, 58.335845950574445, 58.49411448302103, 58.65238301546762, 58.810651547914205, 58.968920080360796, 59.12718861280739, 59.28545714525397, 59.443725677700556, 59.60199421014715, 59.76026274259373, 59.91853127504032, 60.07679980748691, 60.2350683399335, 60.39333687238009, 60.551605404826674, 60.709873937273265], [44.938128379069404, 45.096396911515995, 45.25466544396258, 45.41293397640917, 45.571202508855755, 45.72947104130235, 45.88773957374893, 46.04600810619552, 46.204276638642106, 46.3625451710887, 46.52081370353528, 46.67908223598187, 46.83735076842846, 46.99561930087505, 47.15388783332163, 47.312156365768224, 47.47042489821481, 47.6286934306614, 47.78696196310799, 47.945230495554576, 48.10349902800117, 48.26176756044775, 48.42003609289434, 48.57830462534093, 48.73657315778752, 48.8948416902341, 49.053110222680694, 49.21137875512728, 49.36964728757387, 49.52791582002045, 49.686184352467045, 49.84445288491363, 50.00272141736022, 50.160989949806805, 50.319258482253396, 50.47752701469998, 50.63579554714657, 50.794064079593156, 50.95233261203975, 51.11060114448634, 51.26886967693292, 51.42713820937951, 51.5854067418261, 51.74367527427269, 51.901943806719274, 52.060212339165865, 52.21848087161245, 52.37674940405904, 52.535017936505625, 52.693286468952216, 52.8515550013988, 53.00982353384539, 53.168092066291976, 53.32636059873857, 53.48462913118515, 53.64289766363174, 53.80116619607833, 53.95943472852492, 54.1177032609715, 54.275971793418094, 54.43424032586468, 54.59250885831127, 54.750777390757854, 54.909045923204445, 55.06731445565103, 55.22558298809762, 55.383851520544205, 55.542120052990796, 55.70038858543738, 55.85865711788397, 56.016925650330556, 56.17519418277715, 56.33346271522373, 56.49173124767032, 56.64999978011691, 56.8082683125635, 56.96653684501008, 57.124805377456674, 57.28307390990326, 57.44134244234985, 57.599610974796434, 57.757879507243025, 57.91614803968962, 58.0744165721362, 58.232685104582785, 58.39095363702938, 58.54922216947597, 58.70749070192255, 58.86575923436914, 59.02402776681573, 59.18229629926232, 59.3405648317089, 59.49883336415549, 59.65710189660208, 59.81537042904867, 59.973638961495254, 60.131907493941846, 60.29017602638844, 60.44844455883502, 60.606713091281605], [44.83496753307775, 44.99323606552434, 45.15150459797093, 45.30977313041752, 45.4680416628641, 45.626310195310694, 45.78457872775728, 45.94284726020387, 46.101115792650454, 46.259384325097045, 46.41765285754363, 46.57592138999022, 46.734189922436805, 46.892458454883396, 47.05072698732998, 47.20899551977657, 47.367264052223156, 47.52553258466975, 47.68380111711633, 47.84206964956292, 48.00033818200951, 48.1586067144561, 48.31687524690269, 48.475143779349274, 48.633412311795865, 48.79168084424245, 48.949949376689034, 49.108217909135625, 49.26648644158222, 49.4247549740288, 49.58302350647539, 49.741292038921976, 49.89956057136857, 50.05782910381515, 50.21609763626174, 50.37436616870833, 50.53263470115492, 50.6909032336015, 50.849171766048094, 51.00744029849468, 51.16570883094127, 51.323977363387854, 51.482245895834446, 51.64051442828103, 51.79878296072762, 51.957051493174205, 52.1153200256208, 52.27358855806738, 52.43185709051397, 52.59012562296056, 52.74839415540715, 52.90666268785373, 53.06493122030032, 53.22319975274691, 53.3814682851935, 53.53973681764009, 53.698005350086675, 53.85627388253326, 54.01454241497985, 54.17281094742644, 54.331079479873026, 54.48934801231962, 54.6476165447662, 54.80588507721279, 54.96415360965938, 55.12242214210597, 55.28069067455255, 55.438959206999144, 55.59722773944573, 55.75549627189232, 55.9137648043389, 56.072033336785495, 56.23030186923208, 56.38857040167867, 56.546838934125255, 56.705107466571846, 56.86337599901843, 57.02164453146502, 57.179913063911606, 57.3381815963582, 57.49645012880478, 57.65471866125137, 57.812987193697964, 57.97125572614455, 58.12952425859113, 58.287792791037724, 58.446061323484315, 58.6043298559309, 58.76259838837749, 58.920866920824075, 59.079135453270666, 59.23740398571725, 59.395672518163835, 59.553941050610426, 59.71220958305702, 59.8704781155036, 60.02874664795019, 60.187015180396784, 60.34528371284337, 60.50355224528995], [44.7318066870861, 44.89007521953269, 45.048343751979274, 45.206612284425866, 45.36488081687245, 45.52314934931904, 45.681417881765626, 45.83968641421222, 45.9979549466588, 46.15622347910539, 46.31449201155198, 46.47276054399857, 46.63102907644515, 46.789297608891744, 46.94756614133833, 47.10583467378492, 47.2641032062315, 47.422371738678095, 47.58064027112468, 47.73890880357127, 47.897177336017855, 48.055445868464446, 48.21371440091103, 48.37198293335762, 48.530251465804206, 48.6885199982508, 48.84678853069738, 49.00505706314397, 49.163325595590564, 49.32159412803715, 49.47986266048374, 49.638131192930324, 49.796399725376915, 49.9546682578235, 50.11293679027009, 50.271205322716675, 50.429473855163266, 50.58774238760985, 50.74601092005644, 50.904279452503026, 51.06254798494962, 51.2208165173962, 51.37908504984279, 51.53735358228938, 51.69562211473597, 51.85389064718255, 52.012159179629144, 52.17042771207573, 52.32869624452232, 52.486964776968904, 52.645233309415495, 52.80350184186208, 52.96177037430867, 53.120038906755255, 53.278307439201846, 53.43657597164844, 53.59484450409502, 53.753113036541606, 53.9113815689882, 54.06965010143478, 54.22791863388137, 54.386187166327964, 54.54445569877455, 54.70272423122113, 54.860992763667724, 55.01926129611431, 55.1775298285609, 55.33579836100749, 55.494066893454075, 55.65233542590066, 55.81060395834725, 55.96887249079384, 56.127141023240426, 56.28540955568701, 56.4436780881336, 56.60194662058019, 56.76021515302678, 56.91848368547337, 57.07675221791995, 57.235020750366544, 57.39328928281313, 57.55155781525972, 57.709826347706304, 57.868094880152896, 58.02636341259948, 58.18463194504607, 58.342900477492655, 58.50116900993925, 58.65943754238583, 58.81770607483242, 58.975974607279014, 59.1342431397256, 59.29251167217218, 59.45078020461877, 59.60904873706536, 59.76731726951195, 59.92558580195854, 60.083854334405125, 60.242122866851716, 60.4003913992983], [44.628645841094446, 44.78691437354103, 44.94518290598762, 45.103451438434206, 45.2617199708808, 45.41998850332738, 45.57825703577397, 45.73652556822056, 45.89479410066715, 46.05306263311374, 46.211331165560324, 46.369599698006915, 46.5278682304535, 46.68613676290009, 46.844405295346675, 47.00267382779327, 47.16094236023985, 47.31921089268644, 47.477479425133026, 47.63574795757962, 47.7940164900262, 47.95228502247279, 48.11055355491938, 48.26882208736597, 48.42709061981255, 48.585359152259144, 48.74362768470573, 48.90189621715232, 49.060164749598904, 49.218433282045496, 49.37670181449208, 49.53497034693867, 49.693238879385255, 49.85150741183185, 50.00977594427843, 50.16804447672502, 50.326313009171606, 50.4845815416182, 50.64285007406478, 50.80111860651137, 50.959387138957965, 51.11765567140455, 51.27592420385113, 51.434192736297724, 51.592461268744316, 51.7507298011909, 51.908998333637484, 52.067266866084076, 52.22553539853067, 52.38380393097725, 52.54207246342384, 52.70034099587043, 52.85860952831702, 53.0168780607636, 53.175146593210194, 53.33341512565678, 53.49168365810337, 53.64995219054995, 53.808220722996545, 53.96648925544313, 54.12475778788972, 54.283026320336305, 54.441294852782896, 54.59956338522948, 54.75783191767607, 54.916100450122656, 55.07436898256925, 55.23263751501584, 55.39090604746242, 55.54917457990901, 55.7074431123556, 55.86571164480219, 56.023980177248774, 56.18224870969536, 56.34051724214195, 56.49878577458854, 56.657054307035125, 56.815322839481716, 56.9735913719283, 57.13185990437489, 57.290128436821476, 57.44839696926807, 57.60666550171465, 57.76493403416124, 57.92320256660783, 58.08147109905442, 58.239739631501, 58.398008163947594, 58.55627669639418, 58.71454522884077, 58.87281376128736, 59.031082293733945, 59.18935082618053, 59.34761935862712, 59.505887891073705, 59.664156423520296, 59.82242495596689, 59.98069348841347, 60.13896202086006, 60.29723055330665], [44.525484995102794, 44.68375352754938, 44.84202205999597, 45.00029059244255, 45.158559124889145, 45.31682765733573, 45.47509618978232, 45.633364722228904, 45.791633254675496, 45.94990178712208, 46.10817031956867, 46.266438852015256, 46.42470738446185, 46.58297591690843, 46.74124444935502, 46.899512981801614, 47.0577815142482, 47.21605004669479, 47.374318579141374, 47.532587111587965, 47.69085564403455, 47.84912417648114, 48.007392708927725, 48.165661241374316, 48.3239297738209, 48.48219830626749, 48.640466838714076, 48.79873537116067, 48.95700390360725, 49.11527243605384, 49.27354096850043, 49.43180950094702, 49.5900780333936, 49.748346565840194, 49.90661509828678, 50.06488363073337, 50.223152163179954, 50.381420695626545, 50.53968922807313, 50.69795776051972, 50.85622629296631, 51.014494825412896, 51.17276335785948, 51.33103189030607, 51.48930042275266, 51.64756895519925, 51.80583748764583, 51.96410602009242, 52.122374552539014, 52.2806430849856, 52.43891161743219, 52.597180149878774, 52.755448682325365, 52.91371721477195, 53.07198574721854, 53.230254279665125, 53.38852281211172, 53.5467913445583, 53.70505987700489, 53.863328409451476, 54.02159694189807, 54.17986547434465, 54.33813400679124, 54.49640253923783, 54.65467107168442, 54.812939604131, 54.971208136577594, 55.129476669024186, 55.28774520147077, 55.446013733917354, 55.604282266363946, 55.76255079881054, 55.92081933125712, 56.079087863703705, 56.2373563961503, 56.39562492859689, 56.55389346104347, 56.71216199349006, 56.87043052593665, 57.02869905838324, 57.18696759082982, 57.34523612327641, 57.503504655723, 57.66177318816959, 57.820041720616175, 57.97831025306276, 58.13657878550935, 58.29484731795594, 58.453115850402526, 58.61138438284912, 58.76965291529571, 58.92792144774229, 59.08618998018888, 59.24445851263546, 59.40272704508205, 59.560995577528644, 59.71926410997523, 59.87753264242182, 60.03580117486841, 60.194069707314995], [44.42232414911114, 44.580592681557725, 44.73886121400432, 44.8971297464509, 45.05539827889749, 45.213666811344076, 45.37193534379067, 45.53020387623725, 45.68847240868384, 45.84674094113043, 46.00500947357702, 46.1632780060236, 46.321546538470194, 46.47981507091678, 46.63808360336337, 46.796352135809954, 46.954620668256545, 47.11288920070313, 47.27115773314972, 47.429426265596305, 47.5876947980429, 47.74596333048949, 47.90423186293607, 48.062500395382656, 48.22076892782925, 48.37903746027584, 48.53730599272242, 48.695574525169015, 48.8538430576156, 49.01211159006219, 49.170380122508774, 49.328648654955366, 49.48691718740195, 49.64518571984854, 49.803454252295126, 49.96172278474172, 50.1199913171883, 50.27825984963489, 50.43652838208148, 50.59479691452807, 50.75306544697465, 50.911333979421244, 51.06960251186783, 51.22787104431442, 51.386139576761, 51.544408109207595, 51.70267664165418, 51.86094517410077, 52.019213706547355, 52.177482238993946, 52.33575077144053, 52.49401930388712, 52.652287836333706, 52.8105563687803, 52.96882490122688, 53.12709343367347, 53.285361966120064, 53.44363049856665, 53.60189903101323, 53.760167563459824, 53.918436095906415, 54.076704628353, 54.23497316079958, 54.393241693246175, 54.551510225692766, 54.70977875813935, 54.86804729058594, 55.026315823032526, 55.18458435547912, 55.3428528879257, 55.50112142037229, 55.65938995281888, 55.81765848526547, 55.97592701771205, 56.134195550158644, 56.29246408260523, 56.45073261505182, 56.609001147498404, 56.767269679944995, 56.92553821239159, 57.08380674483817, 57.242075277284755, 57.400343809731346, 57.55861234217794, 57.71688087462452, 57.875149407071106, 58.0334179395177, 58.19168647196429, 58.34995500441087, 58.508223536857464, 58.66649206930405, 58.82476060175064, 58.983029134197224, 59.14129766664381, 59.2995661990904, 59.45783473153699, 59.616103263983575, 59.77437179643017, 59.93264032887676, 60.09090886132334], [44.31916330311949, 44.47743183556607, 44.635700368012664, 44.79396890045925, 44.95223743290584, 45.110505965352424, 45.268774497799015, 45.4270430302456, 45.58531156269219, 45.743580095138775, 45.901848627585366, 46.06011716003195, 46.21838569247854, 46.376654224925126, 46.53492275737172, 46.6931912898183, 46.85145982226489, 47.00972835471148, 47.16799688715807, 47.32626541960465, 47.484533952051244, 47.64280248449783, 47.80107101694442, 47.959339549391004, 48.117608081837595, 48.275876614284186, 48.43414514673077, 48.59241367917736, 48.750682211623946, 48.90895074407054, 49.06721927651712, 49.225487808963706, 49.3837563414103, 49.54202487385689, 49.70029340630347, 49.858561938750064, 50.01683047119665, 50.17509900364324, 50.333367536089824, 50.491636068536415, 50.649904600983, 50.80817313342959, 50.966441665876175, 51.12471019832277, 51.28297873076935, 51.44124726321594, 51.599515795662526, 51.75778432810912, 51.9160528605557, 52.07432139300229, 52.23258992544888, 52.39085845789547, 52.54912699034205, 52.707395522788644, 52.86566405523523, 53.02393258768182, 53.18220112012841, 53.340469652574996, 53.49873818502158, 53.65700671746817, 53.81527524991476, 53.97354378236135, 54.13181231480793, 54.29008084725452, 54.44834937970111, 54.6066179121477, 54.76488644459429, 54.92315497704087, 55.081423509487465, 55.23969204193405, 55.39796057438064, 55.556229106827224, 55.714497639273816, 55.8727661717204, 56.03103470416699, 56.189303236613576, 56.34757176906017, 56.50584030150675, 56.66410883395334, 56.822377366399934, 56.98064589884652, 57.1389144312931, 57.297182963739694, 57.455451496186285, 57.61372002863287, 57.77198856107945, 57.930257093526045, 58.088525625972636, 58.24679415841922, 58.40506269086581, 58.563331223312396, 58.72159975575899, 58.87986828820557, 59.038136820652156, 59.19640535309875, 59.35467388554534, 59.51294241799192, 59.671210950438514, 59.829479482885105, 59.98774801533169], [44.21600245712783, 44.37427098957442, 44.53253952202101, 44.690808054467595, 44.84907658691418, 45.00734511936077, 45.16561365180736, 45.32388218425395, 45.48215071670054, 45.64041924914712, 45.79868778159371, 45.9569563140403, 46.11522484648689, 46.27349337893347, 46.431761911380065, 46.59003044382665, 46.74829897627324, 46.906567508719824, 47.064836041166416, 47.223104573613, 47.38137310605959, 47.539641638506176, 47.69791017095277, 47.85617870339935, 48.01444723584594, 48.17271576829253, 48.33098430073912, 48.4892528331857, 48.647521365632294, 48.80578989807888, 48.96405843052547, 49.12232696297205, 49.280595495418645, 49.438864027865236, 49.59713256031182, 49.755401092758405, 49.913669625204996, 50.07193815765159, 50.23020669009817, 50.38847522254476, 50.54674375499135, 50.70501228743794, 50.86328081988452, 51.021549352331114, 51.1798178847777, 51.33808641722429, 51.496354949670874, 51.654623482117465, 51.81289201456405, 51.97116054701064, 52.129429079457225, 52.287697611903816, 52.4459661443504, 52.60423467679699, 52.762503209243576, 52.92077174169017, 53.07904027413675, 53.23730880658334, 53.39557733902993, 53.55384587147652, 53.71211440392311, 53.870382936369694, 54.02865146881628, 54.18692000126287, 54.34518853370946, 54.503457066156045, 54.66172559860263, 54.81999413104922, 54.97826266349581, 55.136531195942396, 55.29479972838898, 55.45306826083557, 55.61133679328216, 55.76960532572875, 55.92787385817533, 56.08614239062192, 56.244410923068514, 56.4026794555151, 56.56094798796168, 56.719216520408274, 56.877485052854865, 57.03575358530145, 57.19402211774804, 57.352290650194625, 57.51055918264122, 57.6688277150878, 57.82709624753439, 57.985364779980976, 58.14363331242757, 58.30190184487415, 58.46017037732074, 58.61843890976733, 58.77670744221392, 58.9349759746605, 59.093244507107094, 59.251513039553686, 59.40978157200027, 59.56805010444686, 59.726318636893446, 59.88458716934004], [44.112841611136176, 44.27111014358277, 44.42937867602935, 44.58764720847594, 44.74591574092253, 44.90418427336912, 45.0624528058157, 45.220721338262294, 45.37898987070888, 45.53725840315547, 45.69552693560206, 45.853795468048645, 46.012064000495236, 46.17033253294182, 46.32860106538841, 46.486869597834996, 46.64513813028159, 46.80340666272817, 46.96167519517476, 47.11994372762135, 47.27821226006794, 47.43648079251452, 47.594749324961114, 47.7530178574077, 47.91128638985429, 48.069554922300874, 48.227823454747465, 48.38609198719405, 48.54436051964064, 48.702629052087225, 48.86089758453382, 49.0191661169804, 49.17743464942699, 49.335703181873576, 49.49397171432017, 49.65224024676675, 49.81050877921334, 49.96877731165993, 50.12704584410652, 50.28531437655311, 50.443582908999694, 50.601851441446286, 50.76011997389287, 50.918388506339454, 51.076657038786045, 51.23492557123264, 51.39319410367922, 51.551462636125805, 51.7097311685724, 51.86799970101899, 52.02626823346557, 52.184536765912156, 52.34280529835875, 52.50107383080534, 52.65934236325192, 52.817610895698515, 52.9758794281451, 53.13414796059169, 53.292416493038274, 53.450685025484866, 53.60895355793146, 53.76722209037804, 53.925490622824626, 54.08375915527122, 54.24202768771781, 54.40029622016439, 54.55856475261098, 54.71683328505757, 54.87510181750416, 55.033370349950744, 55.19163888239733, 55.34990741484392, 55.50817594729051, 55.666444479737095, 55.82471301218368, 55.98298154463027, 56.14125007707686, 56.299518609523446, 56.45778714197003, 56.61605567441662, 56.77432420686321, 56.9325927393098, 57.09086127175639, 57.24912980420297, 57.407398336649564, 57.56566686909615, 57.72393540154274, 57.882203933989324, 58.040472466435915, 58.1987409988825, 58.35700953132909, 58.515278063775675, 58.673546596222266, 58.83181512866885, 58.99008366111544, 59.14835219356203, 59.30662072600862, 59.46488925845521, 59.62315779090179, 59.781426323348384], [44.00968076514452, 44.167949297591115, 44.3262178300377, 44.48448636248429, 44.642754894930874, 44.801023427377466, 44.95929195982405, 45.11756049227064, 45.275829024717225, 45.43409755716382, 45.5923660896104, 45.75063462205699, 45.90890315450358, 46.06717168695017, 46.22544021939676, 46.38370875184334, 46.54197728428993, 46.70024581673652, 46.85851434918311, 47.016782881629695, 47.175051414076286, 47.33331994652287, 47.49158847896946, 47.649857011416046, 47.80812554386264, 47.96639407630922, 48.12466260875581, 48.2829311412024, 48.44119967364899, 48.59946820609557, 48.757736738542164, 48.91600527098875, 49.07427380343534, 49.232542335881924, 49.390810868328515, 49.5490794007751, 49.70734793322169, 49.865616465668275, 50.023884998114866, 50.18215353056145, 50.34042206300804, 50.49869059545463, 50.65695912790122, 50.8152276603478, 50.97349619279439, 51.131764725240984, 51.29003325768757, 51.44830179013415, 51.606570322580744, 51.764838855027335, 51.92310738747392, 52.081375919920504, 52.239644452367095, 52.397912984813686, 52.55618151726027, 52.71445004970686, 52.872718582153446, 53.03098711460004, 53.18925564704662, 53.34752417949321, 53.5057927119398, 53.66406124438639, 53.82232977683297, 53.980598309279564, 54.13886684172615, 54.29713537417274, 54.455403906619324, 54.613672439065915, 54.7719409715125, 54.93020950395909, 55.088478036405675, 55.24674656885227, 55.40501510129885, 55.56328363374544, 55.721552166192026, 55.87982069863862, 56.03808923108521, 56.19635776353179, 56.35462629597838, 56.51289482842497, 56.67116336087156, 56.829431893318144, 56.98770042576473, 57.14596895821132, 57.30423749065791, 57.462506023104496, 57.62077455555108, 57.77904308799767, 57.93731162044426, 58.09558015289085, 58.25384868533744, 58.41211721778402, 58.570385750230614, 58.7286542826772, 58.88692281512378, 59.04519134757037, 59.203459880016965, 59.36172841246355, 59.51999694491014, 59.67826547735673], [43.90651991915287, 44.06478845159946, 44.223056984046046, 44.38132551649264, 44.53959404893922, 44.69786258138581, 44.8561311138324, 45.01439964627899, 45.17266817872557, 45.330936711172164, 45.48920524361875, 45.64747377606534, 45.805742308511924, 45.964010840958515, 46.1222793734051, 46.28054790585169, 46.438816438298275, 46.597084970744866, 46.75535350319145, 46.91362203563804, 47.071890568084626, 47.23015910053122, 47.38842763297781, 47.54669616542439, 47.704964697870984, 47.86323323031757, 48.02150176276416, 48.179770295210744, 48.338038827657336, 48.49630736010392, 48.65457589255051, 48.812844424997095, 48.97111295744369, 49.12938148989027, 49.28765002233686, 49.44591855478345, 49.60418708723004, 49.76245561967662, 49.92072415212321, 50.0789926845698, 50.23726121701639, 50.39552974946297, 50.553798281909565, 50.71206681435615, 50.87033534680274, 51.02860387924933, 51.186872411695916, 51.3451409441425, 51.50340947658909, 51.66167800903568, 51.81994654148227, 51.97821507392885, 52.13648360637544, 52.294752138822034, 52.45302067126862, 52.61128920371521, 52.769557736161794, 52.927826268608385, 53.08609480105497, 53.24436333350155, 53.402631865948145, 53.560900398394736, 53.71916893084132, 53.877437463287905, 54.035705995734496, 54.19397452818109, 54.35224306062767, 54.51051159307426, 54.66878012552085, 54.82704865796744, 54.98531719041402, 55.143585722860614, 55.3018542553072, 55.46012278775379, 55.618391320200374, 55.776659852646965, 55.934928385093556, 56.09319691754014, 56.251465449986725, 56.409733982433316, 56.56800251487991, 56.72627104732649, 56.884539579773076, 57.04280811221967, 57.20107664466626, 57.35934517711284, 57.51761370955943, 57.67588224200602, 57.83415077445261, 57.992419306899194, 58.150687839345785, 58.30895637179237, 58.46722490423896, 58.625493436685545, 58.78376196913213, 58.94203050157872, 59.10029903402531, 59.258567566471896, 59.41683609891849, 59.57510463136508], [43.80335907316122, 43.9616276056078, 44.11989613805439, 44.278164670500985, 44.43643320294757, 44.59470173539416, 44.752970267840745, 44.911238800287336, 45.06950733273392, 45.22777586518051, 45.386044397627096, 45.54431293007369, 45.70258146252027, 45.86084999496686, 46.01911852741345, 46.17738705986004, 46.33565559230662, 46.493924124753214, 46.6521926571998, 46.81046118964639, 46.968729722092974, 47.126998254539565, 47.28526678698615, 47.44353531943274, 47.601803851879325, 47.760072384325916, 47.9183409167725, 48.07660944921909, 48.23487798166568, 48.39314651411227, 48.55141504655886, 48.70968357900544, 48.86795211145203, 49.02622064389862, 49.18448917634521, 49.342757708791794, 49.50102624123838, 49.65929477368497, 49.81756330613156, 49.975831838578145, 50.134100371024736, 50.29236890347132, 50.45063743591791, 50.608905968364496, 50.76717450081109, 50.92544303325767, 51.08371156570426, 51.24198009815085, 51.40024863059744, 51.55851716304402, 51.716785695490614, 51.8750542279372, 52.03332276038379, 52.191591292830374, 52.349859825276965, 52.50812835772355, 52.66639689017014, 52.824665422616725, 52.98293395506332, 53.1412024875099, 53.29947101995649, 53.45773955240308, 53.61600808484967, 53.77427661729625, 53.93254514974284, 54.090813682189435, 54.24908221463602, 54.40735074708261, 54.565619279529194, 54.723887811975786, 54.88215634442237, 55.040424876868954, 55.198693409315545, 55.35696194176214, 55.51523047420872, 55.673499006655305, 55.831767539101904, 55.99003607154849, 56.14830460399507, 56.30657313644166, 56.464841668888255, 56.62311020133484, 56.78137873378142, 56.939647266228015, 57.097915798674606, 57.25618433112119, 57.414452863567774, 57.572721396014366, 57.73098992846096, 57.88925846090754, 58.047526993354126, 58.20579552580072, 58.36406405824731, 58.52233259069389, 58.68060112314048, 58.83886965558707, 58.99713818803366, 59.155406720480244, 59.313675252926835, 59.471943785373426], [43.700198227169565, 43.85846675961615, 44.01673529206274, 44.175003824509325, 44.333272356955916, 44.4915408894025, 44.64980942184909, 44.80807795429568, 44.96634648674227, 45.12461501918885, 45.28288355163544, 45.441152084082034, 45.59942061652862, 45.75768914897521, 45.915957681421794, 46.074226213868386, 46.23249474631497, 46.39076327876156, 46.549031811208145, 46.70730034365474, 46.86556887610132, 47.02383740854791, 47.1821059409945, 47.34037447344109, 47.49864300588767, 47.65691153833426, 47.81518007078085, 47.97344860322744, 48.13171713567402, 48.289985668120615, 48.4482542005672, 48.60652273301379, 48.764791265460374, 48.923059797906966, 49.08132833035356, 49.23959686280014, 49.397865395246725, 49.55613392769332, 49.71440246013991, 49.87267099258649, 50.030939525033084, 50.18920805747967, 50.34747658992626, 50.50574512237284, 50.664013654819435, 50.82228218726602, 50.98055071971261, 51.138819252159195, 51.297087784605786, 51.45535631705237, 51.61362484949896, 51.771893381945546, 51.93016191439214, 52.08843044683872, 52.24669897928531, 52.4049675117319, 52.56323604417849, 52.72150457662507, 52.879773109071664, 53.03804164151825, 53.19631017396484, 53.35457870641143, 53.512847238858015, 53.6711157713046, 53.82938430375119, 53.98765283619778, 54.145921368644366, 54.30418990109095, 54.46245843353754, 54.62072696598413, 54.77899549843072, 54.9372640308773, 55.09553256332389, 55.253801095770484, 55.41206962821707, 55.57033816066365, 55.728606693110244, 55.886875225556835, 56.04514375800342, 56.20341229045001, 56.361680822896595, 56.519949355343186, 56.67821788778977, 56.83648642023636, 56.994754952682946, 57.15302348512954, 57.31129201757612, 57.46956055002271, 57.627829082469304, 57.78609761491589, 57.94436614736247, 58.102634679809064, 58.26090321225565, 58.41917174470224, 58.577440277148824, 58.735708809595415, 58.89397734204201, 59.05224587448859, 59.21051440693518, 59.36878293938177], [43.59703738117791, 43.7553059136245, 43.91357444607109, 44.07184297851767, 44.230111510964264, 44.38838004341085, 44.54664857585744, 44.70491710830402, 44.863185640750615, 45.0214541731972, 45.17972270564379, 45.337991238090375, 45.496259770536966, 45.65452830298355, 45.81279683543014, 45.97106536787673, 46.12933390032332, 46.28760243276991, 46.44587096521649, 46.604139497663084, 46.76240803010967, 46.92067656255626, 47.078945095002844, 47.237213627449435, 47.39548215989602, 47.55375069234261, 47.712019224789195, 47.870287757235786, 48.02855628968237, 48.18682482212896, 48.345093354575546, 48.50336188702214, 48.66163041946872, 48.81989895191531, 48.9781674843619, 49.13643601680849, 49.29470454925507, 49.452973081701664, 49.61124161414825, 49.76951014659484, 49.927778679041424, 50.086047211488015, 50.2443157439346, 50.40258427638119, 50.560852808827775, 50.719121341274366, 50.87738987372095, 51.03565840616754, 51.193926938614126, 51.35219547106072, 51.51046400350731, 51.66873253595389, 51.82700106840048, 51.98526960084707, 52.14353813329366, 52.301806665740244, 52.460075198186836, 52.61834373063342, 52.77661226308001, 52.934880795526595, 53.09314932797319, 53.25141786041977, 53.40968639286636, 53.56795492531295, 53.72622345775954, 53.88449199020612, 54.04276052265271, 54.2010290550993, 54.35929758754589, 54.51756611999247, 54.675834652439065, 54.83410318488565, 54.99237171733224, 55.15064024977883, 55.308908782225416, 55.467177314672, 55.62544584711859, 55.78371437956518, 55.94198291201177, 56.10025144445835, 56.25851997690494, 56.416788509351534, 56.57505704179812, 56.7333255742447, 56.891594106691294, 57.049862639137885, 57.20813117158447, 57.36639970403105, 57.52466823647765, 57.682936768924236, 57.84120530137082, 57.999473833817405, 58.157742366263996, 58.31601089871059, 58.47427943115717, 58.63254796360376, 58.790816496050354, 58.94908502849694, 59.10735356094352, 59.265622093390114], [43.49387653518626, 43.652145067632844, 43.810413600079436, 43.96868213252602, 44.12695066497261, 44.285219197419195, 44.44348772986579, 44.60175626231237, 44.76002479475896, 44.91829332720555, 45.07656185965214, 45.23483039209872, 45.39309892454531, 45.5513674569919, 45.70963598943849, 45.86790452188507, 46.026173054331665, 46.18444158677825, 46.34271011922484, 46.500978651671424, 46.659247184118016, 46.8175157165646, 46.97578424901119, 47.13405278145778, 47.29232131390437, 47.45058984635096, 47.60885837879754, 47.767126911244134, 47.92539544369072, 48.08366397613731, 48.24193250858389, 48.400201041030485, 48.55846957347707, 48.71673810592366, 48.875006638370245, 49.033275170816836, 49.19154370326342, 49.34981223571001, 49.508080768156596, 49.66634930060319, 49.82461783304977, 49.98288636549636, 50.14115489794295, 50.29942343038954, 50.45769196283612, 50.615960495282714, 50.7742290277293, 50.93249756017589, 51.090766092622474, 51.249034625069065, 51.407303157515656, 51.56557168996224, 51.723840222408825, 51.882108754855416, 52.04037728730201, 52.19864581974859, 52.35691435219518, 52.51518288464177, 52.67345141708836, 52.83171994953494, 52.989988481981534, 53.14825701442812, 53.30652554687471, 53.464794079321294, 53.623062611767885, 53.78133114421447, 53.93959967666106, 54.097868209107645, 54.256136741554236, 54.41440527400082, 54.57267380644741, 54.730942338893996, 54.88921087134059, 55.04747940378717, 55.20574793623376, 55.36401646868035, 55.52228500112694, 55.68055353357353, 55.838822066020114, 55.9970905984667, 56.15535913091329, 56.31362766335988, 56.471896195806465, 56.63016472825305, 56.78843326069964, 56.94670179314623, 57.10497032559282, 57.2632388580394, 57.42150739048599, 57.57977592293258, 57.73804445537917, 57.89631298782575, 58.05458152027234, 58.212850052718935, 58.37111858516552, 58.52938711761211, 58.6876556500587, 58.845924182505286, 59.00419271495187, 59.16246124739846], [43.39071568919461, 43.54898422164119, 43.70725275408778, 43.86552128653437, 44.02378981898096, 44.18205835142754, 44.340326883874134, 44.49859541632072, 44.65686394876731, 44.815132481213894, 44.973401013660485, 45.13166954610707, 45.28993807855366, 45.448206611000245, 45.606475143446836, 45.76474367589342, 45.92301220834001, 46.081280740786596, 46.23954927323319, 46.39781780567977, 46.55608633812636, 46.71435487057295, 46.87262340301954, 47.03089193546612, 47.189160467912714, 47.3474290003593, 47.50569753280589, 47.66396606525248, 47.822234597699065, 47.98050313014565, 48.13877166259224, 48.297040195038825, 48.455308727485416, 48.61357725993201, 48.77184579237859, 48.93011432482518, 49.08838285727177, 49.24665138971836, 49.40491992216494, 49.563188454611534, 49.72145698705812, 49.87972551950471, 50.037994051951294, 50.196262584397886, 50.35453111684447, 50.51279964929106, 50.671068181737645, 50.82933671418424, 50.98760524663082, 51.14587377907741, 51.304142311524, 51.46241084397059, 51.62067937641717, 51.77894790886376, 51.93721644131035, 52.09548497375694, 52.25375350620352, 52.412022038650115, 52.5702905710967, 52.72855910354329, 52.88682763598988, 53.045096168436466, 53.20336470088305, 53.36163323332964, 53.51990176577623, 53.67817029822282, 53.83643883066941, 53.99470736311599, 54.152975895562584, 54.31124442800917, 54.46951296045576, 54.62778149290234, 54.786050025348935, 54.94431855779552, 55.10258709024211, 55.260855622688695, 55.419124155135286, 55.57739268758188, 55.73566122002846, 55.893929752475046, 56.05219828492164, 56.21046681736823, 56.36873534981481, 56.5270038822614, 56.68527241470799, 56.84354094715458, 57.001809479601164, 57.16007801204775, 57.31834654449434, 57.47661507694093, 57.634883609387515, 57.7931521418341, 57.95142067428069, 58.10968920672728, 58.267957739173866, 58.42622627162045, 58.58449480406705, 58.74276333651363, 58.90103186896022, 59.05930040140681], [43.28755484320295, 43.44582337564954, 43.60409190809612, 43.762360440542714, 43.920628972989306, 44.07889750543589, 44.237166037882474, 44.395434570329066, 44.55370310277566, 44.71197163522224, 44.87024016766883, 45.02850870011542, 45.18677723256201, 45.34504576500859, 45.503314297455184, 45.66158282990177, 45.81985136234836, 45.97811989479494, 46.136388427241535, 46.29465695968812, 46.45292549213471, 46.611194024581295, 46.769462557027886, 46.92773108947447, 47.08599962192106, 47.244268154367646, 47.40253668681424, 47.56080521926082, 47.71907375170741, 47.877342284154, 48.03561081660059, 48.19387934904717, 48.352147881493764, 48.51041641394035, 48.66868494638694, 48.82695347883353, 48.985222011280115, 49.1434905437267, 49.30175907617329, 49.46002760861988, 49.618296141066466, 49.77656467351306, 49.93483320595964, 50.09310173840623, 50.25137027085282, 50.40963880329941, 50.56790733574599, 50.726175868192584, 50.88444440063917, 51.04271293308576, 51.200981465532344, 51.359249997978935, 51.51751853042552, 51.67578706287211, 51.834055595318695, 51.992324127765286, 52.15059266021187, 52.30886119265846, 52.467129725105046, 52.62539825755164, 52.78366678999822, 52.94193532244481, 53.1002038548914, 53.25847238733799, 53.41674091978457, 53.575009452231164, 53.733277984677756, 53.89154651712434, 54.049815049570924, 54.208083582017515, 54.36635211446411, 54.52462064691069, 54.682889179357275, 54.84115771180387, 54.99942624425046, 55.15769477669704, 55.31596330914363, 55.47423184159022, 55.63250037403681, 55.79076890648339, 55.949037438929984, 56.10730597137657, 56.26557450382316, 56.423843036269744, 56.582111568716336, 56.74038010116292, 56.89864863360951, 57.056917166056095, 57.21518569850269, 57.37345423094928, 57.53172276339586, 57.68999129584245, 57.84825982828904, 58.00652836073562, 58.16479689318221, 58.3230654256288, 58.48133395807539, 58.63960249052198, 58.797871022968565, 58.956139555415156], [43.184393997211295, 43.342662529657886, 43.50093106210447, 43.65919959455106, 43.817468126997646, 43.97573665944424, 44.13400519189082, 44.29227372433741, 44.450542256784004, 44.60881078923059, 44.76707932167717, 44.925347854123764, 45.083616386570355, 45.24188491901694, 45.40015345146353, 45.558421983910115, 45.71669051635671, 45.87495904880329, 46.03322758124988, 46.191496113696466, 46.34976464614306, 46.50803317858964, 46.66630171103623, 46.82457024348282, 46.98283877592941, 47.14110730837599, 47.299375840822584, 47.45764437326917, 47.61591290571576, 47.774181438162344, 47.932449970608936, 48.09071850305552, 48.24898703550211, 48.407255567948695, 48.56552410039529, 48.72379263284187, 48.88206116528846, 49.04032969773505, 49.19859823018164, 49.35686676262823, 49.51513529507481, 49.673403827521405, 49.83167235996799, 49.98994089241458, 50.148209424861165, 50.306477957307756, 50.46474648975434, 50.62301502220093, 50.781283554647516, 50.93955208709411, 51.09782061954069, 51.25608915198728, 51.41435768443387, 51.57262621688046, 51.73089474932704, 51.889163281773634, 52.04743181422022, 52.20570034666681, 52.36396887911339, 52.522237411559985, 52.68050594400657, 52.83877447645316, 52.997043008899745, 53.155311541346336, 53.31358007379292, 53.47184860623951, 53.6301171386861, 53.78838567113269, 53.94665420357927, 54.10492273602586, 54.263191268472454, 54.42145980091904, 54.57972833336562, 54.737996865812214, 54.896265398258805, 55.05453393070539, 55.21280246315198, 55.371070995598565, 55.529339528045156, 55.68760806049174, 55.84587659293833, 56.004145125384916, 56.16241365783151, 56.32068219027809, 56.47895072272468, 56.63721925517127, 56.79548778761786, 56.95375632006444, 57.112024852511034, 57.270293384957625, 57.42856191740421, 57.586830449850794, 57.745098982297385, 57.90336751474397, 58.06163604719056, 58.219904579637145, 58.378173112083736, 58.53644164453033, 58.69471017697691, 58.8529787094235], [43.08123315121964, 43.239501683666234, 43.39777021611282, 43.55603874855941, 43.71430728100599, 43.872575813452585, 44.03084434589917, 44.18911287834576, 44.347381410792345, 44.505649943238936, 44.66391847568552, 44.82218700813211, 44.980455540578696, 45.13872407302529, 45.29699260547187, 45.45526113791846, 45.61352967036505, 45.77179820281164, 45.93006673525822, 46.088335267704814, 46.246603800151405, 46.40487233259799, 46.56314086504458, 46.721409397491165, 46.879677929937756, 47.03794646238434, 47.19621499483093, 47.354483527277516, 47.51275205972411, 47.67102059217069, 47.82928912461728, 47.98755765706387, 48.14582618951046, 48.30409472195704, 48.462363254403634, 48.62063178685022, 48.77890031929681, 48.937168851743394, 49.095437384189985, 49.25370591663657, 49.41197444908316, 49.570242981529745, 49.728511513976336, 49.88678004642292, 50.04504857886951, 50.2033171113161, 50.36158564376269, 50.51985417620927, 50.67812270865586, 50.836391241102454, 50.99465977354904, 51.15292830599563, 51.311196838442214, 51.4694653708888, 51.62773390333539, 51.78600243578198, 51.944270968228565, 52.10253950067515, 52.26080803312174, 52.41907656556833, 52.577345098014916, 52.73561363046151, 52.89388216290809, 53.05215069535468, 53.21041922780127, 53.36868776024786, 53.52695629269444, 53.685224825141034, 53.84349335758762, 54.00176189003421, 54.160030422480794, 54.318298954927386, 54.47656748737397, 54.63483601982056, 54.793104552267145, 54.95137308471374, 55.10964161716032, 55.26791014960691, 55.4261786820535, 55.58444721450009, 55.74271574694667, 55.90098427939326, 56.059252811839855, 56.21752134428644, 56.37578987673302, 56.534058409179615, 56.692326941626206, 56.85059547407279, 57.00886400651938, 57.167132538965966, 57.32540107141256, 57.48366960385914, 57.641938136305725, 57.80020666875232, 57.95847520119891, 58.11674373364549, 58.275012266092084, 58.433280798538675, 58.59154933098526, 58.74981786343184], [42.97807230522799, 43.13634083767458, 43.294609370121165, 43.45287790256776, 43.61114643501434, 43.76941496746093, 43.927683499907516, 44.08595203235411, 44.24422056480069, 44.40248909724728, 44.56075762969387, 44.71902616214046, 44.87729469458704, 45.035563227033634, 45.19383175948022, 45.35210029192681, 45.510368824373394, 45.668637356819985, 45.82690588926657, 45.98517442171316, 46.143442954159745, 46.30171148660634, 46.45998001905292, 46.61824855149951, 46.7765170839461, 46.93478561639269, 47.09305414883927, 47.25132268128586, 47.409591213732455, 47.56785974617904, 47.72612827862563, 47.884396811072214, 48.042665343518806, 48.20093387596539, 48.35920240841198, 48.517470940858566, 48.67573947330516, 48.83400800575174, 48.99227653819833, 49.15054507064492, 49.30881360309151, 49.46708213553809, 49.625350667984684, 49.78361920043127, 49.94188773287786, 50.10015626532444, 50.258424797771035, 50.41669333021762, 50.57496186266421, 50.733230395110795, 50.891498927557386, 51.04976746000397, 51.20803599245056, 51.366304524897146, 51.52457305734374, 51.68284158979033, 51.84111012223691, 51.9993786546835, 52.15764718713009, 52.31591571957668, 52.474184252023264, 52.632452784469855, 52.79072131691644, 52.94898984936303, 53.107258381809615, 53.265526914256206, 53.42379544670279, 53.58206397914938, 53.740332511595966, 53.89860104404256, 54.05686957648914, 54.21513810893573, 54.37340664138232, 54.53167517382891, 54.68994370627549, 54.848212238722084, 55.00648077116867, 55.16474930361526, 55.323017836061844, 55.481286368508435, 55.63955490095502, 55.79782343340161, 55.9560919658482, 56.114360498294786, 56.27262903074137, 56.43089756318796, 56.58916609563455, 56.74743462808114, 56.90570316052773, 57.06397169297431, 57.222240225420904, 57.38050875786749, 57.53877729031407, 57.697045822760664, 57.855314355207256, 58.01358288765384, 58.17185142010043, 58.33011995254702, 58.48838848499361, 58.64665701744019], [42.87491145923634, 43.03317999168293, 43.19144852412951, 43.3497170565761, 43.50798558902269, 43.66625412146928, 43.824522653915864, 43.982791186362455, 44.14105971880904, 44.29932825125563, 44.457596783702215, 44.615865316148806, 44.77413384859539, 44.93240238104198, 45.090670913488566, 45.24893944593516, 45.40720797838174, 45.56547651082833, 45.72374504327492, 45.88201357572151, 46.04028210816809, 46.198550640614684, 46.35681917306127, 46.51508770550786, 46.673356237954444, 46.831624770401035, 46.98989330284762, 47.14816183529421, 47.3064303677408, 47.464698900187386, 47.62296743263398, 47.78123596508056, 47.939504497527146, 48.09777302997374, 48.25604156242033, 48.41431009486691, 48.5725786273135, 48.73084715976009, 48.88911569220668, 49.047384224653264, 49.205652757099855, 49.36392128954644, 49.52218982199303, 49.680458354439615, 49.83872688688621, 49.99699541933279, 50.15526395177938, 50.313532484225966, 50.47180101667256, 50.63006954911914, 50.78833808156573, 50.94660661401232, 51.10487514645891, 51.26314367890549, 51.421412211352084, 51.579680743798676, 51.73794927624526, 51.896217808691844, 52.054486341138436, 52.21275487358502, 52.37102340603161, 52.529291938478195, 52.68756047092479, 52.84582900337137, 53.00409753581796, 53.16236606826455, 53.32063460071114, 53.47890313315773, 53.63717166560431, 53.7954401980509, 53.95370873049749, 54.11197726294408, 54.270245795390665, 54.42851432783725, 54.58678286028384, 54.74505139273043, 54.903319925177016, 55.06158845762361, 55.21985699007019, 55.37812552251678, 55.53639405496337, 55.69466258740996, 55.85293111985654, 56.011199652303134, 56.16946818474972, 56.32773671719631, 56.48600524964289, 56.644273782089485, 56.80254231453607, 56.96081084698266, 57.11907937942925, 57.277347911875836, 57.43561644432242, 57.59388497676901, 57.752153509215596, 57.91042204166219, 58.06869057410878, 58.22695910655536, 58.385227639001954, 58.54349617144854], [42.771750613244684, 42.93001914569127, 43.08828767813786, 43.246556210584444, 43.404824743031035, 43.56309327547763, 43.72136180792421, 43.879630340370795, 44.03789887281739, 44.19616740526398, 44.35443593771056, 44.51270447015715, 44.67097300260374, 44.82924153505033, 44.98751006749691, 45.145778599943505, 45.30404713239009, 45.46231566483668, 45.620584197283264, 45.778852729729856, 45.93712126217644, 46.09538979462303, 46.253658327069616, 46.41192685951621, 46.57019539196279, 46.72846392440938, 46.88673245685597, 47.04500098930256, 47.20326952174914, 47.361538054195734, 47.51980658664232, 47.67807511908891, 47.83634365153549, 47.994612183982085, 48.15288071642867, 48.31114924887526, 48.469417781321845, 48.627686313768436, 48.78595484621502, 48.94422337866161, 49.1024919111082, 49.26076044355479, 49.41902897600137, 49.57729750844796, 49.735566040894554, 49.89383457334114, 50.05210310578772, 50.210371638234314, 50.368640170680905, 50.52690870312749, 50.68517723557408, 50.843445768020665, 51.001714300467256, 51.15998283291384, 51.31825136536043, 51.476519897807016, 51.63478843025361, 51.79305696270019, 51.95132549514678, 52.10959402759337, 52.26786256003996, 52.42613109248654, 52.584399624933134, 52.74266815737972, 52.90093668982631, 53.059205222272894, 53.217473754719485, 53.37574228716608, 53.53401081961266, 53.692279352059245, 53.850547884505836, 54.00881641695243, 54.16708494939901, 54.325353481845596, 54.48362201429219, 54.64189054673878, 54.80015907918536, 54.958427611631954, 55.11669614407854, 55.27496467652513, 55.433233208971714, 55.591501741418305, 55.74977027386489, 55.90803880631148, 56.066307338758065, 56.22457587120466, 56.38284440365124, 56.54111293609783, 56.699381468544416, 56.85765000099101, 57.0159185334376, 57.17418706588418, 57.33245559833077, 57.49072413077736, 57.64899266322394, 57.807261195670534, 57.965529728117126, 58.12379826056371, 58.2820667930103, 58.440335325456886], [42.66858976725303, 42.826858299699616, 42.98512683214621, 43.14339536459279, 43.30166389703938, 43.45993242948597, 43.61820096193256, 43.77646949437914, 43.934738026825734, 44.09300655927232, 44.25127509171891, 44.409543624165494, 44.567812156612085, 44.726080689058676, 44.88434922150526, 45.04261775395185, 45.200886286398436, 45.35915481884503, 45.51742335129161, 45.6756918837382, 45.83396041618479, 45.99222894863138, 46.15049748107796, 46.308766013524554, 46.46703454597114, 46.62530307841773, 46.783571610864314, 46.941840143310905, 47.10010867575749, 47.25837720820408, 47.416645740650665, 47.57491427309726, 47.73318280554384, 47.89145133799043, 48.049719870437016, 48.20798840288361, 48.36625693533019, 48.52452546777678, 48.68279400022337, 48.84106253266996, 48.99933106511655, 49.157599597563134, 49.31586813000972, 49.47413666245631, 49.6324051949029, 49.790673727349485, 49.94894225979607, 50.10721079224266, 50.26547932468925, 50.42374785713584, 50.58201638958243, 50.74028492202901, 50.8985534544756, 51.05682198692219, 51.21509051936878, 51.37335905181536, 51.531627584261955, 51.68989611670854, 51.84816464915513, 52.006433181601714, 52.164701714048306, 52.32297024649489, 52.48123877894148, 52.639507311388066, 52.79777584383466, 52.95604437628124, 53.11431290872783, 53.27258144117442, 53.43084997362101, 53.58911850606759, 53.747387038514184, 53.90565557096077, 54.06392410340736, 54.22219263585394, 54.380461168300535, 54.53872970074712, 54.69699823319371, 54.8552667656403, 55.013535298086886, 55.17180383053348, 55.33007236298006, 55.488340895426646, 55.64660942787324, 55.80487796031983, 55.96314649276641, 56.121415025213, 56.27968355765959, 56.43795209010618, 56.596220622552764, 56.754489154999355, 56.912757687445946, 57.07102621989253, 57.229294752339115, 57.3875632847857, 57.54583181723229, 57.70410034967888, 57.862368882125466, 58.02063741457206, 58.17890594701865, 58.33717447946523], [42.56542892126138, 42.72369745370796, 42.881965986154555, 43.04023451860114, 43.19850305104773, 43.356771583494314, 43.515040115940906, 43.67330864838749, 43.83157718083408, 43.989845713280666, 44.14811424572726, 44.30638277817384, 44.46465131062043, 44.62291984306702, 44.78118837551361, 44.93945690796019, 45.09772544040678, 45.25599397285337, 45.41426250529996, 45.57253103774654, 45.730799570193135, 45.889068102639726, 46.04733663508631, 46.205605167532894, 46.363873699979486, 46.52214223242608, 46.68041076487266, 46.83867929731925, 46.99694782976584, 47.15521636221243, 47.31348489465901, 47.471753427105604, 47.63002195955219, 47.78829049199878, 47.946559024445364, 48.104827556891955, 48.26309608933854, 48.42136462178513, 48.579633154231715, 48.737901686678306, 48.89617021912489, 49.05443875157148, 49.212707284018066, 49.37097581646466, 49.52924434891124, 49.68751288135783, 49.84578141380442, 50.00404994625101, 50.16231847869759, 50.320587011144184, 50.47885554359077, 50.63712407603736, 50.795392608483944, 50.953661140930535, 51.11192967337712, 51.27019820582371, 51.4284667382703, 51.586735270716886, 51.74500380316347, 51.90327233561006, 52.06154086805665, 52.21980940050324, 52.37807793294982, 52.53634646539641, 52.694614997843004, 52.85288353028959, 53.01115206273618, 53.169420595182764, 53.327689127629355, 53.48595766007594, 53.64422619252253, 53.802494724969115, 53.96076325741571, 54.11903178986229, 54.27730032230888, 54.435568854755466, 54.59383738720206, 54.75210591964864, 54.91037445209523, 55.068642984541825, 55.22691151698841, 55.38518004943499, 55.543448581881584, 55.701717114328176, 55.85998564677476, 56.018254179221344, 56.176522711667936, 56.33479124411453, 56.49305977656111, 56.6513283090077, 56.80959684145429, 56.96786537390088, 57.12613390634746, 57.28440243879405, 57.44267097124064, 57.60093950368723, 57.75920803613381, 57.917476568580405, 58.075745101026996, 58.23401363347358], [42.462268075269726, 42.62053660771631, 42.7788051401629, 42.937073672609486, 43.09534220505608, 43.25361073750266, 43.41187926994925, 43.57014780239584, 43.72841633484243, 43.88668486728901, 44.044953399735604, 44.20322193218219, 44.36149046462878, 44.519758997075364, 44.678027529521955, 44.83629606196854, 44.99456459441513, 45.152833126861715, 45.31110165930831, 45.46937019175489, 45.62763872420148, 45.785907256648066, 45.94417578909466, 46.10244432154124, 46.26071285398783, 46.418981386434425, 46.57724991888101, 46.7355184513276, 46.893786983774184, 47.052055516220776, 47.21032404866736, 47.368592581113944, 47.526861113560535, 47.68512964600713, 47.84339817845371, 48.0016667109003, 48.15993524334689, 48.31820377579348, 48.47647230824006, 48.63474084068665, 48.79300937313324, 48.95127790557983, 49.10954643802641, 49.267814970473005, 49.42608350291959, 49.58435203536618, 49.742620567812764, 49.900889100259356, 50.05915763270594, 50.21742616515253, 50.375694697599116, 50.53396323004571, 50.69223176249229, 50.85050029493888, 51.00876882738547, 51.16703735983206, 51.32530589227865, 51.483574424725234, 51.64184295717182, 51.80011148961841, 51.958380022065, 52.116648554511585, 52.27491708695817, 52.43318561940476, 52.59145415185135, 52.749722684297936, 52.90799121674453, 53.06625974919111, 53.2245282816377, 53.38279681408429, 53.54106534653088, 53.69933387897746, 53.857602411424054, 54.01587094387064, 54.17413947631723, 54.332408008763814, 54.490676541210405, 54.64894507365699, 54.80721360610358, 54.96548213855017, 55.123750670996756, 55.28201920344334, 55.44028773588993, 55.59855626833652, 55.75682480078311, 55.91509333322969, 56.07336186567628, 56.231630398122874, 56.38989893056946, 56.54816746301605, 56.706435995462634, 56.864704527909225, 57.02297306035581, 57.181241592802394, 57.339510125248985, 57.49777865769558, 57.65604719014216, 57.81431572258875, 57.97258425503534, 58.13085278748193], [42.35910722927807, 42.51737576172466, 42.67564429417125, 42.83391282661783, 42.99218135906442, 43.15044989151101, 43.3087184239576, 43.466986956404185, 43.625255488850776, 43.78352402129736, 43.94179255374395, 44.100061086190536, 44.25832961863713, 44.41659815108371, 44.5748666835303, 44.73313521597689, 44.89140374842348, 45.04967228087006, 45.207940813316654, 45.36620934576324, 45.52447787820983, 45.682746410656414, 45.841014943103005, 45.99928347554959, 46.15755200799618, 46.315820540442765, 46.474089072889356, 46.63235760533594, 46.79062613778253, 46.948894670229116, 47.10716320267571, 47.26543173512229, 47.42370026756888, 47.58196880001547, 47.74023733246206, 47.89850586490864, 48.056774397355234, 48.215042929801825, 48.37331146224841, 48.531579994695, 48.689848527141585, 48.848117059588176, 49.00638559203476, 49.16465412448135, 49.322922656927936, 49.48119118937453, 49.63945972182111, 49.7977282542677, 49.95599678671429, 50.11426531916088, 50.27253385160746, 50.430802384054054, 50.58907091650064, 50.74733944894723, 50.905607981393814, 51.063876513840405, 51.22214504628699, 51.38041357873358, 51.538682111180165, 51.69695064362676, 51.85521917607335, 52.01348770851993, 52.171756240966516, 52.33002477341311, 52.4882933058597, 52.64656183830628, 52.80483037075287, 52.96309890319946, 53.12136743564605, 53.279635968092634, 53.43790450053922, 53.59617303298581, 53.7544415654324, 53.912710097878985, 54.07097863032557, 54.22924716277216, 54.38751569521875, 54.54578422766534, 54.70405276011192, 54.86232129255851, 55.0205898250051, 55.17885835745169, 55.33712688989828, 55.49539542234486, 55.653663954791455, 55.81193248723804, 55.97020101968463, 56.128469552131214, 56.286738084577806, 56.44500661702439, 56.60327514947098, 56.761543681917566, 56.91981221436416, 57.07808074681074, 57.23634927925733, 57.394617811703924, 57.55288634415051, 57.7111548765971, 57.869423409043684, 58.027691941490275], [42.255946383286414, 42.414214915733005, 42.57248344817959, 42.73075198062618, 42.889020513072765, 43.047289045519356, 43.20555757796594, 43.36382611041253, 43.522094642859116, 43.68036317530571, 43.8386317077523, 43.99690024019888, 44.155168772645474, 44.31343730509206, 44.47170583753865, 44.629974369985234, 44.788242902431826, 44.94651143487841, 45.104779967325, 45.263048499771585, 45.42131703221818, 45.57958556466476, 45.73785409711135, 45.89612262955794, 46.05439116200453, 46.21265969445111, 46.3709282268977, 46.52919675934429, 46.68746529179088, 46.84573382423746, 47.004002356684055, 47.16227088913064, 47.32053942157723, 47.478807954023814, 47.637076486470406, 47.79534501891699, 47.95361355136358, 48.111882083810166, 48.27015061625676, 48.42841914870335, 48.58668768114993, 48.744956213596524, 48.90322474604311, 49.0614932784897, 49.21976181093628, 49.378030343382875, 49.53629887582946, 49.69456740827605, 49.852835940722635, 50.011104473169226, 50.16937300561581, 50.3276415380624, 50.485910070508986, 50.64417860295558, 50.80244713540216, 50.96071566784875, 51.11898420029534, 51.27725273274193, 51.43552126518851, 51.593789797635104, 51.752058330081695, 51.91032686252828, 52.068595394974864, 52.226863927421455, 52.385132459868046, 52.54340099231463, 52.701669524761215, 52.859938057207806, 53.0182065896544, 53.17647512210098, 53.334743654547566, 53.49301218699416, 53.65128071944075, 53.80954925188733, 53.96781778433392, 54.12608631678051, 54.2843548492271, 54.442623381673684, 54.60089191412027, 54.75916044656686, 54.91742897901345, 55.075697511460035, 55.23396604390663, 55.39223457635321, 55.5505031087998, 55.708771641246386, 55.86704017369298, 56.02530870613956, 56.18357723858615, 56.34184577103274, 56.50011430347933, 56.65838283592591, 56.816651368372504, 56.97491990081909, 57.13318843326568, 57.29145696571227, 57.449725498158855, 57.60799403060545, 57.76626256305203, 57.92453109549862], [42.15278553729476, 42.31105406974135, 42.46932260218794, 42.62759113463453, 42.78585966708111, 42.944128199527704, 43.10239673197429, 43.26066526442088, 43.418933796867464, 43.577202329314055, 43.73547086176064, 43.89373939420723, 44.052007926653815, 44.210276459100406, 44.368544991547, 44.52681352399358, 44.685082056440166, 44.84335058888676, 45.00161912133335, 45.15988765377993, 45.318156186226524, 45.47642471867311, 45.6346932511197, 45.792961783566284, 45.951230316012875, 46.10949884845946, 46.26776738090605, 46.426035913352635, 46.584304445799226, 46.74257297824581, 46.9008415106924, 47.059110043138986, 47.21737857558558, 47.37564710803216, 47.53391564047875, 47.69218417292534, 47.85045270537193, 48.00872123781851, 48.166989770265104, 48.32525830271169, 48.48352683515828, 48.641795367604864, 48.800063900051455, 48.95833243249804, 49.11660096494463, 49.27486949739122, 49.43313802983781, 49.59140656228439, 49.74967509473098, 49.90794362717757, 50.06621215962416, 50.22448069207074, 50.38274922451733, 50.541017756963925, 50.69928628941051, 50.8575548218571, 51.015823354303684, 51.174091886750276, 51.33236041919686, 51.490628951643444, 51.648897484090035, 51.80716601653663, 51.96543454898321, 52.123703081429795, 52.28197161387639, 52.44024014632298, 52.59850867876956, 52.75677721121615, 52.91504574366274, 53.07331427610933, 53.23158280855591, 53.389851341002505, 53.54811987344909, 53.70638840589568, 53.864656938342264, 54.022925470788856, 54.18119400323545, 54.33946253568203, 54.497731068128616, 54.65599960057521, 54.8142681330218, 54.97253666546838, 55.13080519791497, 55.28907373036156, 55.44734226280815, 55.605610795254734, 55.76387932770132, 55.92214786014791, 56.0804163925945, 56.238684925041085, 56.396953457487676, 56.55522198993426, 56.71349052238085, 56.871759054827436, 57.03002758727402, 57.18829611972061, 57.3465646521672, 57.50483318461379, 57.66310171706038, 57.82137024950697], [42.04962469130311, 42.2078932237497, 42.366161756196284, 42.524430288642876, 42.68269882108946, 42.84096735353605, 42.999235885982635, 43.15750441842923, 43.31577295087581, 43.4740414833224, 43.63231001576899, 43.79057854821558, 43.94884708066216, 44.10711561310875, 44.26538414555534, 44.42365267800193, 44.58192121044851, 44.740189742895105, 44.89845827534169, 45.05672680778828, 45.214995340234864, 45.373263872681456, 45.53153240512805, 45.68980093757463, 45.84806947002122, 46.00633800246781, 46.1646065349144, 46.32287506736098, 46.481143599807574, 46.63941213225416, 46.79768066470075, 46.95594919714733, 47.114217729593925, 47.27248626204051, 47.4307547944871, 47.589023326933685, 47.747291859380276, 47.90556039182686, 48.06382892427345, 48.222097456720036, 48.38036598916663, 48.53863452161321, 48.6969030540598, 48.85517158650639, 49.01344011895298, 49.17170865139957, 49.329977183846154, 49.48824571629274, 49.64651424873933, 49.80478278118592, 49.963051313632505, 50.12131984607909, 50.27958837852568, 50.43785691097227, 50.596125443418856, 50.75439397586545, 50.91266250831203, 51.07093104075862, 51.22919957320521, 51.38746810565179, 51.54573663809838, 51.704005170544974, 51.86227370299156, 52.02054223543814, 52.178810767884734, 52.337079300331325, 52.49534783277791, 52.6536163652245, 52.811884897671085, 52.970153430117676, 53.12842196256426, 53.28669049501085, 53.444959027457436, 53.60322755990403, 53.76149609235061, 53.9197646247972, 54.078033157243794, 54.23630168969038, 54.39457022213696, 54.552838754583554, 54.711107287030146, 54.86937581947673, 55.027644351923314, 55.185912884369905, 55.3441814168165, 55.50244994926308, 55.660718481709665, 55.81898701415626, 55.97725554660285, 56.13552407904943, 56.29379261149602, 56.45206114394261, 56.6103296763892, 56.76859820883578, 56.92686674128237, 57.08513527372896, 57.24340380617555, 57.401672338622134, 57.559940871068726, 57.71820940351532], [41.946463845311456, 42.10473237775804, 42.26300091020463, 42.42126944265122, 42.57953797509781, 42.7378065075444, 42.89607503999098, 43.054343572437574, 43.21261210488416, 43.37088063733075, 43.529149169777334, 43.687417702223925, 43.84568623467051, 44.0039547671171, 44.162223299563685, 44.320491832010276, 44.47876036445686, 44.63702889690345, 44.795297429350036, 44.95356596179663, 45.11183449424321, 45.2701030266898, 45.42837155913639, 45.58664009158298, 45.74490862402956, 45.903177156476154, 46.06144568892274, 46.21971422136933, 46.37798275381592, 46.536251286262505, 46.6945198187091, 46.85278835115568, 47.011056883602265, 47.169325416048856, 47.32759394849545, 47.48586248094203, 47.644131013388616, 47.80239954583521, 47.9606680782818, 48.11893661072838, 48.277205143174974, 48.43547367562156, 48.59374220806815, 48.752010740514734, 48.910279272961326, 49.06854780540791, 49.2268163378545, 49.385084870301085, 49.54335340274768, 49.70162193519426, 49.85989046764085, 50.01815900008744, 50.17642753253403, 50.33469606498061, 50.4929645974272, 50.65123312987379, 50.80950166232038, 50.96777019476696, 51.126038727213555, 51.28430725966014, 51.44257579210673, 51.60084432455332, 51.759112856999906, 51.91738138944649, 52.07564992189308, 52.23391845433967, 52.39218698678626, 52.55045551923285, 52.70872405167943, 52.866992584126024, 53.02526111657261, 53.1835296490192, 53.341798181465784, 53.500066713912375, 53.65833524635896, 53.81660377880555, 53.974872311252135, 54.133140843698726, 54.29140937614531, 54.4496779085919, 54.607946441038486, 54.76621497348508, 54.92448350593166, 55.08275203837825, 55.241020570824844, 55.39928910327143, 55.55755763571801, 55.715826168164604, 55.874094700611195, 56.03236323305778, 56.190631765504364, 56.348900297950955, 56.507168830397546, 56.66543736284413, 56.823705895290715, 56.981974427737306, 57.1402429601839, 57.29851149263048, 57.45678002507707, 57.615048557523664], [41.8433029993198, 42.00157153176639, 42.15984006421298, 42.31810859665956, 42.476377129106154, 42.63464566155274, 42.79291419399933, 42.95118272644592, 43.109451258892506, 43.26771979133909, 43.42598832378568, 43.58425685623227, 43.74252538867886, 43.90079392112545, 44.05906245357203, 44.217330986018624, 44.37559951846521, 44.5338680509118, 44.69213658335838, 44.850405115804975, 45.00867364825156, 45.16694218069815, 45.325210713144735, 45.483479245591326, 45.64174777803791, 45.8000163104845, 45.958284842931086, 46.11655337537768, 46.27482190782426, 46.43309044027085, 46.59135897271744, 46.74962750516403, 46.90789603761061, 47.066164570057204, 47.22443310250379, 47.38270163495038, 47.540970167396964, 47.699238699843555, 47.85750723229014, 48.01577576473673, 48.17404429718332, 48.332312829629906, 48.49058136207649, 48.64884989452308, 48.80711842696967, 48.96538695941626, 49.12365549186284, 49.28192402430943, 49.440192556756024, 49.59846108920261, 49.7567296216492, 49.914998154095784, 50.073266686542375, 50.23153521898896, 50.38980375143555, 50.548072283882135, 50.706340816328726, 50.86460934877531, 51.0228778812219, 51.181146413668486, 51.33941494611508, 51.49768347856167, 51.65595201100825, 51.81422054345484, 51.97248907590143, 52.13075760834802, 52.289026140794604, 52.44729467324119, 52.60556320568778, 52.76383173813437, 52.922100270580955, 53.08036880302754, 53.23863733547413, 53.39690586792072, 53.55517440036731, 53.71344293281389, 53.87171146526048, 54.02997999770707, 54.18824853015366, 54.34651706260025, 54.50478559504683, 54.663054127493425, 54.82132265994001, 54.9795911923866, 55.137859724833184, 55.296128257279776, 55.45439678972636, 55.61266532217295, 55.77093385461954, 55.92920238706613, 56.08747091951271, 56.2457394519593, 56.40400798440589, 56.56227651685248, 56.72054504929906, 56.87881358174565, 57.037082114192245, 57.19535064663883, 57.35361917908542, 57.511887711532005], [41.74014215332815, 41.898410685774735, 42.056679218221326, 42.21494775066791, 42.3732162831145, 42.531484815561086, 42.68975334800768, 42.84802188045426, 43.00629041290085, 43.16455894534744, 43.32282747779403, 43.48109601024061, 43.639364542687204, 43.79763307513379, 43.95590160758038, 44.11417014002697, 44.272438672473555, 44.43070720492014, 44.58897573736673, 44.74724426981332, 44.905512802259906, 45.0637813347065, 45.22204986715308, 45.38031839959967, 45.53858693204626, 45.69685546449285, 45.85512399693943, 46.013392529386024, 46.17166106183261, 46.3299295942792, 46.488198126725784, 46.646466659172376, 46.80473519161896, 46.96300372406555, 47.121272256512135, 47.27954078895873, 47.43780932140531, 47.5960778538519, 47.75434638629849, 47.91261491874508, 48.07088345119166, 48.22915198363825, 48.38742051608484, 48.54568904853143, 48.70395758097801, 48.862226113424605, 49.02049464587119, 49.17876317831778, 49.337031710764364, 49.495300243210956, 49.65356877565755, 49.81183730810413, 49.970105840550715, 50.12837437299731, 50.2866429054439, 50.44491143789048, 50.603179970337074, 50.76144850278366, 50.91971703523025, 51.07798556767683, 51.236254100123425, 51.39452263257001, 51.5527911650166, 51.711059697463185, 51.869328229909776, 52.02759676235636, 52.18586529480295, 52.344133827249536, 52.50240235969613, 52.66067089214271, 52.8189394245893, 52.97720795703589, 53.13547648948248, 53.29374502192906, 53.452013554375654, 53.61028208682224, 53.76855061926883, 53.92681915171542, 54.085087684162005, 54.24335621660859, 54.40162474905518, 54.55989328150177, 54.718161813948356, 54.87643034639494, 55.03469887884153, 55.19296741128812, 55.35123594373471, 55.50950447618129, 55.66777300862788, 55.826041541074474, 55.98431007352106, 56.14257860596764, 56.300847138414234, 56.459115670860825, 56.61738420330741, 56.775652735754, 56.93392126820059, 57.092189800647176, 57.25045833309376, 57.40872686554035], [41.6369813073365, 41.79524983978308, 41.953518372229674, 42.11178690467626, 42.27005543712285, 42.42832396956943, 42.586592502016025, 42.74486103446261, 42.9031295669092, 43.061398099355785, 43.219666631802376, 43.37793516424896, 43.53620369669555, 43.694472229142136, 43.85274076158873, 44.01100929403531, 44.1692778264819, 44.32754635892849, 44.48581489137508, 44.64408342382167, 44.802351956268254, 44.96062048871484, 45.11888902116143, 45.27715755360802, 45.435426086054605, 45.593694618501196, 45.75196315094778, 45.91023168339437, 46.068500215840956, 46.22676874828755, 46.38503728073413, 46.54330581318072, 46.70157434562731, 46.8598428780739, 47.01811141052048, 47.176379942967074, 47.33464847541366, 47.49291700786025, 47.651185540306834, 47.809454072753425, 47.96772260520001, 48.1259911376466, 48.284259670093185, 48.442528202539776, 48.60079673498636, 48.75906526743295, 48.917333799879536, 49.07560233232613, 49.23387086477271, 49.3921393972193, 49.550407929665894, 49.70867646211248, 49.86694499455906, 50.025213527005654, 50.183482059452245, 50.34175059189883, 50.50001912434542, 50.658287656792005, 50.8165561892386, 50.97482472168518, 51.13309325413177, 51.291361786578356, 51.44963031902495, 51.60789885147153, 51.76616738391812, 51.92443591636471, 52.0827044488113, 52.24097298125788, 52.399241513704474, 52.55751004615106, 52.71577857859765, 52.874047111044234, 53.032315643490826, 53.19058417593741, 53.348852708384, 53.507121240830585, 53.66538977327718, 53.82365830572377, 53.98192683817035, 54.14019537061694, 54.29846390306353, 54.45673243551012, 54.6150009679567, 54.77326950040329, 54.93153803284988, 55.08980656529647, 55.248075097743055, 55.40634363018964, 55.56461216263623, 55.72288069508282, 55.881149227529406, 56.03941775997599, 56.19768629242258, 56.35595482486917, 56.51422335731576, 56.67249188976235, 56.83076042220894, 56.989028954655524, 57.14729748710211, 57.3055660195487], [41.533820461344845, 41.69208899379143, 41.850357526238014, 42.008626058684605, 42.1668945911312, 42.32516312357778, 42.48343165602437, 42.641700188470956, 42.79996872091755, 42.95823725336413, 43.11650578581072, 43.27477431825731, 43.4330428507039, 43.59131138315048, 43.749579915597074, 43.90784844804366, 44.06611698049025, 44.224385512936834, 44.382654045383426, 44.54092257783001, 44.6991911102766, 44.857459642723185, 45.01572817516978, 45.17399670761636, 45.33226524006295, 45.49053377250954, 45.64880230495613, 45.80707083740272, 45.9653393698493, 46.12360790229589, 46.28187643474248, 46.44014496718906, 46.598413499635654, 46.756682032082246, 46.91495056452883, 47.07321909697542, 47.231487629422006, 47.3897561618686, 47.54802469431518, 47.70629322676177, 47.86456175920836, 48.02283029165495, 48.18109882410153, 48.339367356548124, 48.49763588899471, 48.6559044214413, 48.81417295388788, 48.972441486334475, 49.13071001878106, 49.28897855122765, 49.447247083674235, 49.605515616120826, 49.76378414856741, 49.922052681014, 50.080321213460586, 50.23858974590718, 50.39685827835376, 50.55512681080035, 50.71339534324694, 50.87166387569353, 51.02993240814012, 51.188200940586704, 51.34646947303329, 51.50473800547988, 51.66300653792647, 51.821275070373055, 51.979543602819646, 52.13781213526623, 52.29608066771282, 52.454349200159406, 52.612617732606, 52.77088626505258, 52.92915479749917, 53.08742332994576, 53.24569186239235, 53.40396039483893, 53.562228927285524, 53.72049745973211, 53.8787659921787, 54.037034524625284, 54.195303057071875, 54.35357158951846, 54.51184012196505, 54.670108654411635, 54.828377186858226, 54.98664571930482, 55.1449142517514, 55.303182784197986, 55.46145131664458, 55.61971984909117, 55.77798838153775, 55.93625691398434, 56.09452544643093, 56.25279397887752, 56.411062511324104, 56.56933104377069, 56.72759957621729, 56.88586810866387, 57.044136641110455, 57.20240517355705], [41.430659615353186, 41.58892814779978, 41.74719668024636, 41.90546521269295, 42.063733745139544, 42.22200227758613, 42.38027081003271, 42.538539342479304, 42.696807874925895, 42.85507640737248, 43.01334493981907, 43.171613472265655, 43.329882004712246, 43.48815053715883, 43.64641906960542, 43.804687602052006, 43.9629561344986, 44.12122466694518, 44.27949319939177, 44.43776173183836, 44.59603026428495, 44.75429879673153, 44.912567329178124, 45.07083586162471, 45.2291043940713, 45.387372926517884, 45.545641458964475, 45.70390999141106, 45.86217852385765, 46.020447056304235, 46.178715588750826, 46.33698412119741, 46.495252653644, 46.653521186090586, 46.81178971853718, 46.97005825098377, 47.12832678343035, 47.28659531587694, 47.44486384832353, 47.60313238077012, 47.761400913216704, 47.919669445663295, 48.07793797810988, 48.23620651055647, 48.394475043003055, 48.55274357544965, 48.71101210789623, 48.86928064034282, 49.027549172789406, 49.185817705236, 49.34408623768258, 49.50235477012917, 49.66062330257576, 49.81889183502235, 49.97716036746893, 50.135428899915524, 50.29369743236211, 50.4519659648087, 50.610234497255284, 50.768503029701876, 50.92677156214846, 51.08504009459505, 51.243308627041635, 51.40157715948823, 51.55984569193481, 51.7181142243814, 51.876382756827994, 52.03465128927458, 52.19291982172116, 52.35118835416775, 52.509456886614345, 52.66772541906093, 52.82599395150751, 52.984262483954105, 53.142531016400696, 53.30079954884728, 53.45906808129387, 53.617336613740456, 53.77560514618705, 53.93387367863363, 54.09214221108022, 54.25041074352681, 54.4086792759734, 54.56694780841998, 54.725216340866574, 54.88348487331316, 55.04175340575975, 55.20002193820633, 55.358290470652925, 55.516559003099516, 55.6748275355461, 55.833096067992685, 55.991364600439276, 56.14963313288586, 56.30790166533245, 56.466170197779036, 56.62443873022563, 56.78270726267222, 56.9409757951188, 57.099244327565394], [41.32749876936153, 41.485767301808124, 41.64403583425471, 41.8023043667013, 41.96057289914789, 42.118841431594475, 42.27710996404106, 42.43537849648765, 42.59364702893424, 42.75191556138083, 42.91018409382742, 43.068452626274, 43.22672115872059, 43.38498969116718, 43.54325822361377, 43.70152675606035, 43.859795288506945, 44.01806382095353, 44.17633235340012, 44.334600885846704, 44.492869418293296, 44.65113795073988, 44.80940648318647, 44.967675015633056, 45.12594354807965, 45.28421208052623, 45.44248061297282, 45.60074914541941, 45.759017677866, 45.91728621031258, 46.075554742759174, 46.23382327520576, 46.39209180765235, 46.55036034009893, 46.708628872545525, 46.866897404992116, 47.0251659374387, 47.183434469885285, 47.341703002331876, 47.49997153477847, 47.65824006722505, 47.81650859967164, 47.97477713211823, 48.13304566456482, 48.2913141970114, 48.449582729457994, 48.60785126190458, 48.76611979435117, 48.924388326797754, 49.082656859244345, 49.24092539169093, 49.39919392413752, 49.557462456584105, 49.715730989030696, 49.87399952147728, 50.03226805392387, 50.190536586370456, 50.34880511881705, 50.50707365126363, 50.66534218371022, 50.82361071615681, 50.9818792486034, 51.14014778104998, 51.298416313496574, 51.45668484594316, 51.61495337838975, 51.77322191083634, 51.931490443282925, 52.08975897572951, 52.2480275081761, 52.40629604062269, 52.564564573069276, 52.72283310551586, 52.88110163796245, 53.03937017040904, 53.19763870285563, 53.35590723530222, 53.5141757677488, 53.672444300195394, 53.83071283264198, 53.98898136508857, 54.147249897535154, 54.305518429981745, 54.46378696242833, 54.62205549487492, 54.780324027321505, 54.9385925597681, 55.09686109221468, 55.25512962466127, 55.41339815710786, 55.57166668955445, 55.72993522200103, 55.88820375444762, 56.04647228689421, 56.2047408193408, 56.36300935178738, 56.521277884233974, 56.679546416680566, 56.83781494912715, 56.99608348157374], [41.22433792336988, 41.38260645581647, 41.540874988263056, 41.69914352070965, 41.85741205315623, 42.01568058560282, 42.17394911804941, 42.332217650496, 42.49048618294258, 42.648754715389174, 42.80702324783576, 42.96529178028235, 43.123560312728934, 43.281828845175525, 43.44009737762211, 43.5983659100687, 43.756634442515285, 43.914902974961876, 44.07317150740846, 44.23144003985505, 44.38970857230164, 44.54797710474823, 44.70624563719482, 44.8645141696414, 45.022782702087994, 45.18105123453458, 45.33931976698117, 45.497588299427754, 45.655856831874345, 45.81412536432093, 45.97239389676752, 46.130662429214105, 46.2889309616607, 46.44719949410728, 46.60546802655387, 46.763736559000456, 46.92200509144705, 47.08027362389363, 47.23854215634022, 47.39681068878681, 47.5550792212334, 47.71334775367998, 47.871616286126574, 48.02988481857316, 48.18815335101975, 48.346421883466334, 48.504690415912926, 48.66295894835951, 48.8212274808061, 48.979496013252685, 49.13776454569928, 49.29603307814586, 49.45430161059245, 49.61257014303904, 49.77083867548563, 49.92910720793222, 50.0873757403788, 50.24564427282539, 50.40391280527198, 50.56218133771857, 50.720449870165154, 50.878718402611746, 51.03698693505833, 51.19525546750492, 51.353523999951506, 51.5117925323981, 51.67006106484468, 51.82832959729127, 51.98659812973786, 52.14486666218445, 52.30313519463103, 52.461403727077624, 52.61967225952421, 52.7779407919708, 52.93620932441738, 53.094477856863975, 53.25274638931056, 53.41101492175715, 53.569283454203735, 53.727551986650326, 53.88582051909691, 54.0440890515435, 54.20235758399009, 54.36062611643668, 54.51889464888326, 54.67716318132985, 54.835431713776444, 54.99370024622303, 55.15196877866962, 55.310237311116204, 55.468505843562795, 55.62677437600938, 55.785042908455964, 55.943311440902555, 56.101579973349146, 56.25984850579573, 56.41811703824232, 56.57638557068891, 56.7346541031355, 56.89292263558208], [41.12117707737823, 41.27944560982482, 41.4377141422714, 41.595982674717995, 41.75425120716458, 41.91251973961117, 42.070788272057754, 42.229056804504346, 42.38732533695093, 42.54559386939752, 42.703862401844106, 42.8621309342907, 43.02039946673728, 43.17866799918387, 43.33693653163046, 43.49520506407705, 43.65347359652363, 43.811742128970224, 43.97001066141681, 44.1282791938634, 44.28654772630998, 44.444816258756575, 44.60308479120316, 44.76135332364975, 44.919621856096335, 45.077890388542926, 45.23615892098951, 45.3944274534361, 45.55269598588269, 45.71096451832928, 45.86923305077587, 46.02750158322245, 46.185770115669044, 46.34403864811563, 46.50230718056222, 46.660575713008804, 46.818844245455395, 46.97711277790198, 47.13538131034857, 47.293649842795155, 47.451918375241746, 47.61018690768833, 47.76845544013492, 47.926723972581506, 48.0849925050281, 48.24326103747468, 48.40152956992127, 48.55979810236786, 48.71806663481445, 48.87633516726103, 49.034603699707624, 49.19287223215421, 49.3511407646008, 49.509409297047384, 49.667677829493975, 49.82594636194057, 49.98421489438715, 50.142483426833735, 50.300751959280326, 50.45902049172691, 50.6172890241735, 50.77555755662009, 50.93382608906668, 51.09209462151326, 51.25036315395985, 51.408631686406444, 51.56690021885303, 51.72516875129962, 51.883437283746204, 52.041705816192795, 52.19997434863938, 52.35824288108597, 52.516511413532555, 52.67477994597915, 52.83304847842573, 52.99131701087232, 53.149585543318906, 53.3078540757655, 53.46612260821208, 53.62439114065867, 53.78265967310526, 53.94092820555185, 54.09919673799843, 54.257465270445024, 54.41573380289161, 54.5740023353382, 54.732270867784784, 54.890539400231376, 55.04880793267796, 55.20707646512455, 55.36534499757114, 55.52361353001773, 55.68188206246431, 55.8401505949109, 55.998419127357494, 56.15668765980408, 56.31495619225067, 56.47322472469726, 56.631493257143845, 56.78976178959043], [41.018016231386575, 41.17628476383316, 41.33455329627975, 41.492821828726335, 41.651090361172926, 41.80935889361952, 41.9676274260661, 42.125895958512686, 42.28416449095928, 42.44243302340587, 42.60070155585245, 42.758970088299044, 42.91723862074563, 43.07550715319222, 43.233775685638804, 43.392044218085395, 43.55031275053198, 43.70858128297857, 43.866849815425155, 44.02511834787175, 44.18338688031833, 44.34165541276492, 44.499923945211506, 44.6581924776581, 44.81646101010468, 44.97472954255127, 45.13299807499786, 45.29126660744445, 45.44953513989103, 45.607803672337624, 45.76607220478421, 45.9243407372308, 46.082609269677384, 46.240877802123975, 46.39914633457056, 46.55741486701715, 46.715683399463735, 46.87395193191033, 47.03222046435691, 47.1904889968035, 47.34875752925009, 47.50702606169668, 47.66529459414326, 47.82356312658985, 47.981831659036445, 48.14010019148303, 48.29836872392961, 48.456637256376204, 48.614905788822796, 48.77317432126938, 48.93144285371597, 49.089711386162556, 49.24797991860915, 49.40624845105573, 49.56451698350232, 49.72278551594891, 49.8810540483955, 50.03932258084208, 50.197591113288674, 50.35585964573526, 50.51412817818185, 50.67239671062843, 50.830665243075025, 50.98893377552161, 51.1472023079682, 51.305470840414785, 51.463739372861376, 51.62200790530797, 51.78027643775455, 51.938544970201136, 52.09681350264773, 52.25508203509432, 52.4133505675409, 52.57161909998749, 52.72988763243408, 52.88815616488067, 53.046424697327254, 53.204693229773845, 53.36296176222043, 53.52123029466702, 53.679498827113605, 53.837767359560196, 53.99603589200678, 54.15430442445337, 54.312572956899956, 54.47084148934655, 54.62911002179313, 54.78737855423972, 54.94564708668631, 55.1039156191329, 55.26218415157949, 55.420452684026074, 55.57872121647266, 55.73698974891925, 55.895258281365834, 56.053526813812425, 56.21179534625902, 56.3700638787056, 56.52833241115219, 56.686600943598776], [40.91485538539492, 41.07312391784151, 41.2313924502881, 41.38966098273468, 41.54792951518127, 41.706198047627865, 41.86446658007445, 42.02273511252103, 42.181003644967625, 42.339272177414216, 42.4975407098608, 42.65580924230739, 42.814077774753976, 42.97234630720057, 43.13061483964715, 43.28888337209374, 43.44715190454033, 43.60542043698692, 43.7636889694335, 43.921957501880094, 44.08022603432668, 44.23849456677327, 44.396763099219854, 44.555031631666445, 44.71330016411303, 44.87156869655962, 45.029837229006205, 45.188105761452796, 45.34637429389938, 45.50464282634597, 45.662911358792556, 45.82117989123915, 45.97944842368573, 46.13771695613232, 46.29598548857891, 46.4542540210255, 46.61252255347208, 46.770791085918674, 46.92905961836526, 47.08732815081185, 47.24559668325844, 47.403865215705025, 47.56213374815161, 47.7204022805982, 47.87867081304479, 48.036939345491376, 48.19520787793796, 48.35347641038455, 48.51174494283114, 48.67001347527773, 48.82828200772432, 48.9865505401709, 49.144819072617494, 49.30308760506408, 49.46135613751067, 49.619624669957254, 49.777893202403845, 49.93616173485043, 50.09443026729702, 50.252698799743605, 50.4109673321902, 50.56923586463678, 50.72750439708337, 50.885772929529956, 51.04404146197655, 51.20230999442313, 51.36057852686972, 51.518847059316315, 51.6771155917629, 51.83538412420948, 51.993652656656074, 52.151921189102666, 52.31018972154925, 52.468458253995834, 52.626726786442426, 52.78499531888902, 52.9432638513356, 53.10153238378219, 53.25980091622878, 53.41806944867537, 53.57633798112195, 53.734606513568544, 53.89287504601513, 54.05114357846172, 54.2094121109083, 54.367680643354895, 54.52594917580148, 54.68421770824807, 54.842486240694654, 55.000754773141246, 55.15902330558784, 55.31729183803442, 55.475560370481006, 55.6338289029276, 55.79209743537418, 55.95036596782077, 56.108634500267364, 56.26690303271395, 56.42517156516054, 56.583440097607124], [40.81169453940327, 40.969963071849854, 41.128231604296445, 41.28650013674303, 41.44476866918962, 41.603037201636205, 41.7613057340828, 41.91957426652938, 42.07784279897597, 42.236111331422556, 42.39437986386915, 42.55264839631573, 42.71091692876232, 42.869185461208914, 43.0274539936555, 43.18572252610208, 43.343991058548674, 43.502259590995266, 43.66052812344185, 43.81879665588844, 43.977065188335025, 44.13533372078162, 44.2936022532282, 44.45187078567479, 44.61013931812138, 44.76840785056797, 44.92667638301455, 45.08494491546114, 45.24321344790773, 45.40148198035432, 45.5597505128009, 45.718019045247495, 45.87628757769408, 46.03455611014067, 46.192824642587254, 46.351093175033846, 46.50936170748043, 46.66763023992702, 46.825898772373606, 46.9841673048202, 47.14243583726679, 47.30070436971337, 47.45897290215996, 47.61724143460655, 47.77550996705314, 47.933778499499724, 48.09204703194631, 48.2503155643929, 48.40858409683949, 48.566852629286075, 48.725121161732666, 48.88338969417925, 49.04165822662584, 49.199926759072426, 49.35819529151902, 49.5164638239656, 49.67473235641219, 49.83300088885878, 49.99126942130537, 50.14953795375195, 50.307806486198544, 50.46607501864513, 50.62434355109172, 50.782612083538304, 50.940880615984895, 51.09914914843148, 51.25741768087807, 51.415686213324655, 51.573954745771246, 51.73222327821783, 51.89049181066442, 52.048760343111006, 52.2070288755576, 52.36529740800418, 52.52356594045077, 52.68183447289736, 52.84010300534395, 52.99837153779054, 53.156640070237124, 53.314908602683715, 53.4731771351303, 53.63144566757689, 53.789714200023475, 53.94798273247007, 54.10625126491665, 54.26451979736324, 54.422788329809826, 54.58105686225642, 54.739325394703, 54.89759392714959, 55.055862459596185, 55.21413099204277, 55.37239952448935, 55.53066805693594, 55.68893658938253, 55.84720512182912, 56.005473654275704, 56.163742186722295, 56.32201071916889, 56.48027925161547], [40.70853369341162, 40.8668022258582, 41.02507075830479, 41.18333929075138, 41.34160782319797, 41.49987635564455, 41.658144888091144, 41.81641342053773, 41.97468195298432, 42.132950485430904, 42.291219017877495, 42.44948755032408, 42.60775608277067, 42.766024615217255, 42.924293147663846, 43.08256168011043, 43.24083021255702, 43.399098745003606, 43.5573672774502, 43.71563580989678, 43.87390434234337, 44.032172874789964, 44.19044140723655, 44.34870993968313, 44.506978472129724, 44.665247004576315, 44.8235155370229, 44.98178406946949, 45.140052601916075, 45.298321134362666, 45.45658966680925, 45.61485819925584, 45.773126731702426, 45.93139526414902, 46.0896637965956, 46.24793232904219, 46.40620086148878, 46.56446939393537, 46.72273792638195, 46.881006458828544, 47.03927499127513, 47.19754352372172, 47.355812056168304, 47.514080588614895, 47.67234912106148, 47.83061765350807, 47.988886185954655, 48.14715471840125, 48.30542325084783, 48.46369178329442, 48.621960315741006, 48.7802288481876, 48.93849738063418, 49.09676591308077, 49.25503444552736, 49.41330297797395, 49.57157151042054, 49.729840042867124, 49.88810857531371, 50.0463771077603, 50.20464564020689, 50.362914172653475, 50.52118270510006, 50.67945123754665, 50.83771976999324, 50.99598830243983, 51.15425683488642, 51.312525367333, 51.47079389977959, 51.62906243222618, 51.78733096467277, 51.94559949711935, 52.103868029565945, 52.26213656201253, 52.42040509445912, 52.578673626905704, 52.736942159352296, 52.89521069179888, 53.05347922424547, 53.21174775669206, 53.37001628913865, 53.52828482158523, 53.68655335403182, 53.844821886478414, 54.003090418925, 54.16135895137158, 54.319627483818174, 54.477896016264765, 54.63616454871135, 54.79443308115794, 54.952701613604525, 55.110970146051116, 55.2692386784977, 55.427507210944285, 55.585775743390876, 55.74404427583747, 55.90231280828405, 56.06058134073064, 56.218849873177234, 56.37711840562382], [40.60537284741996, 40.76364137986655, 40.92190991231314, 41.080178444759724, 41.238446977206316, 41.3967155096529, 41.55498404209949, 41.713252574546075, 41.87152110699267, 42.02978963943925, 42.18805817188584, 42.34632670433243, 42.50459523677902, 42.6628637692256, 42.82113230167219, 42.97940083411878, 43.13766936656537, 43.29593789901195, 43.454206431458545, 43.61247496390513, 43.77074349635172, 43.929012028798304, 44.087280561244896, 44.24554909369148, 44.40381762613807, 44.56208615858466, 44.72035469103125, 44.87862322347783, 45.03689175592442, 45.195160288371014, 45.3534288208176, 45.51169735326418, 45.66996588571077, 45.828234418157365, 45.98650295060395, 46.14477148305054, 46.303040015497125, 46.461308547943716, 46.6195770803903, 46.77784561283689, 46.936114145283476, 47.09438267773007, 47.25265121017665, 47.41091974262324, 47.56918827506983, 47.72745680751642, 47.885725339963, 48.043993872409594, 48.20226240485618, 48.36053093730277, 48.518799469749354, 48.677068002195945, 48.83533653464253, 48.99360506708912, 49.151873599535705, 49.310142131982296, 49.46841066442889, 49.62667919687547, 49.784947729322056, 49.94321626176865, 50.10148479421524, 50.25975332666182, 50.41802185910841, 50.576290391555, 50.73455892400159, 50.892827456448174, 51.051095988894765, 51.20936452134135, 51.36763305378794, 51.525901586234525, 51.684170118681116, 51.8424386511277, 52.00070718357429, 52.158975716020876, 52.31724424846747, 52.47551278091405, 52.63378131336064, 52.79204984580723, 52.95031837825382, 53.1085869107004, 53.266855443146994, 53.42512397559358, 53.58339250804017, 53.741661040486754, 53.899929572933345, 54.05819810537993, 54.21646663782652, 54.374735170273105, 54.5330037027197, 54.69127223516629, 54.84954076761287, 55.00780930005946, 55.16607783250605, 55.32434636495263, 55.48261489739922, 55.640883429845815, 55.7991519622924, 55.95742049473899, 56.11568902718558, 56.273957559632166], [40.502212001428305, 40.660480533874896, 40.81874906632149, 40.97701759876807, 41.135286131214656, 41.29355466366125, 41.45182319610784, 41.61009172855442, 41.76836026100101, 41.9266287934476, 42.08489732589419, 42.243165858340774, 42.401434390787365, 42.55970292323395, 42.71797145568054, 42.876239988127125, 43.034508520573716, 43.1927770530203, 43.35104558546689, 43.509314117913476, 43.66758265036007, 43.82585118280665, 43.98411971525324, 44.14238824769983, 44.30065678014642, 44.458925312593, 44.617193845039594, 44.77546237748618, 44.93373090993277, 45.091999442379354, 45.250267974825945, 45.40853650727253, 45.56680503971912, 45.725073572165705, 45.8833421046123, 46.04161063705888, 46.19987916950547, 46.35814770195206, 46.51641623439865, 46.67468476684524, 46.83295329929182, 46.991221831738414, 47.149490364185, 47.30775889663159, 47.466027429078174, 47.624295961524766, 47.78256449397135, 47.94083302641794, 48.099101558864525, 48.25737009131112, 48.4156386237577, 48.57390715620429, 48.73217568865088, 48.89044422109747, 49.04871275354405, 49.20698128599064, 49.36524981843723, 49.52351835088382, 49.6817868833304, 49.840055415776995, 49.998323948223586, 50.15659248067017, 50.314861013116754, 50.473129545563346, 50.63139807800994, 50.78966661045652, 50.947935142903106, 51.1062036753497, 51.26447220779629, 51.42274074024287, 51.58100927268946, 51.73927780513605, 51.89754633758264, 52.055814870029224, 52.21408340247581, 52.3723519349224, 52.53062046736899, 52.688888999815575, 52.84715753226216, 53.00542606470875, 53.16369459715534, 53.321963129601926, 53.48023166204852, 53.6385001944951, 53.79676872694169, 53.95503725938828, 54.11330579183487, 54.27157432428145, 54.429842856728044, 54.58811138917463, 54.74637992162122, 54.904648454067804, 55.062916986514395, 55.22118551896098, 55.37945405140757, 55.53772258385416, 55.695991116300746, 55.85425964874734, 56.01252818119392, 56.17079671364051], [40.39905115543665, 40.55731968788324, 40.71558822032983, 40.87385675277642, 41.032125285223, 41.190393817669595, 41.34866235011618, 41.50693088256277, 41.665199415009354, 41.823467947455946, 41.98173647990254, 42.14000501234912, 42.298273544795705, 42.4565420772423, 42.61481060968889, 42.77307914213547, 42.93134767458206, 43.08961620702865, 43.24788473947524, 43.40615327192182, 43.564421804368415, 43.722690336815, 43.88095886926159, 44.039227401708175, 44.197495934154766, 44.35576446660135, 44.51403299904794, 44.672301531494526, 44.83057006394112, 44.9888385963877, 45.14710712883429, 45.30537566128088, 45.46364419372747, 45.62191272617405, 45.780181258620644, 45.93844979106723, 46.09671832351382, 46.254986855960404, 46.413255388406995, 46.57152392085358, 46.72979245330017, 46.88806098574676, 47.046329518193346, 47.20459805063993, 47.36286658308652, 47.52113511553311, 47.6794036479797, 47.83767218042628, 47.99594071287287, 48.154209245319464, 48.31247777776605, 48.47074631021263, 48.629014842659224, 48.787283375105815, 48.9455519075524, 49.10382043999899, 49.262088972445575, 49.420357504892166, 49.57862603733875, 49.73689456978534, 49.895163102231926, 50.05343163467852, 50.2117001671251, 50.36996869957169, 50.52823723201828, 50.68650576446487, 50.84477429691145, 51.003042829358044, 51.16131136180463, 51.31957989425122, 51.477848426697804, 51.636116959144395, 51.79438549159098, 51.95265402403757, 52.110922556484155, 52.26919108893075, 52.42745962137734, 52.58572815382392, 52.743996686270506, 52.9022652187171, 53.06053375116369, 53.21880228361027, 53.377070816056865, 53.53533934850345, 53.69360788095004, 53.851876413396624, 54.010144945843216, 54.1684134782898, 54.32668201073639, 54.484950543182975, 54.64321907562957, 54.80148760807615, 54.95975614052274, 55.11802467296933, 55.27629320541591, 55.43456173786251, 55.59283027030909, 55.75109880275568, 55.90936733520227, 56.06763586764886], [40.295890309445, 40.45415884189159, 40.612427374338175, 40.770695906784766, 40.92896443923135, 41.08723297167794, 41.245501504124526, 41.40377003657112, 41.5620385690177, 41.72030710146429, 41.87857563391088, 42.03684416635747, 42.19511269880405, 42.353381231250644, 42.51164976369723, 42.66991829614382, 42.828186828590404, 42.986455361036995, 43.14472389348358, 43.30299242593017, 43.461260958376755, 43.619529490823346, 43.77779802326994, 43.93606655571652, 44.09433508816311, 44.2526036206097, 44.41087215305629, 44.56914068550287, 44.727409217949464, 44.88567775039605, 45.04394628284264, 45.202214815289224, 45.360483347735816, 45.5187518801824, 45.67702041262899, 45.835288945075575, 45.99355747752217, 46.15182600996875, 46.31009454241534, 46.46836307486193, 46.62663160730852, 46.7849001397551, 46.94316867220169, 47.10143720464828, 47.25970573709487, 47.41797426954146, 47.576242801988045, 47.73451133443463, 47.89277986688122, 48.05104839932781, 48.209316931774396, 48.36758546422098, 48.52585399666757, 48.68412252911416, 48.84239106156075, 49.00065959400734, 49.15892812645392, 49.317196658900514, 49.4754651913471, 49.63373372379368, 49.79200225624027, 49.950270788686865, 50.10853932113345, 50.26680785358003, 50.425076386026625, 50.583344918473216, 50.7416134509198, 50.89988198336639, 51.058150515812976, 51.21641904825957, 51.37468758070615, 51.53295611315274, 51.69122464559933, 51.84949317804592, 52.0077617104925, 52.166030242939094, 52.324298775385685, 52.48256730783227, 52.640835840278854, 52.799104372725445, 52.957372905172036, 53.11564143761862, 53.273909970065205, 53.432178502511796, 53.59044703495839, 53.74871556740497, 53.906984099851556, 54.06525263229815, 54.22352116474474, 54.38178969719132, 54.540058229637914, 54.6983267620845, 54.85659529453109, 55.014863826977674, 55.17313235942426, 55.33140089187085, 55.48966942431744, 55.647937956764025, 55.806206489210616, 55.96447502165721], [40.19272946345335, 40.35099799589993, 40.50926652834652, 40.667535060793114, 40.8258035932397, 40.98407212568629, 41.14234065813287, 41.300609190579465, 41.45887772302605, 41.61714625547264, 41.775414787919225, 41.933683320365816, 42.0919518528124, 42.25022038525899, 42.408488917705576, 42.56675745015217, 42.72502598259875, 42.88329451504534, 43.04156304749193, 43.19983157993852, 43.3581001123851, 43.516368644831694, 43.67463717727828, 43.83290570972487, 43.991174242171454, 44.149442774618045, 44.30771130706463, 44.46597983951122, 44.62424837195781, 44.782516904404396, 44.94078543685099, 45.09905396929757, 45.257322501744156, 45.41559103419075, 45.57385956663734, 45.73212809908392, 45.89039663153051, 46.0486651639771, 46.20693369642369, 46.365202228870274, 46.523470761316865, 46.68173929376345, 46.84000782621004, 46.998276358656625, 47.156544891103216, 47.3148134235498, 47.47308195599639, 47.631350488442976, 47.78961902088957, 47.94788755333615, 48.10615608578274, 48.26442461822933, 48.42269315067592, 48.5809616831225, 48.739230215569094, 48.89749874801568, 49.05576728046227, 49.214035812908854, 49.372304345355445, 49.53057287780203, 49.68884141024862, 49.84710994269521, 50.0053784751418, 50.16364700758838, 50.32191554003497, 50.48018407248156, 50.63845260492815, 50.79672113737474, 50.95498966982132, 51.113258202267914, 51.2715267347145, 51.42979526716109, 51.588063799607674, 51.746332332054266, 51.90460086450085, 52.06286939694744, 52.221137929394025, 52.37940646184062, 52.5376749942872, 52.69594352673379, 52.85421205918038, 53.01248059162697, 53.17074912407355, 53.32901765652014, 53.48728618896673, 53.64555472141332, 53.8038232538599, 53.962091786306495, 54.120360318753086, 54.27862885119967, 54.43689738364626, 54.595165916092846, 54.75343444853943, 54.91170298098602, 55.069971513432606, 55.2282400458792, 55.38650857832579, 55.54477711077237, 55.703045643218964, 55.861314175665555], [40.089568617461694, 40.24783714990828, 40.40610568235487, 40.56437421480146, 40.722642747248045, 40.88091127969464, 41.03917981214122, 41.19744834458781, 41.355716877034396, 41.51398540948099, 41.67225394192757, 41.83052247437416, 41.98879100682075, 42.14705953926734, 42.30532807171392, 42.463596604160514, 42.6218651366071, 42.78013366905369, 42.938402201500274, 43.096670733946866, 43.25493926639345, 43.41320779884004, 43.571476331286625, 43.72974486373322, 43.8880133961798, 44.04628192862639, 44.20455046107298, 44.36281899351957, 44.52108752596616, 44.67935605841274, 44.837624590859335, 44.99589312330592, 45.1541616557525, 45.312430188199095, 45.470698720645686, 45.62896725309227, 45.787235785538854, 45.945504317985446, 46.10377285043204, 46.26204138287862, 46.42030991532521, 46.5785784477718, 46.73684698021839, 46.89511551266497, 47.053384045111564, 47.21165257755815, 47.36992111000474, 47.52818964245132, 47.686458174897915, 47.8447267073445, 48.00299523979109, 48.161263772237675, 48.319532304684266, 48.47780083713085, 48.63606936957744, 48.794337902024026, 48.95260643447062, 49.1108749669172, 49.26914349936379, 49.42741203181038, 49.58568056425697, 49.74394909670356, 49.902217629150144, 50.06048616159673, 50.21875469404332, 50.37702322648991, 50.535291758936495, 50.693560291383086, 50.85182882382967, 51.01009735627626, 51.168365888722846, 51.32663442116944, 51.48490295361602, 51.64317148606261, 51.8014400185092, 51.95970855095579, 52.11797708340237, 52.276245615848964, 52.43451414829555, 52.59278268074214, 52.751051213188724, 52.909319745635315, 53.0675882780819, 53.22585681052849, 53.384125342975075, 53.542393875421666, 53.70066240786825, 53.85893094031484, 54.01719947276143, 54.17546800520802, 54.33373653765461, 54.49200507010119, 54.65027360254778, 54.80854213499437, 54.96681066744095, 55.125079199887544, 55.283347732334136, 55.44161626478072, 55.59988479722731, 55.7581533296739], [39.98640777147004, 40.144676303916626, 40.30294483636322, 40.46121336880981, 40.61948190125639, 40.77775043370298, 40.93601896614957, 41.09428749859616, 41.252556031042744, 41.41082456348933, 41.56909309593592, 41.72736162838251, 41.885630160829095, 42.043898693275686, 42.20216722572227, 42.36043575816886, 42.518704290615446, 42.67697282306204, 42.83524135550862, 42.99350988795521, 43.1517784204018, 43.31004695284839, 43.46831548529497, 43.626584017741564, 43.78485255018815, 43.94312108263474, 44.101389615081324, 44.259658147527915, 44.4179266799745, 44.57619521242109, 44.73446374486768, 44.892732277314266, 45.05100080976085, 45.20926934220744, 45.36753787465403, 45.52580640710062, 45.6840749395472, 45.84234347199379, 46.000612004440384, 46.15888053688697, 46.31714906933356, 46.475417601780144, 46.633686134226735, 46.79195466667332, 46.95022319911991, 47.108491731566495, 47.26676026401309, 47.42502879645967, 47.58329732890626, 47.741565861352846, 47.89983439379944, 48.05810292624602, 48.21637145869261, 48.3746399911392, 48.53290852358579, 48.69117705603237, 48.849445588478964, 49.00771412092555, 49.16598265337214, 49.324251185818724, 49.482519718265316, 49.64078825071191, 49.79905678315849, 49.957325315605075, 50.11559384805167, 50.27386238049826, 50.43213091294484, 50.59039944539143, 50.74866797783802, 50.90693651028461, 51.06520504273119, 51.22347357517778, 51.38174210762437, 51.54001064007096, 51.698279172517545, 51.85654770496413, 52.01481623741072, 52.17308476985731, 52.331353302303896, 52.48962183475049, 52.64789036719707, 52.80615889964366, 52.96442743209025, 53.12269596453684, 53.28096449698342, 53.439233029430014, 53.5975015618766, 53.75577009432319, 53.91403862676978, 54.072307159216365, 54.23057569166295, 54.38884422410954, 54.547112756556125, 54.705381289002716, 54.8636498214493, 55.02191835389589, 55.18018688634248, 55.33845541878907, 55.49672395123566, 55.65499248368224], [39.88324692547839, 40.04151545792497, 40.199783990371564, 40.35805252281815, 40.51632105526474, 40.674589587711324, 40.832858120157915, 40.9911266526045, 41.14939518505109, 41.307663717497675, 41.46593224994427, 41.62420078239085, 41.78246931483744, 41.940737847284026, 42.09900637973062, 42.2572749121772, 42.41554344462379, 42.57381197707038, 42.73208050951697, 42.89034904196356, 43.048617574410144, 43.20688610685673, 43.36515463930332, 43.52342317174991, 43.681691704196496, 43.83996023664309, 43.99822876908967, 44.15649730153626, 44.31476583398285, 44.47303436642944, 44.63130289887602, 44.789571431322614, 44.9478399637692, 45.10610849621579, 45.26437702866237, 45.422645561108965, 45.58091409355555, 45.73918262600214, 45.897451158448725, 46.055719690895316, 46.2139882233419, 46.37225675578849, 46.530525288235076, 46.68879382068167, 46.84706235312825, 47.00533088557484, 47.16359941802143, 47.32186795046802, 47.4801364829146, 47.638405015361194, 47.796673547807785, 47.95494208025437, 48.113210612700954, 48.271479145147545, 48.429747677594136, 48.58801621004072, 48.74628474248731, 48.904553274933896, 49.06282180738049, 49.22109033982707, 49.37935887227366, 49.53762740472025, 49.69589593716684, 49.85416446961342, 50.012433002060014, 50.1707015345066, 50.32897006695319, 50.487238599399774, 50.645507131846365, 50.80377566429295, 50.96204419673954, 51.120312729186125, 51.278581261632716, 51.4368497940793, 51.59511832652589, 51.753386858972476, 51.91165539141907, 52.06992392386566, 52.22819245631224, 52.38646098875883, 52.54472952120542, 52.70299805365201, 52.861266586098594, 53.01953511854518, 53.17780365099177, 53.33607218343836, 53.494340715884945, 53.65260924833153, 53.81087778077812, 53.96914631322471, 54.1274148456713, 54.28568337811788, 54.44395191056447, 54.60222044301106, 54.76048897545765, 54.91875750790424, 55.07702604035083, 55.235294572797415, 55.393563105244, 55.55183163769059], [39.780086079486736, 39.93835461193332, 40.09662314437991, 40.254891676826496, 40.41316020927309, 40.57142874171967, 40.72969727416626, 40.88796580661285, 41.04623433905944, 41.20450287150602, 41.362771403952614, 41.5210399363992, 41.67930846884579, 41.837577001292374, 41.995845533738965, 42.15411406618555, 42.31238259863214, 42.470651131078725, 42.628919663525316, 42.78718819597191, 42.94545672841849, 43.103725260865076, 43.26199379331167, 43.42026232575826, 43.57853085820484, 43.736799390651434, 43.89506792309802, 44.05333645554461, 44.211604987991194, 44.369873520437785, 44.52814205288437, 44.68641058533096, 44.844679117777545, 45.00294765022414, 45.16121618267072, 45.31948471511731, 45.477753247563896, 45.63602178001049, 45.79429031245707, 45.95255884490366, 46.11082737735025, 46.26909590979684, 46.42736444224342, 46.585632974690014, 46.7439015071366, 46.90217003958319, 47.060438572029774, 47.218707104476366, 47.37697563692295, 47.53524416936954, 47.69351270181613, 47.85178123426272, 48.0100497667093, 48.16831829915589, 48.326586831602484, 48.48485536404907, 48.64312389649566, 48.80139242894224, 48.959660961388835, 49.11792949383542, 49.27619802628201, 49.434466558728595, 49.592735091175186, 49.75100362362177, 49.90927215606836, 50.067540688514946, 50.22580922096154, 50.38407775340812, 50.54234628585471, 50.7006148183013, 50.85888335074789, 51.01715188319447, 51.175420415641064, 51.33368894808765, 51.49195748053424, 51.65022601298082, 51.808494545427415, 51.966763077874006, 52.12503161032059, 52.283300142767175, 52.441568675213766, 52.59983720766036, 52.75810574010694, 52.916374272553526, 53.07464280500012, 53.23291133744671, 53.39117986989329, 53.54944840233988, 53.70771693478647, 53.86598546723306, 54.024253999679644, 54.18252253212623, 54.34079106457282, 54.49905959701941, 54.657328129465995, 54.815596661912586, 54.97386519435918, 55.13213372680576, 55.290402259252346, 55.44867079169894], [39.67692523349508, 39.83519376594167, 39.99346229838825, 40.15173083083484, 40.309999363281435, 40.46826789572802, 40.62653642817461, 40.784804960621194, 40.943073493067786, 41.10134202551437, 41.25961055796096, 41.417879090407546, 41.57614762285414, 41.73441615530072, 41.89268468774731, 42.0509532201939, 42.20922175264049, 42.36749028508707, 42.525758817533664, 42.68402734998025, 42.84229588242684, 43.00056441487342, 43.158832947320015, 43.3171014797666, 43.47537001221319, 43.633638544659775, 43.791907077106366, 43.95017560955296, 44.10844414199954, 44.266712674446126, 44.42498120689272, 44.5832497393393, 44.74151827178589, 44.899786804232484, 45.05805533667907, 45.21632386912566, 45.374592401572244, 45.532860934018835, 45.69112946646542, 45.84939799891201, 46.007666531358595, 46.165935063805186, 46.32420359625177, 46.48247212869836, 46.640740661144946, 46.79900919359154, 46.95727772603812, 47.11554625848471, 47.2738147909313, 47.43208332337789, 47.59035185582447, 47.748620388271064, 47.90688892071765, 48.06515745316424, 48.223425985610824, 48.381694518057415, 48.539963050504, 48.69823158295059, 48.856500115397175, 49.014768647843766, 49.17303718029036, 49.33130571273694, 49.489574245183526, 49.64784277763012, 49.80611131007671, 49.96437984252329, 50.122648374969884, 50.28091690741647, 50.43918543986306, 50.597453972309644, 50.755722504756235, 50.91399103720282, 51.07225956964941, 51.230528102095995, 51.38879663454259, 51.54706516698917, 51.70533369943576, 51.863602231882346, 52.02187076432894, 52.18013929677552, 52.33840782922211, 52.4966763616687, 52.65494489411529, 52.81321342656187, 52.971481959008464, 53.12975049145505, 53.28801902390164, 53.446287556348224, 53.604556088794816, 53.76282462124141, 53.92109315368799, 54.079361686134575, 54.23763021858117, 54.39589875102775, 54.55416728347434, 54.712435815920934, 54.87070434836752, 55.02897288081411, 55.18724141326069, 55.345509945707285], [39.573764387503424, 39.732032919950015, 39.8903014523966, 40.04856998484319, 40.20683851728978, 40.365107049736366, 40.52337558218295, 40.68164411462954, 40.83991264707613, 40.99818117952272, 41.15644971196931, 41.31471824441589, 41.472986776862484, 41.63125530930907, 41.78952384175566, 41.947792374202244, 42.106060906648835, 42.26432943909542, 42.42259797154201, 42.580866503988595, 42.73913503643519, 42.89740356888177, 43.05567210132836, 43.213940633774946, 43.37220916622154, 43.53047769866812, 43.68874623111471, 43.8470147635613, 44.00528329600789, 44.16355182845447, 44.321820360901064, 44.48008889334765, 44.63835742579424, 44.796625958240824, 44.954894490687415, 45.11316302313401, 45.27143155558059, 45.429700088027175, 45.58796862047377, 45.74623715292036, 45.90450568536694, 46.06277421781353, 46.22104275026012, 46.37931128270671, 46.53757981515329, 46.695848347599885, 46.85411688004647, 47.01238541249306, 47.170653944939644, 47.328922477386236, 47.48719100983282, 47.64545954227941, 47.803728074725996, 47.96199660717259, 48.12026513961917, 48.27853367206576, 48.43680220451235, 48.59507073695894, 48.75333926940552, 48.911607801852114, 49.0698763342987, 49.22814486674529, 49.38641339919187, 49.544681931638465, 49.70295046408505, 49.86121899653164, 50.01948752897823, 50.177756061424816, 50.3360245938714, 50.49429312631799, 50.65256165876458, 50.81083019121117, 50.96909872365775, 51.12736725610434, 51.285635788550934, 51.44390432099752, 51.60217285344411, 51.760441385890694, 51.918709918337285, 52.07697845078387, 52.23524698323046, 52.393515515677045, 52.551784048123636, 52.71005258057022, 52.86832111301681, 53.026589645463396, 53.18485817790999, 53.34312671035657, 53.50139524280316, 53.659663775249754, 53.81793230769634, 53.97620084014292, 54.134469372589514, 54.2927379050361, 54.45100643748269, 54.609274969929274, 54.767543502375865, 54.92581203482246, 55.08408056726904, 55.24234909971563], [39.47060354151177, 39.62887207395836, 39.78714060640495, 39.94540913885154, 40.10367767129812, 40.261946203744714, 40.4202147361913, 40.57848326863789, 40.73675180108447, 40.895020333531065, 41.05328886597765, 41.21155739842424, 41.36982593087083, 41.528094463317416, 41.686362995764, 41.84463152821059, 42.00290006065718, 42.16116859310377, 42.31943712555035, 42.47770565799694, 42.635974190443534, 42.79424272289012, 42.95251125533671, 43.110779787783294, 43.269048320229885, 43.42731685267647, 43.58558538512306, 43.743853917569645, 43.902122450016236, 44.06039098246282, 44.21865951490941, 44.376928047355996, 44.53519657980259, 44.69346511224917, 44.85173364469576, 45.01000217714235, 45.16827070958894, 45.32653924203552, 45.484807774482114, 45.643076306928705, 45.80134483937529, 45.959613371821874, 46.117881904268465, 46.27615043671506, 46.43441896916164, 46.59268750160823, 46.750956034054816, 46.90922456650141, 47.06749309894799, 47.22576163139458, 47.38403016384117, 47.54229869628776, 47.70056722873434, 47.858835761180934, 48.01710429362752, 48.17537282607411, 48.333641358520694, 48.491909890967285, 48.65017842341387, 48.80844695586046, 48.966715488307045, 49.12498402075364, 49.28325255320022, 49.44152108564681, 49.599789618093396, 49.75805815053999, 49.91632668298657, 50.07459521543316, 50.23286374787975, 50.39113228032634, 50.54940081277292, 50.707669345219514, 50.8659378776661, 51.02420641011269, 51.182474942559274, 51.340743475005866, 51.49901200745246, 51.65728053989904, 51.815549072345625, 51.97381760479222, 52.13208613723881, 52.29035466968539, 52.448623202131984, 52.60689173457857, 52.76516026702516, 52.92342879947174, 53.081697331918335, 53.23996586436492, 53.39823439681151, 53.556502929258095, 53.714771461704686, 53.87303999415127, 54.03130852659786, 54.189577059044446, 54.34784559149104, 54.50611412393762, 54.66438265638421, 54.822651188830804, 54.98091972127739, 55.13918825372397], [39.36744269552012, 39.52571122796671, 39.683979760413294, 39.842248292859885, 40.00051682530647, 40.15878535775306, 40.317053890199645, 40.47532242264624, 40.63359095509282, 40.79185948753941, 40.950128019985996, 41.10839655243259, 41.26666508487918, 41.42493361732576, 41.58320214977235, 41.74147068221894, 41.89973921466553, 42.058007747112114, 42.2162762795587, 42.37454481200529, 42.53281334445188, 42.691081876898465, 42.84935040934506, 43.00761894179164, 43.16588747423823, 43.32415600668482, 43.48242453913141, 43.64069307157799, 43.79896160402458, 43.95723013647117, 44.11549866891776, 44.27376720136434, 44.432035733810935, 44.59030426625752, 44.74857279870411, 44.906841331150694, 45.065109863597286, 45.22337839604387, 45.38164692849046, 45.53991546093705, 45.69818399338364, 45.85645252583022, 46.01472105827681, 46.172989590723404, 46.33125812316999, 46.48952665561658, 46.647795188063164, 46.806063720509755, 46.96433225295634, 47.12260078540293, 47.280869317849515, 47.439137850296106, 47.59740638274269, 47.75567491518928, 47.913943447635866, 48.07221198008246, 48.23048051252904, 48.38874904497563, 48.54701757742222, 48.70528610986881, 48.86355464231539, 49.021823174761984, 49.18009170720857, 49.33836023965516, 49.496628772101744, 49.654897304548335, 49.81316583699492, 49.97143436944151, 50.129702901888095, 50.287971434334686, 50.44623996678127, 50.60450849922786, 50.762777031674446, 50.92104556412104, 51.07931409656762, 51.23758262901421, 51.395851161460804, 51.55411969390739, 51.71238822635397, 51.870656758800564, 52.028925291247155, 52.18719382369374, 52.34546235614033, 52.503730888586915, 52.66199942103351, 52.82026795348009, 52.97853648592668, 53.136805018373266, 53.29507355081986, 53.45334208326644, 53.61161061571303, 53.76987914815962, 53.92814768060621, 54.08641621305279, 54.244684745499384, 54.40295327794597, 54.56122181039256, 54.71949034283915, 54.877758875285735, 55.03602740773232], [39.264281849528466, 39.42255038197506, 39.58081891442164, 39.73908744686823, 39.89735597931482, 40.05562451176141, 40.21389304420799, 40.372161576654584, 40.53043010910117, 40.68869864154776, 40.846967173994344, 41.005235706440935, 41.16350423888752, 41.32177277133411, 41.480041303780695, 41.638309836227286, 41.79657836867387, 41.95484690112046, 42.113115433567046, 42.27138396601364, 42.42965249846022, 42.58792103090681, 42.7461895633534, 42.90445809579999, 43.06272662824657, 43.220995160693164, 43.37926369313975, 43.53753222558634, 43.69580075803293, 43.854069290479515, 44.012337822926106, 44.17060635537269, 44.32887488781928, 44.487143420265866, 44.64541195271246, 44.80368048515904, 44.96194901760563, 45.12021755005222, 45.27848608249881, 45.43675461494539, 45.595023147391984, 45.75329167983857, 45.91156021228516, 46.069828744731744, 46.228097277178335, 46.38636580962492, 46.54463434207151, 46.702902874518095, 46.86117140696469, 47.01943993941127, 47.17770847185786, 47.335977004304446, 47.49424553675104, 47.65251406919762, 47.81078260164421, 47.969051134090805, 48.12731966653739, 48.28558819898397, 48.443856731430564, 48.60212526387715, 48.76039379632374, 48.91866232877033, 49.076930861216916, 49.2351993936635, 49.39346792611009, 49.55173645855668, 49.71000499100327, 49.86827352344986, 50.02654205589644, 50.18481058834303, 50.34307912078962, 50.50134765323621, 50.65961618568279, 50.817884718129385, 50.97615325057597, 51.13442178302256, 51.292690315469144, 51.450958847915736, 51.60922738036232, 51.76749591280891, 51.925764445255496, 52.08403297770209, 52.24230151014867, 52.40057004259526, 52.55883857504185, 52.71710710748844, 52.87537563993502, 53.033644172381614, 53.191912704828205, 53.35018123727479, 53.50844976972138, 53.666718302167965, 53.82498683461455, 53.98325536706114, 54.141523899507725, 54.299792431954316, 54.45806096440091, 54.61632949684749, 54.77459802929408, 54.93286656174067], [39.16112100353681, 39.3193895359834, 39.47765806842999, 39.63592660087657, 39.794195133323164, 39.952463665769756, 40.11073219821634, 40.269000730662924, 40.427269263109515, 40.58553779555611, 40.74380632800269, 40.90207486044928, 41.06034339289587, 41.21861192534246, 41.37688045778904, 41.53514899023563, 41.69341752268222, 41.85168605512881, 42.00995458757539, 42.168223120021985, 42.32649165246857, 42.48476018491516, 42.643028717361744, 42.801297249808336, 42.95956578225492, 43.11783431470151, 43.276102847148096, 43.43437137959469, 43.59263991204127, 43.75090844448786, 43.90917697693445, 44.06744550938104, 44.22571404182762, 44.383982574274214, 44.5422511067208, 44.70051963916739, 44.85878817161397, 45.017056704060565, 45.17532523650715, 45.33359376895374, 45.49186230140033, 45.650130833846916, 45.8083993662935, 45.96666789874009, 46.12493643118668, 46.28320496363327, 46.44147349607985, 46.59974202852644, 46.758010560973034, 46.91627909341962, 47.07454762586621, 47.232816158312794, 47.391084690759385, 47.54935322320597, 47.70762175565256, 47.865890288099145, 48.024158820545736, 48.18242735299232, 48.34069588543891, 48.498964417885496, 48.65723295033209, 48.81550148277867, 48.97377001522526, 49.13203854767185, 49.29030708011844, 49.44857561256502, 49.606844145011614, 49.765112677458205, 49.92338120990479, 50.081649742351374, 50.239918274797965, 50.39818680724456, 50.55645533969114, 50.714723872137725, 50.872992404584316, 51.03126093703091, 51.18952946947749, 51.34779800192408, 51.50606653437067, 51.66433506681726, 51.82260359926384, 51.980872131710434, 52.13914066415702, 52.29740919660361, 52.455677729050194, 52.613946261496785, 52.77221479394337, 52.93048332638996, 53.088751858836545, 53.24702039128314, 53.40528892372973, 53.56355745617631, 53.721825988622896, 53.88009452106949, 54.03836305351607, 54.19663158596266, 54.354900118409255, 54.51316865085584, 54.67143718330243, 54.829705715749014], [39.05796015754516, 39.216228689991745, 39.374497222438336, 39.53276575488492, 39.69103428733151, 39.849302819778096, 40.00757135222469, 40.16583988467127, 40.32410841711786, 40.48237694956445, 40.64064548201104, 40.79891401445762, 40.957182546904214, 41.115451079350805, 41.27371961179739, 41.431988144243974, 41.590256676690565, 41.748525209137156, 41.90679374158374, 42.06506227403033, 42.223330806476916, 42.38159933892351, 42.53986787137009, 42.69813640381668, 42.85640493626327, 43.01467346870986, 43.17294200115644, 43.331210533603034, 43.48947906604962, 43.64774759849621, 43.806016130942794, 43.964284663389385, 44.12255319583597, 44.28082172828256, 44.439090260729145, 44.59735879317574, 44.75562732562232, 44.91389585806891, 45.072164390515496, 45.23043292296209, 45.38870145540868, 45.54696998785526, 45.70523852030185, 45.86350705274844, 46.02177558519503, 46.180044117641614, 46.3383126500882, 46.49658118253479, 46.65484971498138, 46.813118247427965, 46.97138677987456, 47.12965531232114, 47.28792384476773, 47.44619237721432, 47.60446090966091, 47.76272944210749, 47.92099797455408, 48.07926650700067, 48.23753503944726, 48.39580357189384, 48.554072104340435, 48.71234063678702, 48.87060916923361, 49.028877701680194, 49.187146234126786, 49.34541476657337, 49.50368329901996, 49.661951831466546, 49.82022036391314, 49.97848889635972, 50.13675742880631, 50.2950259612529, 50.45329449369949, 50.61156302614607, 50.769831558592664, 50.92810009103925, 51.08636862348584, 51.24463715593243, 51.402905688379015, 51.561174220825606, 51.71944275327219, 51.87771128571878, 52.035979818165366, 52.19424835061196, 52.35251688305854, 52.51078541550513, 52.66905394795172, 52.82732248039831, 52.98559101284489, 53.143859545291484, 53.30212807773807, 53.46039661018466, 53.618665142631244, 53.776933675077835, 53.93520220752442, 54.09347073997101, 54.2517392724176, 54.410007804864186, 54.56827633731078, 54.72654486975736], [38.95479931155351, 39.11306784400009, 39.27133637644668, 39.42960490889327, 39.58787344133986, 39.74614197378644, 39.904410506233035, 40.06267903867962, 40.22094757112621, 40.379216103572794, 40.537484636019386, 40.69575316846597, 40.85402170091256, 41.01229023335915, 41.17055876580574, 41.32882729825232, 41.48709583069891, 41.645364363145504, 41.80363289559209, 41.96190142803868, 42.12016996048526, 42.278438492931855, 42.43670702537844, 42.59497555782503, 42.753244090271615, 42.911512622718206, 43.06978115516479, 43.22804968761138, 43.386318220057966, 43.54458675250456, 43.70285528495114, 43.86112381739773, 44.01939234984432, 44.17766088229091, 44.33592941473749, 44.494197947184084, 44.65246647963067, 44.81073501207726, 44.969003544523844, 45.127272076970435, 45.285540609417026, 45.44380914186361, 45.602077674310195, 45.760346206756786, 45.91861473920338, 46.07688327164996, 46.235151804096546, 46.39342033654314, 46.55168886898973, 46.70995740143631, 46.868225933882904, 47.02649446632949, 47.18476299877608, 47.343031531222664, 47.501300063669255, 47.65956859611584, 47.81783712856243, 47.976105661009015, 48.134374193455606, 48.29264272590219, 48.45091125834878, 48.609179790795366, 48.76744832324196, 48.92571685568854, 49.08398538813513, 49.24225392058172, 49.40052245302831, 49.55879098547489, 49.717059517921484, 49.87532805036807, 50.03359658281466, 50.191865115261244, 50.350133647707835, 50.50840218015442, 50.66667071260101, 50.824939245047595, 50.98320777749419, 51.14147630994078, 51.29974484238736, 51.45801337483395, 51.61628190728054, 51.77455043972713, 51.93281897217371, 52.091087504620305, 52.24935603706689, 52.40762456951348, 52.565893101960064, 52.724161634406656, 52.88243016685324, 53.04069869929983, 53.198967231746416, 53.35723576419301, 53.51550429663959, 53.67377282908618, 53.83204136153277, 53.99030989397936, 54.14857842642595, 54.30684695887253, 54.465115491319125, 54.62338402376571], [38.851638465561855, 39.00990699800844, 39.16817553045503, 39.326444062901615, 39.484712595348206, 39.64298112779479, 39.80124966024138, 39.959518192687966, 40.11778672513456, 40.27605525758114, 40.43432379002773, 40.59259232247432, 40.75086085492091, 40.90912938736749, 41.067397919814084, 41.22566645226067, 41.38393498470726, 41.54220351715385, 41.700472049600435, 41.85874058204702, 42.01700911449361, 42.1752776469402, 42.333546179386786, 42.49181471183337, 42.65008324427996, 42.80835177672655, 42.96662030917314, 43.12488884161973, 43.28315737406631, 43.441425906512904, 43.59969443895949, 43.75796297140608, 43.916231503852664, 44.074500036299256, 44.23276856874584, 44.39103710119243, 44.549305633639015, 44.70757416608561, 44.86584269853219, 45.02411123097878, 45.18237976342537, 45.34064829587196, 45.49891682831854, 45.65718536076513, 45.81545389321172, 45.97372242565831, 46.13199095810489, 46.290259490551485, 46.44852802299807, 46.60679655544466, 46.765065087891244, 46.923333620337836, 47.08160215278442, 47.23987068523101, 47.398139217677596, 47.55640775012419, 47.71467628257078, 47.87294481501736, 48.03121334746395, 48.18948187991054, 48.34775041235713, 48.506018944803714, 48.6642874772503, 48.82255600969689, 48.98082454214348, 49.139093074590065, 49.297361607036656, 49.45563013948324, 49.61389867192983, 49.772167204376416, 49.93043573682301, 50.08870426926959, 50.24697280171618, 50.40524133416277, 50.56350986660936, 50.72177839905594, 50.880046931502534, 51.03831546394912, 51.19658399639571, 51.3548525288423, 51.513121061288885, 51.67138959373547, 51.82965812618206, 51.98792665862865, 52.146195191075236, 52.30446372352182, 52.46273225596841, 52.621000788415, 52.77926932086159, 52.93753785330818, 53.09580638575476, 53.254074918201354, 53.41234345064794, 53.57061198309452, 53.728880515541114, 53.887149047987705, 54.04541758043429, 54.20368611288088, 54.36195464532747, 54.52022317777406], [38.748477619570195, 38.90674615201679, 39.06501468446338, 39.22328321690996, 39.381551749356554, 39.53982028180314, 39.69808881424973, 39.85635734669631, 40.014625879142905, 40.17289441158949, 40.33116294403608, 40.489431476482665, 40.647700008929256, 40.80596854137584, 40.96423707382243, 41.122505606269016, 41.28077413871561, 41.43904267116219, 41.59731120360878, 41.75557973605537, 41.91384826850196, 42.07211680094854, 42.230385333395134, 42.38865386584172, 42.54692239828831, 42.7051909307349, 42.863459463181485, 43.02172799562807, 43.17999652807466, 43.33826506052125, 43.496533592967836, 43.65480212541442, 43.81307065786101, 43.9713391903076, 44.12960772275419, 44.28787625520078, 44.44614478764736, 44.604413320093954, 44.76268185254054, 44.92095038498713, 45.079218917433714, 45.237487449880305, 45.39575598232689, 45.55402451477348, 45.712293047220065, 45.870561579666656, 46.02883011211324, 46.18709864455983, 46.345367177006416, 46.50363570945301, 46.66190424189959, 46.82017277434618, 46.97844130679277, 47.13670983923936, 47.29497837168594, 47.453246904132534, 47.611515436579126, 47.76978396902571, 47.928052501472294, 48.086321033918885, 48.24458956636548, 48.40285809881206, 48.561126631258645, 48.71939516370524, 48.87766369615183, 49.03593222859841, 49.194200761045, 49.35246929349159, 49.51073782593818, 49.66900635838476, 49.827274890831355, 49.98554342327794, 50.14381195572453, 50.302080488171114, 50.460349020617706, 50.61861755306429, 50.77688608551088, 50.935154617957465, 51.09342315040406, 51.25169168285064, 51.40996021529723, 51.56822874774382, 51.72649728019041, 51.88476581263699, 52.04303434508358, 52.20130287753017, 52.35957140997676, 52.51783994242334, 52.676108474869935, 52.834377007316526, 52.99264553976311, 53.150914072209694, 53.309182604656286, 53.46745113710287, 53.62571966954946, 53.78398820199605, 53.94225673444264, 54.10052526688923, 54.25879379933581, 54.417062331782404], [38.64531677357854, 38.803585306025134, 38.961853838471725, 39.12012237091831, 39.278390903364894, 39.436659435811485, 39.59492796825808, 39.75319650070466, 39.911465033151245, 40.069733565597836, 40.22800209804443, 40.38627063049101, 40.5445391629376, 40.70280769538419, 40.86107622783078, 41.01934476027736, 41.177613292723954, 41.33588182517054, 41.49415035761713, 41.652418890063714, 41.810687422510306, 41.96895595495689, 42.12722448740348, 42.285493019850065, 42.44376155229666, 42.60203008474324, 42.76029861718983, 42.91856714963642, 43.07683568208301, 43.23510421452959, 43.39337274697618, 43.55164127942277, 43.70990981186936, 43.86817834431594, 44.026446876762535, 44.18471540920912, 44.34298394165571, 44.5012524741023, 44.659521006548886, 44.81778953899548, 44.97605807144206, 45.13432660388865, 45.29259513633524, 45.45086366878183, 45.60913220122841, 45.767400733675004, 45.92566926612159, 46.08393779856818, 46.24220633101476, 46.400474863461355, 46.55874339590794, 46.71701192835453, 46.875280460801115, 47.033548993247706, 47.19181752569429, 47.35008605814088, 47.508354590587466, 47.66662312303406, 47.82489165548064, 47.98316018792723, 48.141428720373824, 48.29969725282041, 48.45796578526699, 48.616234317713584, 48.774502850160175, 48.93277138260676, 49.091039915053344, 49.249308447499935, 49.407576979946526, 49.56584551239311, 49.724114044839695, 49.882382577286286, 50.04065110973288, 50.19891964217946, 50.357188174626046, 50.51545670707264, 50.67372523951923, 50.83199377196581, 50.9902623044124, 51.14853083685899, 51.30679936930558, 51.465067901752164, 51.623336434198755, 51.78160496664534, 51.93987349909193, 52.098142031538515, 52.256410563985106, 52.41467909643169, 52.57294762887828, 52.731216161324866, 52.88948469377146, 53.04775322621804, 53.20602175866463, 53.36429029111122, 53.52255882355781, 53.6808273560044, 53.839095888450984, 53.997364420897576, 54.15563295334416, 54.31390148579075], [38.54215592758689, 38.70042446003348, 38.85869299248007, 39.01696152492666, 39.17523005737324, 39.33349858981983, 39.491767122266424, 39.65003565471301, 39.80830418715959, 39.966572719606184, 40.124841252052775, 40.28310978449936, 40.44137831694595, 40.599646849392535, 40.757915381839126, 40.91618391428571, 41.0744524467323, 41.232720979178886, 41.39098951162548, 41.54925804407206, 41.70752657651865, 41.86579510896524, 42.02406364141183, 42.18233217385841, 42.340600706305004, 42.49886923875159, 42.65713777119818, 42.815406303644764, 42.973674836091355, 43.13194336853794, 43.29021190098453, 43.448480433431115, 43.606748965877706, 43.76501749832429, 43.92328603077088, 44.081554563217466, 44.23982309566406, 44.39809162811065, 44.55636016055723, 44.714628693003824, 44.87289722545041, 45.031165757897, 45.189434290343584, 45.347702822790176, 45.50597135523676, 45.66423988768335, 45.822508420129935, 45.98077695257653, 46.13904548502311, 46.2973140174697, 46.455582549916286, 46.61385108236288, 46.77211961480946, 46.93038814725605, 47.08865667970264, 47.24692521214923, 47.40519374459581, 47.563462277042404, 47.72173080948899, 47.87999934193558, 48.03826787438217, 48.196536406828756, 48.35480493927534, 48.51307347172193, 48.67134200416852, 48.82961053661511, 48.98787906906169, 49.14614760150828, 49.304416133954874, 49.46268466640146, 49.62095319884804, 49.77922173129463, 49.937490263741225, 50.09575879618781, 50.25402732863439, 50.412295861080985, 50.570564393527576, 50.72883292597416, 50.887101458420744, 51.045369990867336, 51.20363852331393, 51.36190705576051, 51.5201755882071, 51.67844412065369, 51.83671265310028, 51.99498118554686, 52.153249717993454, 52.31151825044004, 52.46978678288663, 52.628055315333214, 52.786323847779805, 52.94459238022639, 53.10286091267298, 53.261129445119565, 53.419397977566156, 53.57766651001275, 53.73593504245933, 53.89420357490592, 54.05247210735251, 54.2107406397991], [38.43899508159524, 38.59726361404183, 38.75553214648841, 38.913800678935004, 39.07206921138159, 39.23033774382818, 39.388606276274764, 39.546874808721356, 39.70514334116794, 39.86341187361453, 40.02168040606112, 40.17994893850771, 40.33821747095429, 40.49648600340088, 40.654754535847474, 40.81302306829406, 40.97129160074064, 41.12956013318723, 41.287828665633825, 41.44609719808041, 41.604365730527, 41.762634262973584, 41.920902795420176, 42.07917132786676, 42.23743986031335, 42.395708392759936, 42.55397692520653, 42.71224545765311, 42.8705139900997, 43.02878252254629, 43.18705105499288, 43.34531958743946, 43.503588119886054, 43.66185665233264, 43.82012518477923, 43.97839371722581, 44.136662249672405, 44.29493078211899, 44.45319931456558, 44.611467847012165, 44.769736379458756, 44.92800491190535, 45.08627344435193, 45.244541976798516, 45.40281050924511, 45.5610790416917, 45.71934757413828, 45.87761610658487, 46.03588463903146, 46.19415317147805, 46.352421703924634, 46.51069023637122, 46.66895876881781, 46.8272273012644, 46.985495833710985, 47.143764366157576, 47.30203289860416, 47.46030143105075, 47.618569963497336, 47.77683849594393, 47.93510702839051, 48.0933755608371, 48.25164409328369, 48.40991262573028, 48.56818115817686, 48.726449690623454, 48.88471822307004, 49.04298675551663, 49.201255287963214, 49.359523820409805, 49.51779235285639, 49.67606088530298, 49.834329417749565, 49.992597950196156, 50.15086648264274, 50.30913501508933, 50.46740354753592, 50.62567207998251, 50.78394061242909, 50.94220914487568, 51.100477677322274, 51.25874620976886, 51.41701474221545, 51.575283274662034, 51.733551807108626, 51.89182033955521, 52.0500888720018, 52.208357404448385, 52.36662593689498, 52.52489446934156, 52.68316300178815, 52.84143153423474, 52.99970006668133, 53.15796859912791, 53.3162371315745, 53.47450566402109, 53.63277419646768, 53.79104272891427, 53.949311261360855, 54.107579793807446], [38.335834235603585, 38.494102768050176, 38.65237130049676, 38.81063983294335, 38.968908365389936, 39.12717689783653, 39.28544543028311, 39.4437139627297, 39.60198249517629, 39.76025102762288, 39.91851956006946, 40.076788092516054, 40.23505662496264, 40.39332515740923, 40.551593689855814, 40.709862222302405, 40.86813075474899, 41.02639928719558, 41.18466781964217, 41.342936352088756, 41.50120488453534, 41.65947341698193, 41.81774194942852, 41.97601048187511, 42.13427901432169, 42.29254754676828, 42.450816079214874, 42.60908461166146, 42.76735314410805, 42.925621676554634, 43.083890209001225, 43.24215874144781, 43.4004272738944, 43.558695806340985, 43.71696433878758, 43.87523287123416, 44.03350140368075, 44.191769936127336, 44.35003846857393, 44.50830700102051, 44.6665755334671, 44.82484406591369, 44.98311259836028, 45.14138113080686, 45.299649663253454, 45.457918195700046, 45.61618672814663, 45.774455260593214, 45.932723793039806, 46.0909923254864, 46.24926085793298, 46.407529390379565, 46.56579792282616, 46.72406645527275, 46.88233498771933, 47.040603520165924, 47.19887205261251, 47.3571405850591, 47.51540911750568, 47.67367764995227, 47.83194618239886, 47.99021471484545, 48.148483247292035, 48.30675177973862, 48.46502031218521, 48.6232888446318, 48.781557377078386, 48.93982590952498, 49.09809444197156, 49.25636297441815, 49.41463150686474, 49.57290003931133, 49.73116857175791, 49.889437104204504, 50.04770563665109, 50.20597416909768, 50.36424270154427, 50.522511233990855, 50.68077976643744, 50.83904829888403, 50.99731683133062, 51.155585363777206, 51.31385389622379, 51.47212242867038, 51.63039096111697, 51.78865949356356, 51.94692802601014, 52.10519655845673, 52.263465090903324, 52.42173362334991, 52.5800021557965, 52.738270688243084, 52.896539220689675, 53.05480775313626, 53.213076285582844, 53.371344818029435, 53.529613350476026, 53.68788188292261, 53.8461504153692, 54.00441894781579], [38.23267338961193, 38.390941922058516, 38.54921045450511, 38.7074789869517, 38.86574751939828, 39.02401605184487, 39.18228458429146, 39.34055311673805, 39.498821649184634, 39.65709018163122, 39.81535871407781, 39.9736272465244, 40.131895778970986, 40.29016431141758, 40.44843284386416, 40.60670137631075, 40.76496990875734, 40.92323844120393, 41.08150697365051, 41.239775506097104, 41.39804403854369, 41.55631257099028, 41.71458110343686, 41.872849635883455, 42.03111816833004, 42.18938670077663, 42.347655233223215, 42.505923765669806, 42.66419229811639, 42.82246083056298, 42.98072936300957, 43.13899789545616, 43.29726642790274, 43.45553496034933, 43.613803492795924, 43.77207202524251, 43.93034055768909, 44.088609090135684, 44.246877622582275, 44.40514615502886, 44.56341468747545, 44.721683219922035, 44.879951752368626, 45.03822028481521, 45.1964888172618, 45.354757349708386, 45.51302588215498, 45.67129441460156, 45.82956294704815, 45.98783147949474, 46.14610001194133, 46.30436854438791, 46.462637076834504, 46.62090560928109, 46.77917414172768, 46.937442674174264, 47.095711206620855, 47.25397973906744, 47.41224827151403, 47.570516803960615, 47.728785336407206, 47.8870538688538, 48.04532240130038, 48.203590933746966, 48.36185946619356, 48.52012799864015, 48.67839653108673, 48.83666506353332, 48.99493359597991, 49.1532021284265, 49.311470660873084, 49.46973919331967, 49.62800772576626, 49.78627625821285, 49.944544790659435, 50.10281332310602, 50.26108185555261, 50.4193503879992, 50.577618920445786, 50.73588745289238, 50.89415598533896, 51.05242451778555, 51.21069305023214, 51.36896158267873, 51.52723011512531, 51.685498647571904, 51.84376718001849, 52.00203571246508, 52.16030424491167, 52.318572777358256, 52.47684130980484, 52.63510984225143, 52.793378374698015, 52.95164690714461, 53.10991543959119, 53.26818397203778, 53.426452504484374, 53.58472103693096, 53.74298956937755, 53.90125810182413], [38.12951254362028, 38.287781076066864, 38.446049608513455, 38.60431814096004, 38.76258667340663, 38.920855205853215, 39.079123738299806, 39.23739227074639, 39.39566080319298, 39.553929335639566, 39.71219786808616, 39.87046640053275, 40.02873493297933, 40.18700346542592, 40.34527199787251, 40.5035405303191, 40.661809062765684, 40.82007759521227, 40.97834612765886, 41.13661466010545, 41.294883192552035, 41.45315172499863, 41.61142025744521, 41.7696887898918, 41.927957322338386, 42.08622585478498, 42.24449438723156, 42.40276291967815, 42.56103145212474, 42.71929998457133, 42.87756851701791, 43.035837049464504, 43.19410558191109, 43.35237411435768, 43.510642646804264, 43.668911179250856, 43.82717971169744, 43.98544824414403, 44.143716776590615, 44.30198530903721, 44.46025384148379, 44.61852237393038, 44.77679090637697, 44.93505943882356, 45.09332797127014, 45.25159650371673, 45.40986503616332, 45.56813356860991, 45.72640210105649, 45.884670633503085, 46.042939165949676, 46.20120769839626, 46.359476230842844, 46.517744763289436, 46.67601329573603, 46.83428182818261, 46.9925503606292, 47.15081889307579, 47.30908742552238, 47.46735595796896, 47.625624490415554, 47.78389302286214, 47.94216155530873, 48.10043008775531, 48.258698620201905, 48.41696715264849, 48.57523568509508, 48.733504217541665, 48.891772749988256, 49.05004128243484, 49.20830981488143, 49.366578347328016, 49.52484687977461, 49.68311541222119, 49.84138394466778, 49.99965247711437, 50.15792100956096, 50.31618954200755, 50.474458074454134, 50.632726606900725, 50.79099513934731, 50.9492636717939, 51.107532204240485, 51.265800736687076, 51.42406926913366, 51.58233780158025, 51.740606334026836, 51.89887486647343, 52.05714339892001, 52.2154119313666, 52.37368046381319, 52.53194899625978, 52.69021752870636, 52.848486061152954, 53.00675459359954, 53.16502312604613, 53.32329165849272, 53.481560190939305, 53.6398287233859, 53.79809725583248], [38.02635169762863, 38.18462023007521, 38.3428887625218, 38.50115729496839, 38.65942582741498, 38.81769435986156, 38.975962892308154, 39.13423142475474, 39.29249995720133, 39.45076848964791, 39.609037022094505, 39.76730555454109, 39.92557408698768, 40.083842619434265, 40.242111151880856, 40.40037968432744, 40.55864821677403, 40.716916749220616, 40.87518528166721, 41.0334538141138, 41.19172234656038, 41.34999087900697, 41.50825941145356, 41.66652794390015, 41.824796476346734, 41.983065008793325, 42.14133354123991, 42.2996020736865, 42.457870606133085, 42.616139138579676, 42.77440767102626, 42.93267620347285, 43.090944735919436, 43.24921326836603, 43.40748180081261, 43.5657503332592, 43.72401886570579, 43.88228739815238, 44.04055593059896, 44.198824463045554, 44.35709299549214, 44.51536152793873, 44.673630060385314, 44.831898592831905, 44.99016712527849, 45.14843565772508, 45.306704190171665, 45.464972722618256, 45.62324125506484, 45.78150978751143, 45.93977831995802, 46.09804685240461, 46.25631538485119, 46.41458391729778, 46.572852449744374, 46.73112098219096, 46.88938951463755, 47.047658047084134, 47.205926579530725, 47.36419511197731, 47.5224636444239, 47.680732176870485, 47.83900070931708, 47.99726924176366, 48.15553777421025, 48.313806306656836, 48.47207483910343, 48.63034337155001, 48.7886119039966, 48.94688043644319, 49.10514896888978, 49.26341750133636, 49.421686033782954, 49.57995456622954, 49.73822309867613, 49.896491631122714, 50.054760163569306, 50.2130286960159, 50.37129722846248, 50.529565760909065, 50.68783429335566, 50.84610282580225, 51.00437135824883, 51.16263989069542, 51.32090842314201, 51.4791769555886, 51.63744548803518, 51.79571402048177, 51.95398255292836, 52.11225108537495, 52.270519617821535, 52.42878815026812, 52.58705668271471, 52.7453252151613, 52.903593747607886, 53.06186228005448, 53.22013081250107, 53.37839934494765, 53.53666787739424, 53.69493640984083], [37.923190851636974, 38.08145938408356, 38.23972791653014, 38.397996448976734, 38.556264981423325, 38.71453351386991, 38.872802046316494, 39.031070578763085, 39.18933911120968, 39.34760764365626, 39.50587617610285, 39.664144708549436, 39.82241324099603, 39.98068177344261, 40.1389503058892, 40.29721883833579, 40.45548737078238, 40.61375590322896, 40.772024435675554, 40.93029296812214, 41.08856150056873, 41.246830033015314, 41.405098565461905, 41.56336709790849, 41.72163563035508, 41.879904162801665, 42.03817269524826, 42.19644122769485, 42.35470976014143, 42.512978292588016, 42.67124682503461, 42.8295153574812, 42.98778388992778, 43.146052422374375, 43.30432095482096, 43.46258948726755, 43.620858019714134, 43.779126552160726, 43.93739508460731, 44.0956636170539, 44.253932149500486, 44.41220068194708, 44.57046921439366, 44.72873774684025, 44.88700627928684, 45.04527481173343, 45.20354334418001, 45.361811876626604, 45.52008040907319, 45.67834894151978, 45.83661747396636, 45.994886006412955, 46.15315453885954, 46.31142307130613, 46.469691603752715, 46.627960136199306, 46.78622866864589, 46.94449720109248, 47.102765733539066, 47.26103426598566, 47.41930279843225, 47.57757133087883, 47.73583986332542, 47.89410839577201, 48.0523769282186, 48.210645460665184, 48.368913993111775, 48.52718252555836, 48.68545105800495, 48.843719590451535, 49.001988122898126, 49.16025665534471, 49.3185251877913, 49.476793720237886, 49.63506225268448, 49.79333078513106, 49.95159931757765, 50.10986785002424, 50.26813638247083, 50.42640491491741, 50.584673447364004, 50.74294197981059, 50.90121051225718, 51.059479044703764, 51.217747577150355, 51.37601610959694, 51.53428464204353, 51.692553174490115, 51.850821706936706, 52.0090902393833, 52.16735877182988, 52.325627304276466, 52.48389583672306, 52.64216436916964, 52.80043290161623, 52.958701434062824, 53.11696996650941, 53.275238498956, 53.433507031402584, 53.591775563849176], [37.82003000564532, 37.978298538091906, 38.13656707053849, 38.29483560298508, 38.45310413543167, 38.61137266787826, 38.76964120032484, 38.92790973277143, 39.086178265218024, 39.24444679766461, 39.4027153301112, 39.560983862557784, 39.719252395004375, 39.87752092745096, 40.03578945989755, 40.194057992344135, 40.352326524790726, 40.51059505723731, 40.6688635896839, 40.827132122130486, 40.98540065457708, 41.14366918702366, 41.30193771947025, 41.46020625191684, 41.61847478436343, 41.77674331681001, 41.935011849256604, 42.09328038170319, 42.25154891414978, 42.409817446596364, 42.568085979042955, 42.72635451148954, 42.88462304393613, 43.042891576382715, 43.201160108829306, 43.3594286412759, 43.51769717372248, 43.675965706169066, 43.83423423861566, 43.99250277106225, 44.15077130350883, 44.309039835955424, 44.46730836840201, 44.6255769008486, 44.783845433295184, 44.942113965741775, 45.10038249818836, 45.25865103063495, 45.416919563081535, 45.57518809552813, 45.73345662797471, 45.8917251604213, 46.049993692867886, 46.20826222531448, 46.36653075776106, 46.52479929020765, 46.68306782265424, 46.84133635510083, 46.99960488754741, 47.157873419994004, 47.31614195244059, 47.47441048488718, 47.632679017333764, 47.790947549780356, 47.94921608222694, 48.10748461467353, 48.26575314712012, 48.42402167956671, 48.58229021201329, 48.74055874445988, 48.898827276906474, 49.05709580935306, 49.21536434179964, 49.37363287424623, 49.531901406692825, 49.69016993913941, 49.848438471586, 50.006707004032585, 50.164975536479176, 50.32324406892576, 50.48151260137235, 50.639781133818936, 50.79804966626553, 50.95631819871211, 51.1145867311587, 51.27285526360529, 51.43112379605188, 51.58939232849846, 51.747660860945054, 51.905929393391645, 52.06419792583823, 52.22246645828481, 52.380734990731405, 52.53900352317799, 52.69727205562458, 52.855540588071165, 53.013809120517756, 53.17207765296435, 53.33034618541093, 53.48861471785752], [37.71686915965367, 37.87513769210025, 38.03340622454684, 38.19167475699343, 38.34994328944002, 38.508211821886604, 38.66648035433319, 38.82474888677978, 38.98301741922637, 39.141285951672955, 39.29955448411955, 39.45782301656613, 39.61609154901272, 39.77436008145931, 39.9326286139059, 40.09089714635248, 40.24916567879907, 40.40743421124566, 40.56570274369225, 40.72397127613883, 40.882239808585425, 41.04050834103201, 41.1987768734786, 41.357045405925184, 41.515313938371776, 41.67358247081836, 41.83185100326495, 41.990119535711536, 42.14838806815813, 42.30665660060471, 42.4649251330513, 42.62319366549789, 42.78146219794448, 42.93973073039106, 43.097999262837654, 43.256267795284245, 43.41453632773083, 43.57280486017741, 43.731073392624005, 43.889341925070596, 44.04761045751718, 44.20587898996377, 44.364147522410356, 44.52241605485695, 44.68068458730353, 44.83895311975012, 44.99722165219671, 45.1554901846433, 45.31375871708988, 45.472027249536474, 45.63029578198306, 45.78856431442965, 45.946832846876234, 46.105101379322825, 46.26336991176941, 46.421638444216, 46.579906976662585, 46.738175509109176, 46.89644404155576, 47.05471257400235, 47.212981106448936, 47.37124963889553, 47.52951817134211, 47.6877867037887, 47.84605523623529, 48.00432376868188, 48.16259230112847, 48.320860833575054, 48.47912936602164, 48.63739789846823, 48.79566643091482, 48.953934963361405, 49.11220349580799, 49.27047202825458, 49.42874056070117, 49.587009093147756, 49.74527762559435, 49.90354615804093, 50.06181469048752, 50.22008322293411, 50.3783517553807, 50.53662028782728, 50.694888820273874, 50.85315735272046, 51.01142588516705, 51.169694417613634, 51.327962950060225, 51.48623148250681, 51.6445000149534, 51.80276854739999, 51.96103707984658, 52.11930561229316, 52.27757414473975, 52.435842677186336, 52.59411120963293, 52.75237974207951, 52.9106482745261, 53.068916806972695, 53.22718533941928, 53.38545387186587], [37.61370831366201, 37.7719768461086, 37.930245378555185, 38.088513911001776, 38.24678244344836, 38.40505097589495, 38.563319508341536, 38.72158804078813, 38.87985657323472, 39.0381251056813, 39.19639363812789, 39.35466217057448, 39.51293070302107, 39.671199235467654, 39.82946776791424, 39.98773630036083, 40.14600483280742, 40.304273365254005, 40.46254189770059, 40.62081043014718, 40.77907896259377, 40.937347495040356, 41.09561602748695, 41.25388455993353, 41.41215309238012, 41.57042162482671, 41.7286901572733, 41.88695868971988, 42.045227222166474, 42.20349575461306, 42.36176428705965, 42.520032819506234, 42.678301351952825, 42.83656988439941, 42.994838416846, 43.153106949292585, 43.31137548173918, 43.46964401418576, 43.62791254663235, 43.78618107907894, 43.94444961152553, 44.10271814397211, 44.2609866764187, 44.419255208865295, 44.57752374131188, 44.73579227375847, 44.894060806205054, 45.052329338651646, 45.21059787109823, 45.36886640354482, 45.527134935991405, 45.685403468438, 45.84367200088458, 46.00194053333117, 46.16020906577776, 46.31847759822435, 46.47674613067093, 46.63501466311752, 46.79328319556411, 46.9515517280107, 47.10982026045728, 47.268088792903875, 47.42635732535046, 47.58462585779705, 47.742894390243634, 47.901162922690226, 48.05943145513681, 48.2176999875834, 48.375968520029986, 48.53423705247658, 48.69250558492316, 48.85077411736975, 49.00904264981634, 49.16731118226293, 49.32557971470951, 49.483848247156104, 49.642116779602695, 49.80038531204928, 49.95865384449586, 50.116922376942455, 50.275190909389046, 50.43345944183563, 50.59172797428222, 50.749996506728806, 50.9082650391754, 51.06653357162198, 51.22480210406857, 51.38307063651516, 51.54133916896175, 51.69960770140833, 51.857876233854924, 52.01614476630151, 52.1744132987481, 52.332681831194684, 52.490950363641275, 52.64921889608786, 52.80748742853445, 52.96575596098104, 53.124024493427626, 53.28229302587422], [37.51054746767036, 37.66881600011695, 37.82708453256353, 37.98535306501012, 38.14362159745671, 38.3018901299033, 38.46015866234988, 38.618427194796475, 38.77669572724306, 38.93496425968965, 39.093232792136234, 39.251501324582826, 39.40976985702941, 39.568038389476, 39.726306921922586, 39.88457545436918, 40.04284398681576, 40.20111251926235, 40.35938105170894, 40.51764958415553, 40.67591811660212, 40.8341866490487, 40.99245518149529, 41.15072371394188, 41.30899224638847, 41.467260778835055, 41.62552931128164, 41.78379784372823, 41.94206637617482, 42.100334908621406, 42.258603441068, 42.41687197351458, 42.57514050596117, 42.73340903840776, 42.89167757085435, 43.04994610330093, 43.208214635747524, 43.36648316819411, 43.5247517006407, 43.683020233087284, 43.841288765533875, 43.99955729798046, 44.15782583042705, 44.316094362873635, 44.474362895320226, 44.63263142776681, 44.7908999602134, 44.949168492659986, 45.10743702510658, 45.26570555755316, 45.42397408999975, 45.58224262244634, 45.74051115489293, 45.89877968733951, 46.057048219786104, 46.215316752232695, 46.37358528467928, 46.531853817125864, 46.690122349572455, 46.848390882019046, 47.00665941446563, 47.16492794691222, 47.323196479358806, 47.4814650118054, 47.63973354425198, 47.79800207669857, 47.95627060914516, 48.11453914159175, 48.27280767403833, 48.431076206484924, 48.58934473893151, 48.7476132713781, 48.905881803824684, 49.064150336271275, 49.22241886871786, 49.38068740116445, 49.538955933611035, 49.69722446605763, 49.85549299850421, 50.0137615309508, 50.172030063397386, 50.33029859584398, 50.48856712829057, 50.64683566073715, 50.80510419318374, 50.96337272563033, 51.12164125807692, 51.279909790523504, 51.438178322970096, 51.59644685541668, 51.75471538786327, 51.912983920309856, 52.07125245275644, 52.22952098520303, 52.38778951764962, 52.54605805009621, 52.7043265825428, 52.86259511498939, 53.020863647435974, 53.17913217988256], [37.407386621678704, 37.565655154125295, 37.72392368657188, 37.88219221901847, 38.040460751465055, 38.198729283911646, 38.35699781635823, 38.51526634880482, 38.673534881251406, 38.831803413698, 38.99007194614458, 39.14834047859117, 39.30660901103776, 39.46487754348435, 39.62314607593093, 39.781414608377524, 39.93968314082411, 40.0979516732707, 40.256220205717284, 40.414488738163875, 40.57275727061047, 40.73102580305705, 40.889294335503635, 41.04756286795023, 41.20583140039682, 41.3640999328434, 41.522368465289986, 41.68063699773658, 41.83890553018317, 41.99717406262975, 42.155442595076345, 42.31371112752293, 42.47197965996952, 42.630248192416104, 42.788516724862696, 42.94678525730928, 43.10505378975587, 43.263322322202455, 43.42159085464905, 43.57985938709563, 43.73812791954222, 43.89639645198881, 44.0546649844354, 44.21293351688198, 44.37120204932857, 44.52947058177516, 44.68773911422175, 44.84600764666833, 45.004276179114925, 45.16254471156151, 45.3208132440081, 45.479081776454684, 45.637350308901276, 45.79561884134786, 45.95388737379445, 46.11215590624104, 46.27042443868763, 46.42869297113421, 46.5869615035808, 46.745230036027394, 46.90349856847398, 47.06176710092057, 47.220035633367154, 47.378304165813745, 47.53657269826033, 47.69484123070692, 47.853109763153505, 48.011378295600096, 48.16964682804668, 48.32791536049327, 48.486183892939856, 48.64445242538645, 48.80272095783303, 48.96098949027962, 49.11925802272621, 49.2775265551728, 49.43579508761938, 49.594063620065974, 49.75233215251256, 49.91060068495915, 50.068869217405734, 50.227137749852325, 50.385406282298916, 50.5436748147455, 50.701943347192085, 50.860211879638676, 51.01848041208527, 51.17674894453185, 51.33501747697844, 51.49328600942503, 51.65155454187162, 51.8098230743182, 51.96809160676479, 52.12636013921138, 52.28462867165797, 52.442897204104554, 52.601165736551145, 52.75943426899774, 52.91770280144432, 53.075971333890905], [37.30422577568705, 37.46249430813364, 37.62076284058023, 37.77903137302681, 37.9372999054734, 38.095568437919994, 38.25383697036658, 38.41210550281316, 38.57037403525975, 38.728642567706345, 38.88691110015293, 39.04517963259952, 39.203448165046105, 39.361716697492696, 39.51998522993928, 39.67825376238587, 39.836522294832456, 39.99479082727905, 40.15305935972563, 40.31132789217222, 40.46959642461881, 40.6278649570654, 40.78613348951198, 40.944402021958574, 41.10267055440516, 41.26093908685175, 41.419207619298334, 41.577476151744925, 41.735744684191516, 41.8940132166381, 42.052281749084685, 42.210550281531276, 42.36881881397786, 42.52708734642445, 42.685355878871036, 42.84362441131763, 43.00189294376421, 43.1601614762108, 43.31843000865739, 43.47669854110398, 43.63496707355057, 43.793235605997154, 43.95150413844374, 44.10977267089033, 44.26804120333692, 44.426309735783505, 44.58457826823009, 44.74284680067668, 44.90111533312327, 45.059383865569856, 45.21765239801645, 45.37592093046303, 45.53418946290962, 45.69245799535621, 45.8507265278028, 46.00899506024938, 46.167263592695974, 46.32553212514256, 46.48380065758915, 46.642069190035734, 46.800337722482325, 46.95860625492891, 47.1168747873755, 47.275143319822085, 47.43341185226868, 47.59168038471526, 47.74994891716185, 47.90821744960844, 48.06648598205503, 48.22475451450161, 48.3830230469482, 48.541291579394795, 48.69956011184138, 48.85782864428796, 49.016097176734554, 49.174365709181146, 49.33263424162773, 49.49090277407432, 49.649171306520905, 49.8074398389675, 49.96570837141408, 50.12397690386067, 50.28224543630726, 50.44051396875385, 50.59878250120043, 50.75705103364702, 50.91531956609361, 51.0735880985402, 51.23185663098678, 51.390125163433375, 51.548393695879966, 51.70666222832655, 51.864930760773134, 52.023199293219726, 52.18146782566631, 52.3397363581129, 52.49800489055949, 52.65627342300608, 52.81454195545267, 52.97281048789925], [37.2010649296954, 37.35933346214199, 37.517601994588574, 37.67587052703516, 37.83413905948175, 37.99240759192834, 38.150676124374925, 38.30894465682151, 38.4672131892681, 38.62548172171469, 38.783750254161276, 38.94201878660787, 39.10028731905445, 39.25855585150104, 39.41682438394763, 39.57509291639422, 39.7333614488408, 39.891629981287394, 40.04989851373398, 40.20816704618057, 40.366435578627154, 40.524704111073746, 40.68297264352033, 40.84124117596692, 40.999509708413505, 41.1577782408601, 41.31604677330668, 41.47431530575327, 41.632583838199864, 41.79085237064645, 41.94912090309303, 42.10738943553962, 42.26565796798621, 42.4239265004328, 42.58219503287938, 42.740463565325975, 42.89873209777256, 43.05700063021915, 43.215269162665734, 43.373537695112326, 43.53180622755892, 43.6900747600055, 43.848343292452086, 44.00661182489868, 44.16488035734527, 44.32314888979185, 44.48141742223844, 44.63968595468503, 44.79795448713162, 44.9562230195782, 45.114491552024795, 45.27276008447138, 45.43102861691797, 45.589297149364555, 45.747565681811146, 45.90583421425773, 46.06410274670432, 46.222371279150906, 46.3806398115975, 46.53890834404408, 46.69717687649067, 46.85544540893726, 47.01371394138385, 47.17198247383043, 47.330251006277024, 47.48851953872361, 47.6467880711702, 47.80505660361679, 47.963325136063375, 48.12159366850996, 48.27986220095655, 48.43813073340314, 48.596399265849726, 48.75466779829631, 48.9129363307429, 49.07120486318949, 49.22947339563608, 49.38774192808267, 49.54601046052925, 49.704278992975844, 49.86254752542243, 50.02081605786902, 50.179084590315604, 50.337353122762195, 50.49562165520878, 50.65389018765537, 50.812158720101955, 50.97042725254855, 51.12869578499513, 51.28696431744172, 51.44523284988831, 51.6035013823349, 51.76176991478148, 51.92003844722807, 52.07830697967466, 52.23657551212125, 52.39484404456784, 52.553112577014424, 52.711381109461016, 52.8696496419076], [37.097904083703746, 37.25617261615034, 37.41444114859692, 37.572709681043506, 37.7309782134901, 37.88924674593669, 38.04751527838327, 38.20578381082986, 38.36405234327645, 38.52232087572304, 38.680589408169624, 38.83885794061621, 38.9971264730628, 39.15539500550939, 39.313663537955975, 39.471932070402566, 39.63020060284915, 39.78846913529574, 39.946737667742326, 40.10500620018892, 40.2632747326355, 40.42154326508209, 40.57981179752868, 40.73808032997527, 40.89634886242185, 41.054617394868444, 41.21288592731503, 41.37115445976162, 41.52942299220821, 41.687691524654795, 41.84596005710138, 42.00422858954797, 42.162497121994555, 42.320765654441146, 42.47903418688773, 42.63730271933432, 42.795571251780906, 42.9538397842275, 43.11210831667408, 43.27037684912067, 43.428645381567264, 43.58691391401385, 43.74518244646043, 43.903450978907024, 44.061719511353616, 44.2199880438002, 44.378256576246784, 44.536525108693375, 44.69479364113997, 44.85306217358655, 45.01133070603314, 45.16959923847973, 45.32786777092632, 45.4861363033729, 45.64440483581949, 45.80267336826608, 45.96094190071267, 46.11921043315925, 46.277478965605845, 46.43574749805243, 46.59401603049902, 46.752284562945604, 46.910553095392196, 47.06882162783878, 47.22709016028537, 47.385358692731955, 47.54362722517855, 47.70189575762514, 47.86016429007172, 48.01843282251831, 48.1767013549649, 48.33496988741149, 48.49323841985807, 48.65150695230466, 48.80977548475125, 48.96804401719784, 49.126312549644425, 49.284581082091016, 49.4428496145376, 49.60111814698419, 49.759386679430776, 49.91765521187737, 50.07592374432395, 50.23419227677054, 50.39246080921713, 50.55072934166372, 50.7089978741103, 50.867266406556894, 51.02553493900348, 51.18380347145007, 51.34207200389666, 51.500340536343245, 51.65860906878983, 51.81687760123642, 51.975146133683005, 52.133414666129596, 52.29168319857619, 52.44995173102277, 52.60822026346936, 52.76648879591595], [36.99474323771209, 37.15301177015868, 37.31128030260527, 37.46954883505185, 37.627817367498444, 37.78608589994503, 37.94435443239162, 38.102622964838204, 38.260891497284796, 38.41916002973138, 38.57742856217797, 38.735697094624555, 38.89396562707115, 39.05223415951773, 39.21050269196432, 39.36877122441091, 39.5270397568575, 39.68530828930409, 39.84357682175067, 40.00184535419726, 40.16011388664385, 40.31838241909044, 40.476650951537025, 40.63491948398361, 40.7931880164302, 40.95145654887679, 41.109725081323376, 41.26799361376997, 41.42626214621655, 41.58453067866314, 41.74279921110973, 41.90106774355631, 42.0593362760029, 42.217604808449494, 42.37587334089608, 42.53414187334267, 42.69241040578925, 42.850678938235845, 43.00894747068243, 43.16721600312902, 43.325484535575605, 43.483753068022196, 43.64202160046878, 43.80029013291537, 43.958558665361956, 44.11682719780855, 44.27509573025513, 44.43336426270172, 44.59163279514831, 44.7499013275949, 44.90816986004148, 45.066438392488074, 45.22470692493466, 45.38297545738125, 45.541243989827834, 45.699512522274425, 45.857781054721016, 46.0160495871676, 46.174318119614185, 46.332586652060776, 46.49085518450737, 46.64912371695395, 46.807392249400536, 46.96566078184713, 47.12392931429372, 47.2821978467403, 47.440466379186894, 47.59873491163348, 47.75700344408007, 47.915271976526654, 48.073540508973245, 48.23180904141983, 48.39007757386642, 48.548346106313005, 48.706614638759596, 48.86488317120618, 49.02315170365277, 49.181420236099356, 49.33968876854595, 49.49795730099254, 49.65622583343912, 49.81449436588571, 49.9727628983323, 50.13103143077889, 50.289299963225474, 50.44756849567206, 50.60583702811865, 50.76410556056524, 50.922374093011825, 51.08064262545842, 51.238911157905, 51.39717969035159, 51.55544822279818, 51.71371675524476, 51.87198528769135, 52.03025382013794, 52.18852235258453, 52.34679088503112, 52.50505941747771, 52.663327949924295], [36.89158239172043, 37.049850924167025, 37.208119456613616, 37.3663879890602, 37.524656521506785, 37.682925053953376, 37.84119358639997, 37.99946211884655, 38.157730651293136, 38.31599918373973, 38.47426771618632, 38.6325362486329, 38.79080478107949, 38.94907331352608, 39.10734184597267, 39.265610378419254, 39.423878910865845, 39.58214744331243, 39.74041597575902, 39.898684508205605, 40.056953040652196, 40.21522157309878, 40.37349010554537, 40.531758637991956, 40.69002717043855, 40.84829570288513, 41.00656423533172, 41.16483276777831, 41.3231013002249, 41.48136983267148, 41.639638365118074, 41.79790689756466, 41.95617543001125, 42.11444396245784, 42.272712494904425, 42.43098102735101, 42.5892495597976, 42.74751809224419, 42.905786624690776, 43.06405515713737, 43.22232368958395, 43.38059222203054, 43.53886075447713, 43.69712928692372, 43.8553978193703, 44.013666351816894, 44.17193488426348, 44.33020341671007, 44.488471949156654, 44.646740481603246, 44.80500901404983, 44.96327754649642, 45.121546078943005, 45.2798146113896, 45.43808314383618, 45.59635167628277, 45.75462020872936, 45.91288874117595, 46.07115727362253, 46.22942580606912, 46.387694338515715, 46.5459628709623, 46.70423140340888, 46.862499935855475, 47.020768468302066, 47.17903700074865, 47.337305533195234, 47.495574065641826, 47.65384259808842, 47.812111130535, 47.970379662981586, 48.12864819542818, 48.28691672787477, 48.44518526032135, 48.60345379276794, 48.76172232521453, 48.91999085766112, 49.0782593901077, 49.23652792255429, 49.39479645500088, 49.55306498744747, 49.711333519894055, 49.869602052340646, 50.02787058478723, 50.18613911723382, 50.344407649680406, 50.502676182127, 50.66094471457358, 50.81921324702017, 50.97748177946676, 51.13575031191335, 51.29401884435993, 51.452287376806524, 51.61055590925311, 51.7688244416997, 51.92709297414629, 52.085361506592875, 52.243630039039466, 52.40189857148605, 52.56016710393264], [36.78842154572878, 36.94669007817537, 37.10495861062196, 37.26322714306855, 37.42149567551513, 37.57976420796172, 37.738032740408315, 37.8963012728549, 38.05456980530148, 38.212838337748074, 38.371106870194666, 38.52937540264125, 38.687643935087834, 38.845912467534426, 39.00418099998102, 39.1624495324276, 39.32071806487419, 39.47898659732078, 39.63725512976737, 39.79552366221395, 39.953792194660544, 40.11206072710713, 40.27032925955372, 40.4285977920003, 40.586866324446895, 40.74513485689348, 40.90340338934007, 41.061671921786655, 41.219940454233246, 41.37820898667983, 41.53647751912642, 41.694746051573006, 41.8530145840196, 42.01128311646619, 42.16955164891277, 42.32782018135936, 42.48608871380595, 42.64435724625254, 42.802625778699124, 42.960894311145715, 43.1191628435923, 43.27743137603889, 43.435699908485475, 43.593968440932066, 43.75223697337865, 43.91050550582524, 44.068774038271826, 44.22704257071842, 44.385311103165, 44.54357963561159, 44.70184816805818, 44.86011670050477, 45.01838523295135, 45.176653765397944, 45.33492229784453, 45.49319083029112, 45.651459362737704, 45.809727895184295, 45.96799642763088, 46.12626496007747, 46.28453349252406, 46.442802024970646, 46.60107055741723, 46.75933908986382, 46.91760762231041, 47.075876154757, 47.23414468720358, 47.39241321965017, 47.550681752096764, 47.70895028454335, 47.86721881698993, 48.025487349436524, 48.183755881883116, 48.3420244143297, 48.500292946776284, 48.658561479222875, 48.81683001166947, 48.97509854411605, 49.133367076562635, 49.29163560900923, 49.44990414145582, 49.6081726739024, 49.76644120634899, 49.92470973879558, 50.08297827124217, 50.24124680368875, 50.399515336135345, 50.55778386858193, 50.71605240102852, 50.874320933475104, 51.032589465921696, 51.19085799836828, 51.34912653081487, 51.507395063261455, 51.66566359570805, 51.82393212815464, 51.98220066060122, 52.140469193047814, 52.2987377254944, 52.45700625794099], [36.68526069973713, 36.84352923218372, 37.001797764630304, 37.160066297076895, 37.31833482952348, 37.47660336197007, 37.634871894416655, 37.793140426863246, 37.95140895930983, 38.10967749175642, 38.267946024203006, 38.4262145566496, 38.58448308909618, 38.74275162154277, 38.90102015398936, 39.05928868643595, 39.21755721888253, 39.375825751329124, 39.534094283775715, 39.6923628162223, 39.850631348668884, 40.008899881115475, 40.16716841356207, 40.32543694600865, 40.483705478455235, 40.641974010901826, 40.80024254334842, 40.958511075795, 41.11677960824159, 41.27504814068818, 41.43331667313477, 41.59158520558135, 41.749853738027944, 41.90812227047453, 42.06639080292112, 42.224659335367704, 42.382927867814296, 42.54119640026088, 42.69946493270747, 42.857733465154055, 43.01600199760065, 43.17427053004723, 43.33253906249382, 43.49080759494041, 43.649076127387, 43.80734465983359, 43.96561319228017, 44.12388172472676, 44.28215025717335, 44.44041878961994, 44.598687322066525, 44.75695585451311, 44.9152243869597, 45.07349291940629, 45.231761451852876, 45.39002998429947, 45.54829851674605, 45.70656704919264, 45.86483558163923, 46.02310411408581, 46.1813726465324, 46.339641178978994, 46.49790971142558, 46.65617824387216, 46.81444677631875, 46.972715308765345, 47.13098384121193, 47.28925237365852, 47.447520906105105, 47.605789438551696, 47.76405797099828, 47.92232650344487, 48.080595035891456, 48.23886356833805, 48.39713210078463, 48.55540063323122, 48.713669165677814, 48.8719376981244, 49.03020623057098, 49.188474763017574, 49.346743295464165, 49.50501182791075, 49.663280360357334, 49.821548892803925, 49.979817425250516, 50.1380859576971, 50.296354490143685, 50.454623022590276, 50.61289155503687, 50.77116008748345, 50.92942861993004, 51.08769715237663, 51.24596568482322, 51.4042342172698, 51.56250274971639, 51.72077128216298, 51.87903981460957, 52.037308347056154, 52.195576879502745, 52.35384541194934], [36.582099853745476, 36.74036838619207, 36.89863691863865, 37.05690545108524, 37.21517398353183, 37.37344251597842, 37.531711048425, 37.689979580871594, 37.84824811331818, 38.00651664576477, 38.16478517821135, 38.323053710657945, 38.48132224310453, 38.63959077555112, 38.79785930799771, 38.956127840444296, 39.11439637289088, 39.27266490533747, 39.43093343778406, 39.58920197023065, 39.74747050267723, 39.90573903512382, 40.064007567570414, 40.222276100017, 40.38054463246358, 40.538813164910174, 40.697081697356765, 40.85535022980335, 41.01361876224994, 41.171887294696525, 41.330155827143116, 41.4884243595897, 41.64669289203629, 41.804961424482876, 41.96322995692947, 42.12149848937605, 42.27976702182264, 42.43803555426923, 42.59630408671582, 42.7545726191624, 42.912841151608994, 43.07110968405558, 43.22937821650217, 43.387646748948754, 43.545915281395345, 43.70418381384194, 43.86245234628852, 44.020720878735105, 44.178989411181696, 44.33725794362829, 44.49552647607487, 44.653795008521456, 44.81206354096805, 44.97033207341464, 45.12860060586122, 45.286869138307814, 45.4451376707544, 45.60340620320099, 45.761674735647574, 45.91994326809416, 46.07821180054075, 46.23648033298734, 46.394748865433925, 46.55301739788051, 46.7112859303271, 46.86955446277369, 47.027822995220276, 47.18609152766687, 47.34436006011345, 47.50262859256004, 47.66089712500663, 47.81916565745322, 47.9774341898998, 48.135702722346394, 48.29397125479298, 48.45223978723957, 48.61050831968616, 48.768776852132746, 48.92704538457933, 49.08531391702592, 49.24358244947251, 49.4018509819191, 49.56011951436568, 49.71838804681227, 49.876656579258864, 50.03492511170545, 50.19319364415203, 50.35146217659862, 50.509730709045215, 50.6679992414918, 50.82626777393839, 50.984536306384975, 51.142804838831566, 51.30107337127815, 51.459341903724734, 51.617610436171326, 51.77587896861792, 51.9341475010645, 52.09241603351109, 52.250684565957684], [36.47893900775382, 36.63720754020041, 36.795476072647, 36.95374460509359, 37.112013137540174, 37.27028166998676, 37.42855020243335, 37.58681873487994, 37.745087267326525, 37.90335579977311, 38.0616243322197, 38.21989286466629, 38.378161397112876, 38.53642992955946, 38.69469846200605, 38.85296699445264, 39.01123552689923, 39.16950405934582, 39.3277725917924, 39.486041124238994, 39.64430965668558, 39.80257818913217, 39.960846721578754, 40.119115254025346, 40.27738378647193, 40.43565231891852, 40.593920851365105, 40.7521893838117, 40.91045791625828, 41.06872644870487, 41.22699498115146, 41.38526351359805, 41.54353204604463, 41.70180057849122, 41.860069110937815, 42.0183376433844, 42.17660617583098, 42.334874708277574, 42.493143240724166, 42.65141177317075, 42.80968030561734, 42.967948838063926, 43.12621737051052, 43.2844859029571, 43.44275443540369, 43.60102296785028, 43.75929150029687, 43.91756003274345, 44.075828565190044, 44.23409709763663, 44.39236563008322, 44.5506341625298, 44.708902694976395, 44.86717122742298, 45.02543975986957, 45.183708292316155, 45.341976824762746, 45.50024535720933, 45.65851388965592, 45.816782422102506, 45.9750509545491, 46.13331948699569, 46.29158801944227, 46.44985655188886, 46.60812508433545, 46.76639361678204, 46.924662149228624, 47.08293068167521, 47.2411992141218, 47.39946774656839, 47.557736279014975, 47.71600481146156, 47.87427334390815, 48.03254187635474, 48.190810408801326, 48.34907894124791, 48.5073474736945, 48.66561600614109, 48.82388453858768, 48.98215307103427, 49.14042160348085, 49.298690135927444, 49.45695866837403, 49.61522720082062, 49.773495733267204, 49.931764265713795, 50.09003279816038, 50.24830133060697, 50.40656986305356, 50.564838395500146, 50.72310692794673, 50.88137546039332, 51.039643992839906, 51.1979125252865, 51.35618105773308, 51.51444959017967, 51.672718122626264, 51.83098665507285, 51.98925518751944, 52.147523719966024], [36.37577816176217, 36.534046694208755, 36.692315226655346, 36.85058375910194, 37.00885229154852, 37.167120823995106, 37.3253893564417, 37.48365788888829, 37.64192642133487, 37.80019495378146, 37.95846348622805, 38.11673201867464, 38.275000551121224, 38.43326908356781, 38.5915376160144, 38.74980614846099, 38.908074680907575, 39.066343213354166, 39.22461174580075, 39.38288027824734, 39.541148810693926, 39.69941734314052, 39.8576858755871, 40.01595440803369, 40.17422294048028, 40.33249147292687, 40.49076000537345, 40.649028537820044, 40.80729707026663, 40.96556560271322, 41.12383413515981, 41.282102667606395, 41.44037120005298, 41.59863973249957, 41.75690826494616, 41.915176797392746, 42.07344532983933, 42.23171386228592, 42.38998239473251, 42.5482509271791, 42.70651945962569, 42.86478799207227, 43.023056524518864, 43.18132505696545, 43.33959358941204, 43.497862121858624, 43.656130654305215, 43.8143991867518, 43.97266771919839, 44.130936251644975, 44.28920478409157, 44.44747331653815, 44.60574184898474, 44.764010381431326, 44.92227891387792, 45.0805474463245, 45.23881597877109, 45.39708451121768, 45.55535304366427, 45.71362157611085, 45.871890108557444, 46.030158641004036, 46.18842717345062, 46.346695705897204, 46.504964238343796, 46.66323277079039, 46.82150130323697, 46.979769835683555, 47.13803836813015, 47.29630690057674, 47.45457543302332, 47.61284396546991, 47.7711124979165, 47.92938103036309, 48.08764956280967, 48.24591809525626, 48.40418662770285, 48.56245516014944, 48.720723692596025, 48.878992225042616, 49.0372607574892, 49.19552928993579, 49.353797822382376, 49.51206635482897, 49.67033488727555, 49.82860341972214, 49.98687195216873, 50.14514048461532, 50.30340901706191, 50.461677549508494, 50.61994608195508, 50.77821461440167, 50.93648314684825, 51.094751679294845, 51.25302021174143, 51.41128874418802, 51.56955727663461, 51.727825809081196, 51.88609434152779, 52.04436287397437], [36.27261731577052, 36.4308858482171, 36.58915438066369, 36.747422913110285, 36.90569144555687, 37.06395997800345, 37.222228510450044, 37.380497042896636, 37.53876557534322, 37.697034107789804, 37.855302640236395, 38.01357117268299, 38.17183970512957, 38.330108237576155, 38.48837677002275, 38.64664530246934, 38.80491383491592, 38.96318236736251, 39.1214508998091, 39.27971943225569, 39.43798796470227, 39.596256497148865, 39.75452502959545, 39.91279356204204, 40.071062094488624, 40.229330626935216, 40.3875991593818, 40.54586769182839, 40.704136224274976, 40.86240475672157, 41.02067328916816, 41.17894182161474, 41.33721035406133, 41.49547888650792, 41.65374741895451, 41.812015951401094, 41.97028448384768, 42.12855301629427, 42.28682154874086, 42.445090081187445, 42.603358613634036, 42.76162714608062, 42.91989567852721, 43.078164210973796, 43.23643274342039, 43.39470127586697, 43.55296980831356, 43.71123834076015, 43.86950687320674, 44.02777540565332, 44.186043938099914, 44.3443124705465, 44.50258100299309, 44.660849535439674, 44.819118067886265, 44.97738660033285, 45.13565513277944, 45.293923665226025, 45.452192197672616, 45.6104607301192, 45.76872926256579, 45.92699779501238, 46.08526632745897, 46.24353485990555, 46.40180339235214, 46.560071924798734, 46.71834045724532, 46.8766089896919, 47.034877522138494, 47.193146054585085, 47.35141458703167, 47.509683119478254, 47.667951651924845, 47.82622018437144, 47.98448871681802, 48.142757249264605, 48.301025781711196, 48.45929431415779, 48.61756284660437, 48.77583137905096, 48.93409991149755, 49.09236844394414, 49.25063697639072, 49.408905508837314, 49.5671740412839, 49.72544257373049, 49.883711106177074, 50.041979638623665, 50.20024817107026, 50.35851670351684, 50.516785235963425, 50.67505376841002, 50.8333223008566, 50.99159083330319, 51.149859365749776, 51.30812789819637, 51.46639643064296, 51.62466496308954, 51.782933495536135, 51.94120202798272], [36.169456469778865, 36.32772500222545, 36.48599353467204, 36.644262067118625, 36.802530599565216, 36.9607991320118, 37.11906766445839, 37.277336196904976, 37.43560472935157, 37.59387326179815, 37.75214179424474, 37.91041032669133, 38.06867885913792, 38.2269473915845, 38.385215924031094, 38.543484456477685, 38.70175298892427, 38.860021521370854, 39.018290053817445, 39.176558586264036, 39.33482711871062, 39.493095651157205, 39.651364183603796, 39.80963271605039, 39.96790124849697, 40.12616978094356, 40.28443831339015, 40.44270684583674, 40.60097537828332, 40.759243910729914, 40.9175124431765, 41.07578097562309, 41.234049508069674, 41.392318040516265, 41.55058657296285, 41.70885510540944, 41.867123637856025, 42.02539217030262, 42.1836607027492, 42.34192923519579, 42.500197767642376, 42.65846630008897, 42.81673483253555, 42.97500336498214, 43.13327189742873, 43.29154042987532, 43.4498089623219, 43.608077494768494, 43.76634602721508, 43.92461455966167, 44.08288309210826, 44.241151624554846, 44.39942015700143, 44.55768868944802, 44.71595722189461, 44.8742257543412, 45.03249428678779, 45.19076281923437, 45.349031351680964, 45.50729988412755, 45.66556841657414, 45.82383694902072, 45.982105481467315, 46.1403740139139, 46.29864254636049, 46.456911078807074, 46.615179611253666, 46.77344814370025, 46.93171667614684, 47.089985208593426, 47.24825374104002, 47.4065222734866, 47.56479080593319, 47.72305933837978, 47.88132787082637, 48.03959640327295, 48.197864935719544, 48.356133468166135, 48.51440200061272, 48.6726705330593, 48.830939065505895, 48.989207597952486, 49.14747613039907, 49.305744662845655, 49.464013195292246, 49.62228172773884, 49.78055026018542, 49.938818792632006, 50.0970873250786, 50.25535585752519, 50.41362438997177, 50.57189292241836, 50.73016145486495, 50.88842998731154, 51.046698519758124, 51.204967052204715, 51.36323558465131, 51.52150411709789, 51.679772649544475, 51.838041181991066], [36.06629562378721, 36.2245641562338, 36.38283268868039, 36.54110122112697, 36.69936975357356, 36.85763828602015, 37.01590681846674, 37.17417535091332, 37.332443883359915, 37.4907124158065, 37.64898094825309, 37.807249480699674, 37.965518013146266, 38.12378654559285, 38.28205507803944, 38.44032361048603, 38.59859214293262, 38.7568606753792, 38.91512920782579, 39.073397740272384, 39.23166627271897, 39.38993480516555, 39.548203337612144, 39.706471870058735, 39.86474040250532, 40.02300893495191, 40.181277467398495, 40.339545999845086, 40.49781453229167, 40.65608306473826, 40.814351597184846, 40.97262012963144, 41.13088866207802, 41.28915719452461, 41.4474257269712, 41.60569425941779, 41.76396279186437, 41.922231324310964, 42.08049985675755, 42.23876838920414, 42.397036921650724, 42.555305454097315, 42.7135739865439, 42.87184251899049, 43.030111051437075, 43.188379583883666, 43.34664811633025, 43.50491664877684, 43.663185181223426, 43.82145371367002, 43.97972224611661, 44.13799077856319, 44.29625931100978, 44.45452784345637, 44.61279637590296, 44.771064908349544, 44.929333440796135, 45.08760197324272, 45.24587050568931, 45.404139038135895, 45.56240757058249, 45.72067610302907, 45.87894463547566, 46.037213167922246, 46.19548170036884, 46.35375023281542, 46.51201876526201, 46.6702872977086, 46.82855583015519, 46.98682436260177, 47.145092895048364, 47.30336142749495, 47.46162995994154, 47.619898492388124, 47.778167024834715, 47.9364355572813, 48.09470408972789, 48.25297262217448, 48.41124115462107, 48.56950968706765, 48.72777821951424, 48.88604675196083, 49.04431528440742, 49.202583816854, 49.36085234930059, 49.519120881747185, 49.67738941419377, 49.83565794664035, 49.993926479086944, 50.152195011533536, 50.31046354398012, 50.468732076426704, 50.627000608873296, 50.78526914131989, 50.94353767376647, 51.10180620621306, 51.260074738659654, 51.41834327110624, 51.57661180355282, 51.734880335999414], [35.96313477779556, 36.121403310242144, 36.279671842688735, 36.43794037513532, 36.59620890758191, 36.754477440028495, 36.912745972475086, 37.07101450492167, 37.22928303736826, 37.387551569814846, 37.54582010226144, 37.70408863470802, 37.86235716715461, 38.0206256996012, 38.17889423204779, 38.33716276449438, 38.495431296940964, 38.65369982938755, 38.81196836183414, 38.97023689428073, 39.128505426727315, 39.2867739591739, 39.44504249162049, 39.60331102406708, 39.76157955651367, 39.91984808896026, 40.07811662140684, 40.23638515385343, 40.39465368630002, 40.55292221874661, 40.71119075119319, 40.869459283639785, 41.02772781608637, 41.18599634853296, 41.344264880979544, 41.502533413426136, 41.66080194587272, 41.81907047831931, 41.977339010765895, 42.13560754321249, 42.29387607565907, 42.45214460810566, 42.61041314055225, 42.76868167299884, 42.92695020544542, 43.08521873789201, 43.2434872703386, 43.40175580278519, 43.56002433523177, 43.718292867678365, 43.876561400124956, 44.03482993257154, 44.193098465018124, 44.351366997464716, 44.50963552991131, 44.66790406235789, 44.82617259480448, 44.98444112725107, 45.14270965969766, 45.30097819214424, 45.459246724590834, 45.61751525703742, 45.77578378948401, 45.934052321930594, 46.092320854377185, 46.25058938682377, 46.40885791927036, 46.567126451716945, 46.725394984163536, 46.88366351661012, 47.04193204905671, 47.200200581503296, 47.35846911394989, 47.51673764639647, 47.67500617884306, 47.83327471128965, 47.99154324373624, 48.14981177618283, 48.308080308629414, 48.466348841076, 48.62461737352259, 48.78288590596918, 48.941154438415765, 49.09942297086235, 49.25769150330894, 49.41596003575553, 49.574228568202116, 49.7324971006487, 49.89076563309529, 50.04903416554188, 50.20730269798847, 50.36557123043505, 50.52383976288164, 50.682108295328234, 50.84037682777482, 50.99864536022141, 51.156913892668, 51.315182425114585, 51.47345095756117, 51.63171949000776], [35.85997393180391, 36.01824246425049, 36.176510996697075, 36.33477952914367, 36.49304806159026, 36.65131659403684, 36.80958512648343, 36.96785365893002, 37.12612219137661, 37.28439072382319, 37.44265925626978, 37.60092778871637, 37.75919632116296, 37.917464853609545, 38.075733386056136, 38.23400191850272, 38.39227045094931, 38.550538983395896, 38.70880751584249, 38.86707604828907, 39.02534458073566, 39.18361311318225, 39.34188164562884, 39.50015017807542, 39.658418710522014, 39.8166872429686, 39.97495577541519, 40.133224307861774, 40.291492840308365, 40.44976137275495, 40.60802990520154, 40.766298437648125, 40.924566970094716, 41.0828355025413, 41.24110403498789, 41.39937256743448, 41.55764109988107, 41.71590963232765, 41.87417816477424, 42.032446697220834, 42.19071522966742, 42.34898376211401, 42.507252294560594, 42.665520827007185, 42.82378935945377, 42.98205789190036, 43.140326424346945, 43.298594956793536, 43.45686348924012, 43.61513202168671, 43.773400554133296, 43.93166908657989, 44.08993761902647, 44.24820615147306, 44.40647468391965, 44.56474321636624, 44.72301174881282, 44.881280281259414, 45.039548813706, 45.19781734615259, 45.356085878599174, 45.514354411045765, 45.67262294349235, 45.83089147593894, 45.989160008385525, 46.14742854083212, 46.30569707327871, 46.46396560572529, 46.622234138171876, 46.78050267061847, 46.93877120306506, 47.09703973551164, 47.25530826795823, 47.41357680040482, 47.57184533285141, 47.730113865297994, 47.888382397744586, 48.04665093019117, 48.20491946263776, 48.363187995084346, 48.52145652753094, 48.67972505997752, 48.83799359242411, 48.9962621248707, 49.15453065731729, 49.31279918976387, 49.471067722210464, 49.62933625465705, 49.78760478710364, 49.94587331955023, 50.104141851996815, 50.2624103844434, 50.42067891688999, 50.578947449336574, 50.737215981783166, 50.89548451422975, 51.05375304667634, 51.21202157912293, 51.37029011156952, 51.52855864401611], [35.756813085812254, 35.91508161825884, 36.07335015070542, 36.231618683152014, 36.389887215598606, 36.54815574804519, 36.706424280491774, 36.864692812938365, 37.02296134538496, 37.18122987783154, 37.339498410278125, 37.497766942724716, 37.65603547517131, 37.81430400761789, 37.97257254006448, 38.13084107251107, 38.28910960495766, 38.44737813740424, 38.605646669850834, 38.76391520229742, 38.92218373474401, 39.080452267190594, 39.238720799637186, 39.39698933208377, 39.55525786453036, 39.713526396976945, 39.87179492942354, 40.03006346187012, 40.18833199431671, 40.3466005267633, 40.50486905920989, 40.66313759165647, 40.82140612410306, 40.97967465654965, 41.13794318899624, 41.29621172144283, 41.454480253889415, 41.612748786336, 41.77101731878259, 41.92928585122918, 42.087554383675766, 42.24582291612236, 42.40409144856894, 42.56235998101553, 42.72062851346212, 42.87889704590871, 43.03716557835529, 43.195434110801884, 43.35370264324847, 43.51197117569506, 43.670239708141644, 43.828508240588235, 43.98677677303482, 44.14504530548141, 44.303313837927995, 44.461582370374586, 44.61985090282117, 44.77811943526776, 44.936387967714346, 45.09465650016094, 45.25292503260752, 45.41119356505411, 45.5694620975007, 45.72773062994729, 45.88599916239387, 46.044267694840464, 46.202536227287055, 46.36080475973364, 46.519073292180224, 46.677341824626815, 46.835610357073406, 46.99387888951999, 47.152147421966575, 47.310415954413166, 47.46868448685976, 47.62695301930634, 47.78522155175293, 47.94349008419952, 48.10175861664611, 48.26002714909269, 48.418295681539284, 48.57656421398587, 48.73483274643246, 48.893101278879044, 49.051369811325635, 49.20963834377222, 49.36790687621881, 49.526175408665395, 49.68444394111199, 49.84271247355858, 50.00098100600516, 50.159249538451746, 50.31751807089834, 50.47578660334492, 50.63405513579151, 50.7923236682381, 50.95059220068469, 51.10886073313128, 51.267129265577864, 51.425397798024456], [35.653652239820595, 35.811920772267186, 35.97018930471377, 36.12845783716036, 36.286726369606946, 36.44499490205354, 36.60326343450012, 36.76153196694671, 36.9198004993933, 37.07806903183989, 37.23633756428647, 37.394606096733064, 37.55287462917965, 37.71114316162624, 37.869411694072824, 38.027680226519415, 38.185948758966006, 38.34421729141259, 38.502485823859175, 38.660754356305766, 38.81902288875236, 38.97729142119894, 39.135559953645526, 39.29382848609212, 39.45209701853871, 39.61036555098529, 39.76863408343188, 39.92690261587847, 40.08517114832506, 40.243439680771644, 40.401708213218235, 40.55997674566482, 40.71824527811141, 40.876513810557995, 41.034782343004586, 41.19305087545117, 41.35131940789776, 41.509587940344346, 41.66785647279094, 41.82612500523752, 41.98439353768411, 42.1426620701307, 42.30093060257729, 42.45919913502387, 42.617467667470464, 42.77573619991705, 42.93400473236364, 43.092273264810224, 43.250541797256815, 43.4088103297034, 43.56707886214999, 43.725347394596575, 43.88361592704317, 44.04188445948975, 44.20015299193634, 44.35842152438293, 44.51669005682952, 44.6749585892761, 44.83322712172269, 44.991495654169285, 45.14976418661587, 45.30803271906246, 45.466301251509044, 45.624569783955636, 45.78283831640222, 45.94110684884881, 46.099375381295395, 46.25764391374199, 46.41591244618857, 46.57418097863516, 46.73244951108175, 46.89071804352834, 47.04898657597492, 47.20725510842151, 47.3655236408681, 47.52379217331469, 47.68206070576127, 47.840329238207865, 47.99859777065445, 48.15686630310104, 48.315134835547624, 48.473403367994216, 48.63167190044081, 48.78994043288739, 48.948208965333976, 49.10647749778057, 49.26474603022716, 49.42301456267374, 49.581283095120334, 49.73955162756692, 49.89782016001351, 50.056088692460094, 50.21435722490668, 50.37262575735327, 50.53089428979986, 50.689162822246445, 50.847431354693036, 51.00569988713963, 51.16396841958621, 51.322236952032796], [35.55049139382894, 35.70875992627553, 35.86702845872212, 36.0252969911687, 36.18356552361529, 36.341834056061884, 36.50010258850847, 36.65837112095505, 36.816639653401644, 36.974908185848236, 37.13317671829482, 37.291445250741404, 37.449713783187995, 37.60798231563459, 37.76625084808117, 37.92451938052776, 38.08278791297435, 38.24105644542094, 38.39932497786752, 38.55759351031411, 38.7158620427607, 38.87413057520729, 39.03239910765387, 39.190667640100465, 39.34893617254705, 39.50720470499364, 39.665473237440224, 39.823741769886816, 39.98201030233341, 40.14027883477999, 40.298547367226575, 40.45681589967317, 40.61508443211975, 40.77335296456634, 40.93162149701293, 41.08989002945952, 41.2481585619061, 41.40642709435269, 41.56469562679928, 41.72296415924587, 41.88123269169246, 42.039501224139045, 42.19776975658563, 42.35603828903222, 42.51430682147881, 42.672575353925396, 42.83084388637198, 42.98911241881857, 43.14738095126516, 43.30564948371175, 43.46391801615834, 43.62218654860492, 43.780455081051514, 43.9387236134981, 44.09699214594469, 44.255260678391274, 44.413529210837865, 44.57179774328445, 44.73006627573104, 44.888334808177625, 45.046603340624216, 45.2048718730708, 45.36314040551739, 45.521408937963976, 45.67967747041057, 45.83794600285715, 45.99621453530374, 46.154483067750334, 46.31275160019692, 46.4710201326435, 46.629288665090094, 46.787557197536685, 46.94582572998327, 47.104094262429854, 47.262362794876445, 47.420631327323036, 47.57889985976962, 47.73716839221621, 47.895436924662796, 48.05370545710939, 48.21197398955597, 48.37024252200256, 48.52851105444915, 48.68677958689574, 48.84504811934232, 49.003316651788914, 49.1615851842355, 49.31985371668209, 49.478122249128674, 49.636390781575265, 49.79465931402186, 49.95292784646844, 50.111196378915025, 50.26946491136162, 50.4277334438082, 50.58600197625479, 50.74427050870138, 50.90253904114797, 51.06080757359456, 51.21907610604114], [35.44733054783729, 35.60559908028388, 35.763867612730465, 35.92213614517705, 36.08040467762364, 36.23867321007023, 36.396941742516816, 36.5552102749634, 36.71347880740999, 36.87174733985658, 37.03001587230317, 37.18828440474975, 37.34655293719634, 37.504821469642934, 37.66309000208952, 37.82135853453611, 37.979627066982694, 38.137895599429285, 38.29616413187587, 38.45443266432246, 38.612701196769045, 38.770969729215636, 38.92923826166222, 39.08750679410881, 39.245775326555396, 39.40404385900199, 39.56231239144857, 39.72058092389516, 39.878849456341754, 40.03711798878834, 40.19538652123492, 40.353655053681514, 40.5119235861281, 40.67019211857469, 40.828460651021274, 40.986729183467865, 41.14499771591445, 41.30326624836104, 41.461534780807625, 41.61980331325422, 41.77807184570081, 41.93634037814739, 42.094608910593976, 42.25287744304057, 42.41114597548716, 42.56941450793374, 42.72768304038033, 42.88595157282692, 43.04422010527351, 43.202488637720094, 43.360757170166686, 43.51902570261327, 43.67729423505986, 43.835562767506445, 43.99383129995304, 44.15209983239962, 44.31036836484621, 44.4686368972928, 44.62690542973939, 44.78517396218597, 44.94344249463256, 45.10171102707915, 45.25997955952574, 45.41824809197232, 45.576516624418915, 45.7347851568655, 45.89305368931209, 46.05132222175868, 46.209590754205266, 46.36785928665185, 46.52612781909844, 46.68439635154503, 46.84266488399162, 47.0009334164382, 47.15920194888479, 47.317470481331384, 47.47573901377797, 47.63400754622456, 47.792276078671144, 47.950544611117735, 48.10881314356432, 48.26708167601091, 48.425350208457495, 48.583618740904086, 48.74188727335067, 48.90015580579726, 49.058424338243846, 49.21669287069044, 49.37496140313702, 49.53322993558361, 49.691498468030204, 49.84976700047679, 50.00803553292337, 50.166304065369964, 50.32457259781655, 50.48284113026314, 50.64110966270973, 50.799378195156315, 50.957646727602906, 51.11591526004949], [35.34416970184564, 35.50243823429222, 35.66070676673881, 35.8189752991854, 35.97724383163199, 36.13551236407857, 36.29378089652516, 36.45204942897175, 36.61031796141834, 36.76858649386492, 36.926855026311515, 37.0851235587581, 37.24339209120469, 37.401660623651274, 37.559929156097866, 37.71819768854445, 37.87646622099104, 38.03473475343763, 38.19300328588422, 38.3512718183308, 38.50954035077739, 38.667808883223984, 38.82607741567057, 38.98434594811715, 39.14261448056374, 39.300883013010335, 39.45915154545692, 39.61742007790351, 39.775688610350095, 39.933957142796686, 40.09222567524327, 40.250494207689854, 40.408762740136446, 40.56703127258304, 40.72529980502962, 40.88356833747621, 41.0418368699228, 41.20010540236939, 41.35837393481597, 41.516642467262564, 41.67491099970915, 41.83317953215574, 41.991448064602324, 42.149716597048915, 42.3079851294955, 42.46625366194209, 42.624522194388675, 42.782790726835266, 42.94105925928185, 43.09932779172844, 43.257596324175026, 43.41586485662162, 43.5741333890682, 43.73240192151479, 43.89067045396138, 44.04893898640797, 44.20720751885456, 44.365476051301144, 44.52374458374773, 44.68201311619432, 44.84028164864091, 44.998550181087495, 45.15681871353408, 45.31508724598067, 45.47335577842726, 45.631624310873846, 45.78989284332044, 45.94816137576702, 46.10642990821361, 46.2646984406602, 46.42296697310679, 46.58123550555337, 46.739504037999964, 46.89777257044655, 47.05604110289314, 47.214309635339724, 47.372578167786315, 47.5308467002329, 47.68911523267949, 47.84738376512608, 48.00565229757267, 48.16392083001925, 48.32218936246584, 48.48045789491243, 48.63872642735902, 48.7969949598056, 48.95526349225219, 49.113532024698785, 49.27180055714537, 49.43006908959196, 49.588337622038544, 49.746606154485136, 49.90487468693172, 50.063143219378304, 50.221411751824895, 50.37968028427149, 50.53794881671807, 50.69621734916466, 50.854485881611254, 51.01275441405784]]}],\n",
              "                        {\"height\": 600, \"legend\": {\"tracegroupgap\": 0}, \"scene\": {\"domain\": {\"x\": [0.0, 0.98], \"y\": [0.0, 1.0]}, \"xaxis\": {\"title\": {\"text\": \"Average Recent Growth in Personal Incomes\"}}, \"yaxis\": {\"title\": {\"text\": \"US Military Fatalities per Million\"}}, \"zaxis\": {\"title\": {\"text\": \"Incumbent Party Vote Share\"}}}, \"template\": {\"data\": {\"bar\": [{\"error_x\": {\"color\": \"#2a3f5f\"}, \"error_y\": {\"color\": \"#2a3f5f\"}, \"marker\": {\"line\": {\"color\": \"#E5ECF6\", \"width\": 0.5}}, \"type\": \"bar\"}], \"barpolar\": [{\"marker\": {\"line\": {\"color\": \"#E5ECF6\", \"width\": 0.5}}, \"type\": \"barpolar\"}], \"carpet\": [{\"aaxis\": {\"endlinecolor\": \"#2a3f5f\", \"gridcolor\": \"white\", \"linecolor\": \"white\", \"minorgridcolor\": \"white\", \"startlinecolor\": \"#2a3f5f\"}, \"baxis\": {\"endlinecolor\": \"#2a3f5f\", \"gridcolor\": \"white\", \"linecolor\": \"white\", \"minorgridcolor\": \"white\", \"startlinecolor\": \"#2a3f5f\"}, \"type\": \"carpet\"}], \"choropleth\": [{\"colorbar\": {\"outlinewidth\": 0, \"ticks\": \"\"}, \"type\": \"choropleth\"}], \"contour\": [{\"colorbar\": {\"outlinewidth\": 0, \"ticks\": \"\"}, \"colorscale\": [[0.0, \"#0d0887\"], [0.1111111111111111, \"#46039f\"], [0.2222222222222222, \"#7201a8\"], [0.3333333333333333, \"#9c179e\"], [0.4444444444444444, \"#bd3786\"], [0.5555555555555556, \"#d8576b\"], [0.6666666666666666, \"#ed7953\"], [0.7777777777777778, \"#fb9f3a\"], [0.8888888888888888, \"#fdca26\"], [1.0, \"#f0f921\"]], \"type\": \"contour\"}], \"contourcarpet\": [{\"colorbar\": {\"outlinewidth\": 0, \"ticks\": \"\"}, \"type\": \"contourcarpet\"}], \"heatmap\": [{\"colorbar\": {\"outlinewidth\": 0, \"ticks\": \"\"}, \"colorscale\": [[0.0, \"#0d0887\"], [0.1111111111111111, \"#46039f\"], [0.2222222222222222, \"#7201a8\"], [0.3333333333333333, \"#9c179e\"], [0.4444444444444444, \"#bd3786\"], [0.5555555555555556, \"#d8576b\"], [0.6666666666666666, \"#ed7953\"], [0.7777777777777778, \"#fb9f3a\"], [0.8888888888888888, \"#fdca26\"], [1.0, \"#f0f921\"]], \"type\": \"heatmap\"}], \"heatmapgl\": [{\"colorbar\": {\"outlinewidth\": 0, \"ticks\": \"\"}, \"colorscale\": [[0.0, \"#0d0887\"], [0.1111111111111111, \"#46039f\"], [0.2222222222222222, \"#7201a8\"], [0.3333333333333333, \"#9c179e\"], [0.4444444444444444, \"#bd3786\"], [0.5555555555555556, \"#d8576b\"], [0.6666666666666666, \"#ed7953\"], [0.7777777777777778, \"#fb9f3a\"], [0.8888888888888888, \"#fdca26\"], [1.0, \"#f0f921\"]], \"type\": \"heatmapgl\"}], \"histogram\": [{\"marker\": {\"colorbar\": {\"outlinewidth\": 0, \"ticks\": \"\"}}, \"type\": \"histogram\"}], \"histogram2d\": [{\"colorbar\": {\"outlinewidth\": 0, \"ticks\": \"\"}, \"colorscale\": [[0.0, \"#0d0887\"], [0.1111111111111111, \"#46039f\"], [0.2222222222222222, \"#7201a8\"], [0.3333333333333333, \"#9c179e\"], [0.4444444444444444, \"#bd3786\"], [0.5555555555555556, \"#d8576b\"], [0.6666666666666666, \"#ed7953\"], [0.7777777777777778, \"#fb9f3a\"], [0.8888888888888888, \"#fdca26\"], [1.0, \"#f0f921\"]], \"type\": \"histogram2d\"}], \"histogram2dcontour\": [{\"colorbar\": {\"outlinewidth\": 0, \"ticks\": \"\"}, \"colorscale\": [[0.0, \"#0d0887\"], [0.1111111111111111, \"#46039f\"], [0.2222222222222222, \"#7201a8\"], [0.3333333333333333, \"#9c179e\"], [0.4444444444444444, \"#bd3786\"], [0.5555555555555556, \"#d8576b\"], [0.6666666666666666, \"#ed7953\"], [0.7777777777777778, \"#fb9f3a\"], [0.8888888888888888, \"#fdca26\"], [1.0, \"#f0f921\"]], \"type\": \"histogram2dcontour\"}], \"mesh3d\": [{\"colorbar\": {\"outlinewidth\": 0, \"ticks\": \"\"}, \"type\": \"mesh3d\"}], \"parcoords\": [{\"line\": {\"colorbar\": {\"outlinewidth\": 0, \"ticks\": \"\"}}, \"type\": \"parcoords\"}], \"scatter\": [{\"marker\": {\"colorbar\": {\"outlinewidth\": 0, \"ticks\": \"\"}}, \"type\": \"scatter\"}], \"scatter3d\": [{\"line\": {\"colorbar\": {\"outlinewidth\": 0, \"ticks\": \"\"}}, \"marker\": {\"colorbar\": {\"outlinewidth\": 0, \"ticks\": \"\"}}, \"type\": \"scatter3d\"}], \"scattercarpet\": [{\"marker\": {\"colorbar\": {\"outlinewidth\": 0, \"ticks\": \"\"}}, \"type\": \"scattercarpet\"}], \"scattergeo\": [{\"marker\": {\"colorbar\": {\"outlinewidth\": 0, \"ticks\": \"\"}}, \"type\": \"scattergeo\"}], \"scattergl\": [{\"marker\": {\"colorbar\": {\"outlinewidth\": 0, \"ticks\": \"\"}}, \"type\": \"scattergl\"}], \"scattermapbox\": [{\"marker\": {\"colorbar\": {\"outlinewidth\": 0, \"ticks\": \"\"}}, \"type\": \"scattermapbox\"}], \"scatterpolar\": [{\"marker\": {\"colorbar\": {\"outlinewidth\": 0, \"ticks\": \"\"}}, \"type\": \"scatterpolar\"}], \"scatterpolargl\": [{\"marker\": {\"colorbar\": {\"outlinewidth\": 0, \"ticks\": \"\"}}, \"type\": \"scatterpolargl\"}], \"scatterternary\": [{\"marker\": {\"colorbar\": {\"outlinewidth\": 0, \"ticks\": \"\"}}, \"type\": \"scatterternary\"}], \"surface\": [{\"colorbar\": {\"outlinewidth\": 0, \"ticks\": \"\"}, \"colorscale\": [[0.0, \"#0d0887\"], [0.1111111111111111, \"#46039f\"], [0.2222222222222222, \"#7201a8\"], [0.3333333333333333, \"#9c179e\"], [0.4444444444444444, \"#bd3786\"], [0.5555555555555556, \"#d8576b\"], [0.6666666666666666, \"#ed7953\"], [0.7777777777777778, \"#fb9f3a\"], [0.8888888888888888, \"#fdca26\"], [1.0, \"#f0f921\"]], \"type\": \"surface\"}], \"table\": [{\"cells\": {\"fill\": {\"color\": \"#EBF0F8\"}, \"line\": {\"color\": \"white\"}}, \"header\": {\"fill\": {\"color\": \"#C8D4E3\"}, \"line\": {\"color\": \"white\"}}, \"type\": \"table\"}]}, \"layout\": {\"annotationdefaults\": {\"arrowcolor\": \"#2a3f5f\", \"arrowhead\": 0, \"arrowwidth\": 1}, \"colorscale\": {\"diverging\": [[0, \"#8e0152\"], [0.1, \"#c51b7d\"], [0.2, \"#de77ae\"], [0.3, \"#f1b6da\"], [0.4, \"#fde0ef\"], [0.5, \"#f7f7f7\"], [0.6, \"#e6f5d0\"], [0.7, \"#b8e186\"], [0.8, \"#7fbc41\"], [0.9, \"#4d9221\"], [1, \"#276419\"]], \"sequential\": [[0.0, \"#0d0887\"], [0.1111111111111111, \"#46039f\"], [0.2222222222222222, \"#7201a8\"], [0.3333333333333333, \"#9c179e\"], [0.4444444444444444, \"#bd3786\"], [0.5555555555555556, \"#d8576b\"], [0.6666666666666666, \"#ed7953\"], [0.7777777777777778, \"#fb9f3a\"], [0.8888888888888888, \"#fdca26\"], [1.0, \"#f0f921\"]], \"sequentialminus\": [[0.0, \"#0d0887\"], [0.1111111111111111, \"#46039f\"], [0.2222222222222222, \"#7201a8\"], [0.3333333333333333, \"#9c179e\"], [0.4444444444444444, \"#bd3786\"], [0.5555555555555556, \"#d8576b\"], [0.6666666666666666, \"#ed7953\"], [0.7777777777777778, \"#fb9f3a\"], [0.8888888888888888, \"#fdca26\"], [1.0, \"#f0f921\"]]}, \"colorway\": [\"#636efa\", \"#EF553B\", \"#00cc96\", \"#ab63fa\", \"#FFA15A\", \"#19d3f3\", \"#FF6692\", \"#B6E880\", \"#FF97FF\", \"#FECB52\"], \"font\": {\"color\": \"#2a3f5f\"}, \"geo\": {\"bgcolor\": \"white\", \"lakecolor\": \"white\", \"landcolor\": \"#E5ECF6\", \"showlakes\": true, \"showland\": true, \"subunitcolor\": \"white\"}, \"hoverlabel\": {\"align\": \"left\"}, \"hovermode\": \"closest\", \"mapbox\": {\"style\": \"light\"}, \"paper_bgcolor\": \"white\", \"plot_bgcolor\": \"#E5ECF6\", \"polar\": {\"angularaxis\": {\"gridcolor\": \"white\", \"linecolor\": \"white\", \"ticks\": \"\"}, \"bgcolor\": \"#E5ECF6\", \"radialaxis\": {\"gridcolor\": \"white\", \"linecolor\": \"white\", \"ticks\": \"\"}}, \"scene\": {\"xaxis\": {\"backgroundcolor\": \"#E5ECF6\", \"gridcolor\": \"white\", \"gridwidth\": 2, \"linecolor\": \"white\", \"showbackground\": true, \"ticks\": \"\", \"zerolinecolor\": \"white\"}, \"yaxis\": {\"backgroundcolor\": \"#E5ECF6\", \"gridcolor\": \"white\", \"gridwidth\": 2, \"linecolor\": \"white\", \"showbackground\": true, \"ticks\": \"\", \"zerolinecolor\": \"white\"}, \"zaxis\": {\"backgroundcolor\": \"#E5ECF6\", \"gridcolor\": \"white\", \"gridwidth\": 2, \"linecolor\": \"white\", \"showbackground\": true, \"ticks\": \"\", \"zerolinecolor\": \"white\"}}, \"shapedefaults\": {\"line\": {\"color\": \"#2a3f5f\"}}, \"ternary\": {\"aaxis\": {\"gridcolor\": \"white\", \"linecolor\": \"white\", \"ticks\": \"\"}, \"baxis\": {\"gridcolor\": \"white\", \"linecolor\": \"white\", \"ticks\": \"\"}, \"bgcolor\": \"#E5ECF6\", \"caxis\": {\"gridcolor\": \"white\", \"linecolor\": \"white\", \"ticks\": \"\"}}, \"title\": {\"x\": 0.05}, \"xaxis\": {\"automargin\": true, \"gridcolor\": \"white\", \"linecolor\": \"white\", \"ticks\": \"\", \"zerolinecolor\": \"white\", \"zerolinewidth\": 2}, \"yaxis\": {\"automargin\": true, \"gridcolor\": \"white\", \"linecolor\": \"white\", \"ticks\": \"\", \"zerolinecolor\": \"white\", \"zerolinewidth\": 2}}}, \"title\": {\"text\": \"US Presidential Elections, 1952-2016\"}},\n",
              "                        {\"responsive\": true}\n",
              "                    ).then(function(){\n",
              "                            \n",
              "var gd = document.getElementById('ff57eea6-ddc1-4607-9353-ab552ddcccfc');\n",
              "var x = new MutationObserver(function (mutations, observer) {{\n",
              "        var display = window.getComputedStyle(gd).display;\n",
              "        if (!display || display === 'none') {{\n",
              "            console.log([gd, 'removed!']);\n",
              "            Plotly.purge(gd);\n",
              "            observer.disconnect();\n",
              "        }}\n",
              "}});\n",
              "\n",
              "// Listen for the removal of the full notebook cells\n",
              "var notebookContainer = gd.closest('#notebook-container');\n",
              "if (notebookContainer) {{\n",
              "    x.observe(notebookContainer, {childList: true});\n",
              "}}\n",
              "\n",
              "// Listen for the clearing of the current output cell\n",
              "var outputEl = gd.closest('.output');\n",
              "if (outputEl) {{\n",
              "    x.observe(outputEl, {childList: true});\n",
              "}}\n",
              "\n",
              "                        })\n",
              "                };\n",
              "                \n",
              "            </script>\n",
              "        </div>\n",
              "</body>\n",
              "</html>"
            ]
          },
          "metadata": {
            "tags": []
          }
        }
      ]
    },
    {
      "cell_type": "markdown",
      "metadata": {
        "id": "MNoTuf9v7l6A",
        "colab_type": "text"
      },
      "source": [
        "Fit Linear Regression with 2 features\n",
        "\n",
        "\n",
        "- Jake VanderPlas, [_Python Data Science Handbook,_ Chapter 5.2, Introducing Scikit-Learn — Basics of the API](https://jakevdp.github.io/PythonDataScienceHandbook/05.02-introducing-scikit-learn.html#Basics-of-the-API)\n",
        "- Scikit-Learn documentation, [sklearn.linear_model.LinearRegression](https://scikit-learn.org/stable/modules/generated/sklearn.linear_model.LinearRegression.html)"
      ]
    },
    {
      "cell_type": "code",
      "metadata": {
        "id": "Xj6Jn2x8DdL9",
        "colab_type": "code",
        "colab": {
          "base_uri": "https://localhost:8080/",
          "height": 34
        },
        "outputId": "f60f200f-ca6f-4beb-e2fb-20c69fd4635e"
      },
      "source": [
        "# 1. Import the appropriate estimator class from Scikit-Learn\n",
        "from sklearn.linear_model import LinearRegression\n",
        "\n",
        "\n",
        "# 2. Instantiate this class\n",
        "model = LinearRegression()\n",
        "\n",
        "\n",
        "# 3. Arrange X features matrix & y target vector\n",
        "features = ['Average Recent Growth in Personal Incomes', \n",
        "            'US Military Fatalities per Million']\n",
        "target = 'Incumbent Party Vote Share'\n",
        "X = df[features]\n",
        "y = df[target]\n",
        "\n",
        "\n",
        "# 4. Fit the model\n",
        "model.fit(X,y)"
      ],
      "execution_count": 24,
      "outputs": [
        {
          "output_type": "execute_result",
          "data": {
            "text/plain": [
              "LinearRegression(copy_X=True, fit_intercept=True, n_jobs=None, normalize=False)"
            ]
          },
          "metadata": {
            "tags": []
          },
          "execution_count": 24
        }
      ]
    },
    {
      "cell_type": "markdown",
      "metadata": {
        "id": "-h8Tl7HOwBM7",
        "colab_type": "text"
      },
      "source": [
        "## Challenge"
      ]
    },
    {
      "cell_type": "markdown",
      "metadata": {
        "id": "SJ490-qEvfSr",
        "colab_type": "text"
      },
      "source": [
        "# Get and plot coefficients"
      ]
    },
    {
      "cell_type": "markdown",
      "metadata": {
        "id": "ny_FZZYFv6G3",
        "colab_type": "text"
      },
      "source": [
        "## Overview"
      ]
    },
    {
      "cell_type": "markdown",
      "metadata": {
        "id": "ywqSn7hYv71X",
        "colab_type": "text"
      },
      "source": [
        "## Follow Along"
      ]
    },
    {
      "cell_type": "markdown",
      "metadata": {
        "id": "8YR1p7eexIf6",
        "colab_type": "text"
      },
      "source": [
        "What's the equation for the hyperplane?\n",
        "\n",
        "Can you relate the intercept and coefficients to what you see in the plot?"
      ]
    },
    {
      "cell_type": "code",
      "metadata": {
        "id": "lFhJqqSS-i9d",
        "colab_type": "code",
        "colab": {
          "base_uri": "https://localhost:8080/",
          "height": 34
        },
        "outputId": "5ee0ffdb-301e-479f-92c1-bfa1e3e3b84f"
      },
      "source": [
        "model.intercept_, model.coef_"
      ],
      "execution_count": 26,
      "outputs": [
        {
          "output_type": "execute_result",
          "data": {
            "text/plain": [
              "(46.88551694148949, array([ 3.40621407, -0.05375223]))"
            ]
          },
          "metadata": {
            "tags": []
          },
          "execution_count": 26
        }
      ]
    },
    {
      "cell_type": "code",
      "metadata": {
        "id": "m9dCEl0d1BfM",
        "colab_type": "code",
        "colab": {
          "base_uri": "https://localhost:8080/",
          "height": 105
        },
        "outputId": "d5e81fca-71d2-4811-a215-fa6cc312a044"
      },
      "source": [
        "print('Intercept: {}'.format(model.intercept_),'\\n')\n",
        "print('Coefficients:')\n",
        "print(pd.Series(model.coef_,features).to_string())\n"
      ],
      "execution_count": 46,
      "outputs": [
        {
          "output_type": "stream",
          "text": [
            "Intercept: 46.88551694148949 \n",
            "\n",
            "Coefficients:\n",
            "Average Recent Growth in Personal Incomes    3.406214\n",
            "US Military Fatalities per Million          -0.053752\n"
          ],
          "name": "stdout"
        }
      ]
    },
    {
      "cell_type": "markdown",
      "metadata": {
        "id": "TAQjaiHoxR-7",
        "colab_type": "text"
      },
      "source": [
        "What if ...\n",
        "\n",
        "Income growth = 0%, fatalities = 0"
      ]
    },
    {
      "cell_type": "code",
      "metadata": {
        "id": "Rup9q-6gAIZD",
        "colab_type": "code",
        "colab": {
          "base_uri": "https://localhost:8080/",
          "height": 34
        },
        "outputId": "67c0b879-a170-431a-b035-84f84419a0de"
      },
      "source": [
        "model.predict([[0, 0]])"
      ],
      "execution_count": 47,
      "outputs": [
        {
          "output_type": "execute_result",
          "data": {
            "text/plain": [
              "array([46.88551694, 50.29173101])"
            ]
          },
          "metadata": {
            "tags": []
          },
          "execution_count": 47
        }
      ]
    },
    {
      "cell_type": "markdown",
      "metadata": {
        "id": "Itt56qYNxYIb",
        "colab_type": "text"
      },
      "source": [
        "Income growth = 1% (fatalities = 0)"
      ]
    },
    {
      "cell_type": "code",
      "metadata": {
        "id": "1onFls9AAh5Z",
        "colab_type": "code",
        "colab": {
          "base_uri": "https://localhost:8080/",
          "height": 34
        },
        "outputId": "a475a489-4de8-4444-8f30-e4d1e2e9eaf0"
      },
      "source": [
        "model.predict([[1,0]])"
      ],
      "execution_count": 48,
      "outputs": [
        {
          "output_type": "execute_result",
          "data": {
            "text/plain": [
              "array([50.29173101])"
            ]
          },
          "metadata": {
            "tags": []
          },
          "execution_count": 48
        }
      ]
    },
    {
      "cell_type": "markdown",
      "metadata": {
        "id": "V5ZMUDjGxdhe",
        "colab_type": "text"
      },
      "source": [
        "The difference between these predictions = ? "
      ]
    },
    {
      "cell_type": "code",
      "metadata": {
        "id": "el1gAUyGApnV",
        "colab_type": "code",
        "colab": {
          "base_uri": "https://localhost:8080/",
          "height": 34
        },
        "outputId": "09eee07b-effe-46af-f97f-5f1f44826a70"
      },
      "source": [
        "\"\"\"1% of Growth (1 unit change) is associated to the Coefficient for Avg Recent Growth (+3.406214%)\"\"\"\n",
        "model.predict([[1,0]]) - model.predict([[0, 0]])"
      ],
      "execution_count": 50,
      "outputs": [
        {
          "output_type": "execute_result",
          "data": {
            "text/plain": [
              "array([3.40621407])"
            ]
          },
          "metadata": {
            "tags": []
          },
          "execution_count": 50
        }
      ]
    },
    {
      "cell_type": "markdown",
      "metadata": {
        "id": "1U1o9L65xn6_",
        "colab_type": "text"
      },
      "source": [
        "What if... income growth = 2% (fatalities = 0)"
      ]
    },
    {
      "cell_type": "code",
      "metadata": {
        "id": "stfnvUc_A3pM",
        "colab_type": "code",
        "colab": {
          "base_uri": "https://localhost:8080/",
          "height": 34
        },
        "outputId": "11a7a7bf-dfd9-4369-fc66-f07de42b815a"
      },
      "source": [
        "model.predict([[2,0]])"
      ],
      "execution_count": 51,
      "outputs": [
        {
          "output_type": "execute_result",
          "data": {
            "text/plain": [
              "array([53.69794508])"
            ]
          },
          "metadata": {
            "tags": []
          },
          "execution_count": 51
        }
      ]
    },
    {
      "cell_type": "markdown",
      "metadata": {
        "id": "bjp2kDm5xq79",
        "colab_type": "text"
      },
      "source": [
        "The difference between these predictions = ?"
      ]
    },
    {
      "cell_type": "code",
      "metadata": {
        "id": "Zywdu1SJA_hP",
        "colab_type": "code",
        "colab": {
          "base_uri": "https://localhost:8080/",
          "height": 34
        },
        "outputId": "a3ac1db1-ad61-43e0-d328-fff25ec7b3e3"
      },
      "source": [
        "model.predict([[2,0]]) - model.predict([[0,0]])"
      ],
      "execution_count": 52,
      "outputs": [
        {
          "output_type": "execute_result",
          "data": {
            "text/plain": [
              "array([6.81242814])"
            ]
          },
          "metadata": {
            "tags": []
          },
          "execution_count": 52
        }
      ]
    },
    {
      "cell_type": "markdown",
      "metadata": {
        "id": "klON2yUxxu1_",
        "colab_type": "text"
      },
      "source": [
        "What if... (income growth=2%) fatalities = 100"
      ]
    },
    {
      "cell_type": "code",
      "metadata": {
        "id": "YTFqg0ixBcIH",
        "colab_type": "code",
        "colab": {
          "base_uri": "https://localhost:8080/",
          "height": 34
        },
        "outputId": "7334e2f9-1371-48c9-afbb-e234fad47f68"
      },
      "source": [
        "model.predict([[2,100]])"
      ],
      "execution_count": 53,
      "outputs": [
        {
          "output_type": "execute_result",
          "data": {
            "text/plain": [
              "array([48.32272205])"
            ]
          },
          "metadata": {
            "tags": []
          },
          "execution_count": 53
        }
      ]
    },
    {
      "cell_type": "markdown",
      "metadata": {
        "id": "AfqzTR6dxyQ-",
        "colab_type": "text"
      },
      "source": [
        "The difference between these predictions = ?"
      ]
    },
    {
      "cell_type": "code",
      "metadata": {
        "id": "VHtDzQT-Bxel",
        "colab_type": "code",
        "colab": {}
      },
      "source": [
        ""
      ],
      "execution_count": 0,
      "outputs": []
    },
    {
      "cell_type": "markdown",
      "metadata": {
        "id": "6-3Whu9gx2ac",
        "colab_type": "text"
      },
      "source": [
        "What if income growth = 3% (fatalities = 100)"
      ]
    },
    {
      "cell_type": "code",
      "metadata": {
        "id": "2ge-czWaCAWQ",
        "colab_type": "code",
        "colab": {}
      },
      "source": [
        ""
      ],
      "execution_count": 0,
      "outputs": []
    },
    {
      "cell_type": "markdown",
      "metadata": {
        "id": "x7wDd61ax6Kk",
        "colab_type": "text"
      },
      "source": [
        "The difference between these predictions = ?"
      ]
    },
    {
      "cell_type": "code",
      "metadata": {
        "id": "ZDWbZ1duCJLS",
        "colab_type": "code",
        "colab": {}
      },
      "source": [
        ""
      ],
      "execution_count": 0,
      "outputs": []
    },
    {
      "cell_type": "markdown",
      "metadata": {
        "id": "WXaeJe9px9d1",
        "colab_type": "text"
      },
      "source": [
        "What if (income growth = 3%) fatalities = 200"
      ]
    },
    {
      "cell_type": "code",
      "metadata": {
        "id": "MP6UnCT1CXoD",
        "colab_type": "code",
        "colab": {}
      },
      "source": [
        ""
      ],
      "execution_count": 0,
      "outputs": []
    },
    {
      "cell_type": "markdown",
      "metadata": {
        "id": "MuioZsRUyAud",
        "colab_type": "text"
      },
      "source": [
        "The difference between these predictions = ?"
      ]
    },
    {
      "cell_type": "code",
      "metadata": {
        "id": "OpiDm-QjCZqi",
        "colab_type": "code",
        "colab": {}
      },
      "source": [
        ""
      ],
      "execution_count": 0,
      "outputs": []
    },
    {
      "cell_type": "markdown",
      "metadata": {
        "id": "OkLrZjaDyIOm",
        "colab_type": "text"
      },
      "source": [
        "Plot coefficients"
      ]
    },
    {
      "cell_type": "code",
      "metadata": {
        "id": "R1q748_WCupL",
        "colab_type": "code",
        "colab": {}
      },
      "source": [
        ""
      ],
      "execution_count": 0,
      "outputs": []
    },
    {
      "cell_type": "markdown",
      "metadata": {
        "id": "-Se1K52yv-u0",
        "colab_type": "text"
      },
      "source": [
        "## Challenge"
      ]
    },
    {
      "cell_type": "markdown",
      "metadata": {
        "id": "7LJaGES7vdUs",
        "colab_type": "text"
      },
      "source": [
        "#  Use regression metrics: MAE (Mean Absolute Error) and $R^2$ Score"
      ]
    },
    {
      "cell_type": "markdown",
      "metadata": {
        "id": "k3KyIQI0wGla",
        "colab_type": "text"
      },
      "source": [
        "## Overview"
      ]
    },
    {
      "cell_type": "markdown",
      "metadata": {
        "id": "w3rm_xvGwHxV",
        "colab_type": "text"
      },
      "source": [
        "## Follow Along"
      ]
    },
    {
      "cell_type": "markdown",
      "metadata": {
        "id": "QM2UoD6cGkeu",
        "colab_type": "text"
      },
      "source": [
        "How's the error?"
      ]
    },
    {
      "cell_type": "code",
      "metadata": {
        "id": "iAMSfbj0xFv9",
        "colab_type": "code",
        "colab": {}
      },
      "source": [
        ""
      ],
      "execution_count": 0,
      "outputs": []
    },
    {
      "cell_type": "markdown",
      "metadata": {
        "id": "NAhbHPEyGnvp",
        "colab_type": "text"
      },
      "source": [
        "How does this compare to guessing?"
      ]
    },
    {
      "cell_type": "code",
      "metadata": {
        "id": "chGT72Hwz-0I",
        "colab_type": "code",
        "colab": {}
      },
      "source": [
        ""
      ],
      "execution_count": 0,
      "outputs": []
    },
    {
      "cell_type": "markdown",
      "metadata": {
        "id": "lwYWu19BGr9X",
        "colab_type": "text"
      },
      "source": [
        "Plot the \"residuals\" (errors)"
      ]
    },
    {
      "cell_type": "code",
      "metadata": {
        "id": "PpQUzQso8FCZ",
        "colab_type": "code",
        "colab": {}
      },
      "source": [
        "import matplotlib.pyplot as plt\n",
        "from sklearn.metrics import mean_absolute_error, r2_score\n",
        "\n",
        "def regression_residuals(df, feature, target, m, b):\n",
        "    \"\"\"\n",
        "    Visualize linear regression, with residual errors,\n",
        "    in 2D: 1 feature + 1 target.\n",
        "    \n",
        "    Use the m & b parameters to \"fit the model\" manually.\n",
        "    \n",
        "    df : Pandas DataFrame\n",
        "    feature : string, feature column in df\n",
        "    target : string, target column in df\n",
        "    m : numeric, slope for linear equation\n",
        "    b : numeric, intercept for linear requation\n",
        "    \"\"\"\n",
        "    \n",
        "    # Plot data\n",
        "    df.plot.scatter(feature, target)\n",
        "    \n",
        "    # Make predictions\n",
        "    x = df[feature]\n",
        "    y = df[target]\n",
        "    y_pred = m*x + b\n",
        "    \n",
        "    # Plot predictions\n",
        "    plt.plot(x, y_pred)\n",
        "    \n",
        "    # Plot residual errors\n",
        "    for x, y1, y2 in zip(x, y, y_pred):\n",
        "        plt.plot((x, x), (y1, y2), color='grey')\n",
        "    \n",
        "    # Print regression metrics\n",
        "    mae = mean_absolute_error(y, y_pred)\n",
        "    r2 = r2_score(y, y_pred)\n",
        "    print('Mean Absolute Error:', mae)\n",
        "    print('R^2:', r2)\n"
      ],
      "execution_count": 0,
      "outputs": []
    },
    {
      "cell_type": "code",
      "metadata": {
        "id": "mrfbmO5d1GoQ",
        "colab_type": "code",
        "colab": {}
      },
      "source": [
        ""
      ],
      "execution_count": 0,
      "outputs": []
    },
    {
      "cell_type": "markdown",
      "metadata": {
        "id": "j7gDItKMwNBH",
        "colab_type": "text"
      },
      "source": [
        "## Challenge"
      ]
    },
    {
      "cell_type": "markdown",
      "metadata": {
        "id": "o1_b4j6ZtZgb",
        "colab_type": "text"
      },
      "source": [
        "# Understand how ordinary least squares regression minimizes the sum of squared errors"
      ]
    },
    {
      "cell_type": "markdown",
      "metadata": {
        "id": "D8moJTC6uDuh",
        "colab_type": "text"
      },
      "source": [
        "## Overview\n",
        "\n",
        "But Ordinary Least Squares Regression *doesn't* directly minimize MAE or R^2...\n",
        "\n",
        "1. Guess & Check\n",
        "2. Linear Algebra"
      ]
    },
    {
      "cell_type": "markdown",
      "metadata": {
        "id": "zspnHmo7wbKF",
        "colab_type": "text"
      },
      "source": [
        "## Follow Along"
      ]
    },
    {
      "cell_type": "markdown",
      "metadata": {
        "id": "ebHzgmJfG80i",
        "colab_type": "text"
      },
      "source": [
        "### Guess & Check"
      ]
    },
    {
      "cell_type": "code",
      "metadata": {
        "id": "BmdIG_W_8tTE",
        "colab_type": "code",
        "colab": {}
      },
      "source": [
        "from matplotlib.patches import Rectangle\n",
        "import matplotlib.pyplot as plt\n",
        "import numpy as np\n",
        "from sklearn.metrics import mean_absolute_error, mean_squared_error, r2_score\n",
        "\n",
        "def regression_squared_errors(df, feature, target, m, b):\n",
        "    \"\"\"\n",
        "    Visualize linear regression, with squared errors,\n",
        "    in 2D: 1 feature + 1 target.\n",
        "    \n",
        "    Use the m & b parameters to \"fit the model\" manually.\n",
        "    \n",
        "    df : Pandas DataFrame\n",
        "    feature : string, feature column in df\n",
        "    target : string, target column in df\n",
        "    m : numeric, slope for linear equation\n",
        "    b : numeric, intercept for linear requation\n",
        "    \"\"\"\n",
        "    \n",
        "    # Plot data\n",
        "    fig = plt.figure(figsize=(7,7))\n",
        "    ax = plt.axes()\n",
        "    df.plot.scatter(feature, target, ax=ax)\n",
        "    \n",
        "    # Make predictions\n",
        "    x = df[feature]\n",
        "    y = df[target]\n",
        "    y_pred = m*x + b\n",
        "    \n",
        "    # Plot predictions\n",
        "    ax.plot(x, y_pred)\n",
        "    \n",
        "    # Plot squared errors\n",
        "    xmin, xmax = ax.get_xlim()\n",
        "    ymin, ymax = ax.get_ylim()\n",
        "    scale = (xmax-xmin)/(ymax-ymin)\n",
        "    for x, y1, y2 in zip(x, y, y_pred):\n",
        "        bottom_left = (x, min(y1, y2))\n",
        "        height = abs(y1 - y2)\n",
        "        width = height * scale\n",
        "        ax.add_patch(Rectangle(xy=bottom_left, width=width, height=height, alpha=0.1))\n",
        "    \n",
        "    # Print regression metrics\n",
        "    mse = mean_squared_error(y, y_pred)\n",
        "    rmse = np.sqrt(mse)\n",
        "    mae = mean_absolute_error(y, y_pred)\n",
        "    r2 = r2_score(y, y_pred)\n",
        "    print('Mean Squared Error:', mse)\n",
        "    print('Root Mean Squared Error:', rmse)\n",
        "    print('Mean Absolute Error:', mae)\n",
        "    print('R^2:', r2)"
      ],
      "execution_count": 0,
      "outputs": []
    },
    {
      "cell_type": "code",
      "metadata": {
        "id": "TkyDSs8f6stD",
        "colab_type": "code",
        "colab": {}
      },
      "source": [
        ""
      ],
      "execution_count": 0,
      "outputs": []
    },
    {
      "cell_type": "markdown",
      "metadata": {
        "id": "u6biDIhlrzoI",
        "colab_type": "text"
      },
      "source": [
        "### Linear Algebra\n",
        "\n",
        "The same result that is found by minimizing the sum of the squared errors can be also found through a linear algebra process known as the \"Least Squares Solution:\"\n",
        "\n",
        "\\begin{align}\n",
        "\\hat{\\beta} = (X^{T}X)^{-1}X^{T}y\n",
        "\\end{align}\n",
        "\n",
        "Before we can work with this equation in its linear algebra form we have to understand how to set up the matrices that are involved in this equation. \n",
        "\n",
        "### The $\\beta$ vector\n",
        "\n",
        "The $\\beta$ vector represents all the parameters that we are trying to estimate, our $y$ vector and $X$ matrix values are full of data from our dataset. The $\\beta$ vector holds the variables that we are solving for: $\\beta_0$ and $\\beta_1$\n",
        "\n",
        "Now that we have all of the necessary parts we can set them up in the following equation:\n",
        "\n",
        "\\begin{align}\n",
        "y = X \\beta + \\epsilon\n",
        "\\end{align}\n",
        "\n",
        "Since our $\\epsilon$ value represents **random** error we can assume that it will equal zero on average.\n",
        "\n",
        "\\begin{align}\n",
        "y = X \\beta\n",
        "\\end{align}\n",
        "\n",
        "The objective now is to isolate the $\\beta$ matrix. We can do this by pre-multiplying both sides by \"X transpose\" $X^{T}$.\n",
        "\n",
        "\\begin{align}\n",
        "X^{T}y =  X^{T}X \\beta\n",
        "\\end{align}\n",
        "\n",
        "Since anything times its transpose will result in a square matrix, if that matrix is then an invertible matrix, then we should be able to multiply both sides by its inverse to remove it from the right hand side. (We'll talk tomorrow about situations that could lead to $X^{T}X$ not being invertible.)\n",
        "\n",
        "\\begin{align}\n",
        "(X^{T}X)^{-1}X^{T}y =  (X^{T}X)^{-1}X^{T}X \\beta\n",
        "\\end{align}\n",
        "\n",
        "Since any matrix multiplied by its inverse results in the identity matrix, and anything multiplied by the identity matrix is itself, we are left with only $\\beta$ on the right hand side:\n",
        "\n",
        "\\begin{align}\n",
        "(X^{T}X)^{-1}X^{T}y = \\hat{\\beta}\n",
        "\\end{align}\n",
        "\n",
        "We will now call it \"beta hat\" $\\hat{\\beta}$ because it now represents our estimated values for $\\beta_0$ and $\\beta_1$\n",
        "\n",
        "### Lets calculate our $\\beta$ coefficients with numpy!"
      ]
    },
    {
      "cell_type": "code",
      "metadata": {
        "id": "ouidNhDprzoI",
        "colab_type": "code",
        "colab": {
          "base_uri": "https://localhost:8080/",
          "height": 240
        },
        "outputId": "53793d69-5c66-4b45-f874-848664ca8291"
      },
      "source": [
        "# This is NOT an objective you'll be tested on. It's just a demo.\n",
        "\n",
        "# X is a matrix. Add constant for the intercept.\n",
        "from statsmodels.api import add_constant\n",
        "X = add_constant(df[feature].values)\n",
        "print('X')\n",
        "print(X)\n",
        "\n",
        "# y is a column vector\n",
        "y = df[target].values[:, np.newaxis]\n",
        "print('y')\n",
        "print(y)\n",
        "\n",
        "# Least squares solution in code\n",
        "X_transpose = X.T\n",
        "X_transpose_X = X_transpose @ X\n",
        "X_transpose_X_inverse = np.linalg.inv(X_transpose_X)\n",
        "X_transpose_y = X_transpose @ y\n",
        "beta_hat = X_transpose_X_inverse @ X_transpose_y\n",
        "\n",
        "print('Beta Hat')\n",
        "print(beta_hat)"
      ],
      "execution_count": 20,
      "outputs": [
        {
          "output_type": "error",
          "ename": "NameError",
          "evalue": "ignored",
          "traceback": [
            "\u001b[0;31m---------------------------------------------------------------------------\u001b[0m",
            "\u001b[0;31mNameError\u001b[0m                                 Traceback (most recent call last)",
            "\u001b[0;32m<ipython-input-20-9cdcb3391518>\u001b[0m in \u001b[0;36m<module>\u001b[0;34m()\u001b[0m\n\u001b[1;32m      1\u001b[0m \u001b[0;32mfrom\u001b[0m \u001b[0mstatsmodels\u001b[0m\u001b[0;34m.\u001b[0m\u001b[0mapi\u001b[0m \u001b[0;32mimport\u001b[0m \u001b[0madd_constant\u001b[0m\u001b[0;34m\u001b[0m\u001b[0;34m\u001b[0m\u001b[0m\n\u001b[0;32m----> 2\u001b[0;31m \u001b[0mX\u001b[0m \u001b[0;34m=\u001b[0m \u001b[0madd_constant\u001b[0m\u001b[0;34m(\u001b[0m\u001b[0mdf\u001b[0m\u001b[0;34m[\u001b[0m\u001b[0mfeature\u001b[0m\u001b[0;34m]\u001b[0m\u001b[0;34m.\u001b[0m\u001b[0mvalues\u001b[0m\u001b[0;34m)\u001b[0m\u001b[0;34m\u001b[0m\u001b[0;34m\u001b[0m\u001b[0m\n\u001b[0m\u001b[1;32m      3\u001b[0m \u001b[0mprint\u001b[0m\u001b[0;34m(\u001b[0m\u001b[0;34m'X'\u001b[0m\u001b[0;34m)\u001b[0m\u001b[0;34m\u001b[0m\u001b[0;34m\u001b[0m\u001b[0m\n\u001b[1;32m      4\u001b[0m \u001b[0mprint\u001b[0m\u001b[0;34m(\u001b[0m\u001b[0mX\u001b[0m\u001b[0;34m)\u001b[0m\u001b[0;34m\u001b[0m\u001b[0;34m\u001b[0m\u001b[0m\n\u001b[1;32m      5\u001b[0m \u001b[0;34m\u001b[0m\u001b[0m\n",
            "\u001b[0;31mNameError\u001b[0m: name 'feature' is not defined"
          ]
        }
      ]
    },
    {
      "cell_type": "code",
      "metadata": {
        "id": "jDTgv1lKrzoK",
        "colab_type": "code",
        "colab": {}
      },
      "source": [
        "# Scikit-learn gives the exact same results\n",
        "from sklearn.linear_model import LinearRegression\n",
        "model = LinearRegression()\n",
        "features = ['Average Recent Growth in Personal Incomes']\n",
        "target = 'Incumbent Party Vote Share'\n",
        "X = df[features]\n",
        "y = df[target]\n",
        "model.fit(X, y)\n",
        "model.intercept_, model.coef_"
      ],
      "execution_count": 0,
      "outputs": []
    },
    {
      "cell_type": "markdown",
      "metadata": {
        "id": "bkkW-kEpwdq6",
        "colab_type": "text"
      },
      "source": [
        "## Challenge"
      ]
    },
    {
      "cell_type": "markdown",
      "metadata": {
        "id": "RaLUPbonrzoM",
        "colab_type": "text"
      },
      "source": [
        "# Explain why overfitting is a problem. Do train/test split"
      ]
    },
    {
      "cell_type": "markdown",
      "metadata": {
        "id": "W-40FQscwfD5",
        "colab_type": "text"
      },
      "source": [
        "## Overview"
      ]
    },
    {
      "cell_type": "markdown",
      "metadata": {
        "id": "W9Aboy6MrzoR",
        "colab_type": "text"
      },
      "source": [
        "#### Jake VanderPlas, [_Python Data Science Handbook,_ Chapter 5.3](https://jakevdp.github.io/PythonDataScienceHandbook/05.03-hyperparameters-and-model-validation.html#The-Bias-variance-trade-off)\n",
        "\n",
        "Fundamentally, the question of \"the best model\" is about finding a sweet spot in the tradeoff between bias and variance. Consider the following figure, which presents two regression fits to the same dataset:\n",
        "\n",
        "![](https://jakevdp.github.io/PythonDataScienceHandbook/figures/05.03-bias-variance-2.png)\n",
        "\n",
        "The model on the left attempts to find a straight-line fit through the data. Because the data are intrinsically more complicated than a straight line, the straight-line model will never be able to describe this dataset well. Such a model is said to _underfit_ the data: that is, it does not have enough model flexibility to suitably account for all the features in the data; another way of saying this is that the model has high _bias_.\n",
        "\n",
        "The model on the right attempts to fit a high-order polynomial through the data. Here the model fit has enough flexibility to nearly perfectly account for the fine features in the data, but even though it very accurately describes the training data, its precise form seems to be more reflective of the particular noise properties of the data rather than the intrinsic properties of whatever process generated that data. Such a model is said to _overfit_ the data: that is, it has so much model flexibility that the model ends up accounting for random errors as well as the underlying data distribution; another way of saying this is that the model has high _variance_.\n",
        "\n",
        "\n",
        "From the scores associated with these two models, we can make an observation that holds more generally:\n",
        "\n",
        "- For high-bias models, the performance of the model on the validation set is similar to the performance on the training set.\n",
        "\n",
        "- For high-variance models, the performance of the model on the validation set is far worse than the performance on the training set.\n",
        "\n",
        "If we imagine that we have some ability to tune the model complexity, we would expect the training score and validation score to behave as illustrated in the following figure:\n",
        "\n",
        "![](https://jakevdp.github.io/PythonDataScienceHandbook/figures/05.03-validation-curve.png)\n",
        "\n",
        "The diagram shown here is often called a validation curve, and we see the following essential features:\n",
        "\n",
        "- The training score is everywhere higher than the validation score. This is generally the case: the model will be a better fit to data it has seen than to data it has not seen.\n",
        "- For very low model complexity (a high-bias model), the training data is under-fit, which means that the model is a poor predictor both for the training data and for any previously unseen data.\n",
        "- For very high model complexity (a high-variance model), the training data is over-fit, which means that the model predicts the training data very well, but fails for any previously unseen data.\n",
        "- For some intermediate value, the validation curve has a maximum. This level of complexity indicates a suitable trade-off between bias and variance.\n",
        "\n",
        "The means of tuning the model complexity varies from model to model."
      ]
    },
    {
      "cell_type": "markdown",
      "metadata": {
        "id": "bQ8rflrBwgYj",
        "colab_type": "text"
      },
      "source": [
        "## Follow Along"
      ]
    },
    {
      "cell_type": "markdown",
      "metadata": {
        "id": "8ajsC5CS9nYI",
        "colab_type": "text"
      },
      "source": [
        "Wrangle New York City property sales data"
      ]
    },
    {
      "cell_type": "code",
      "metadata": {
        "id": "DzCSC1zsrzoN",
        "colab_type": "code",
        "colab": {}
      },
      "source": [
        "# Read New York City property sales data, from first 4 months of 2019.\n",
        "# Dataset has 23040 rows, 21 columns.\n",
        "df = pd.read_csv('../data/NYC_Citywide_Rolling_Calendar_Sales.csv')\n",
        "assert df.shape == (23040, 21)\n",
        "\n",
        "# Change column names. Replace spaces with underscores\n",
        "df.columns = [col.replace(' ', '_') for col in df]\n",
        "\n",
        "# Remove symbols from SALE_PRICE string, convert to integer\n",
        "df['SALE_PRICE'] = (\n",
        "    df['SALE_PRICE']\n",
        "    .str.replace('$','')\n",
        "    .str.replace('-','')\n",
        "    .str.replace(',','')\n",
        "    .astype(int)\n",
        ")\n",
        "\n",
        "# Keep subset of rows:\n",
        "# Tribeca neighborhood, Condos - Elevator Apartments, \n",
        "# 1 unit, sale price more than $1, less than $35 million\n",
        "mask = (\n",
        "    (df['NEIGHBORHOOD'].str.contains('TRIBECA')) & \n",
        "    (df['BUILDING_CLASS_CATEGORY'] == '13 CONDOS - ELEVATOR APARTMENTS') &\n",
        "    (df['TOTAL_UNITS'] == 1) & \n",
        "    (df['SALE_PRICE'] > 0) & \n",
        "    (df['SALE_PRICE'] < 35000000)\n",
        ")\n",
        "df = df[mask]\n",
        "\n",
        "# Data now has 90 rows, 21 columns\n",
        "assert df.shape == (90, 21)\n",
        "\n",
        "# Convert SALE_DATE to datetime\n",
        "df['SALE_DATE'] = pd.to_datetime(df['SALE_DATE'], infer_datetime_format=True)\n",
        "\n",
        "from ipywidgets import interact\n",
        "import pandas as pd\n",
        "from sklearn.linear_model import LinearRegression\n",
        "\n",
        "# Read New York City property sales data, from first 4 months of 2019.\n",
        "# Dataset has 23040 rows, 21 columns.\n",
        "df = pd.read_csv('../data/NYC_Citywide_Rolling_Calendar_Sales.csv')\n",
        "assert df.shape == (23040, 21)\n",
        "\n",
        "# Change column names. Replace spaces with underscores\n",
        "df.columns = [col.replace(' ', '_') for col in df]\n",
        "\n",
        "# Remove symbols from SALE_PRICE string, convert to integer\n",
        "df['SALE_PRICE'] = (\n",
        "    df['SALE_PRICE']\n",
        "    .str.replace('$','')\n",
        "    .str.replace('-','')\n",
        "    .str.replace(',','')\n",
        "    .astype(int)\n",
        ")\n",
        "\n",
        "# Keep subset of rows:\n",
        "# Tribeca neighborhood, Condos - Elevator Apartments, \n",
        "# 1 unit, sale price more than $1, less than $35 million\n",
        "mask = (\n",
        "    (df['NEIGHBORHOOD'].str.contains('TRIBECA')) & \n",
        "    (df['BUILDING_CLASS_CATEGORY'] == '13 CONDOS - ELEVATOR APARTMENTS') &\n",
        "    (df['TOTAL_UNITS'] == 1) & \n",
        "    (df['SALE_PRICE'] > 0) & \n",
        "    (df['SALE_PRICE'] < 35000000)\n",
        ")\n",
        "df = df[mask]\n",
        "\n",
        "# Data now has 90 rows, 21 columns\n",
        "assert df.shape == (90, 21)\n",
        "\n",
        "# Convert SALE_DATE to datetime\n",
        "df['SALE_DATE'] = pd.to_datetime(df['SALE_DATE'], infer_datetime_format=True)\n",
        "\n",
        "# Arrange X features matrix & y target vector\n",
        "features = ['GROSS_SQUARE_FEET']\n",
        "target = 'SALE_PRICE'\n",
        "X = df[features]\n",
        "y = df[target]"
      ],
      "execution_count": 0,
      "outputs": []
    },
    {
      "cell_type": "markdown",
      "metadata": {
        "id": "VccY7fno9sA8",
        "colab_type": "text"
      },
      "source": [
        "Do random train/test spliit"
      ]
    },
    {
      "cell_type": "code",
      "metadata": {
        "id": "ki0qmlk69uWr",
        "colab_type": "code",
        "colab": {}
      },
      "source": [
        "from sklearn.model_selection import train_test_split\n",
        "X_train, X_test, y_train, y_test = train_test_split(X, y, random_state=11)"
      ],
      "execution_count": 0,
      "outputs": []
    },
    {
      "cell_type": "markdown",
      "metadata": {
        "id": "HpQnoWJV9zkr",
        "colab_type": "text"
      },
      "source": [
        "Repeatedly fit increasingly complex models, and keep track of the scores"
      ]
    },
    {
      "cell_type": "code",
      "metadata": {
        "scrolled": false,
        "id": "YShWjZrIrzoP",
        "colab_type": "code",
        "colab": {}
      },
      "source": [
        "from IPython.display import display, HTML\n",
        "from sklearn.linear_model import LinearRegression\n",
        "from sklearn.metrics import r2_score\n",
        "from sklearn.pipeline import make_pipeline\n",
        "from sklearn.preprocessing import PolynomialFeatures\n",
        "from sklearn.linear_model import LinearRegression\n",
        "\n",
        "\n",
        "# Credit: Jake VanderPlas, Python Data Science Handbook, Chapter 5.3\n",
        "# https://jakevdp.github.io/PythonDataScienceHandbook/05.03-hyperparameters-and-model-validation.html#Validation-curves-in-Scikit-Learn\n",
        "def PolynomialRegression(degree=2, **kwargs):\n",
        "    return make_pipeline(PolynomialFeatures(degree), \n",
        "                         LinearRegression(**kwargs))\n",
        "\n",
        "\n",
        "polynomial_degrees = range(1, 10, 2)\n",
        "train_r2s = []\n",
        "test_r2s = []\n",
        "\n",
        "for degree in polynomial_degrees:\n",
        "    model = PolynomialRegression(degree)\n",
        "    display(HTML(f'Polynomial degree={degree}'))\n",
        "    \n",
        "    model.fit(X_train, y_train)\n",
        "    train_r2 = model.score(X_train, y_train)\n",
        "    test_r2 = model.score(X_test, y_test)\n",
        "    display(HTML(f'<b style=\"color: blue\">Train R2 {train_r2:.2f}</b>'))\n",
        "    display(HTML(f'<b style=\"color: red\">Test R2 {test_r2:.2f}</b>'))\n",
        "\n",
        "    plt.scatter(X_train, y_train, color='blue', alpha=0.5)\n",
        "    plt.scatter(X_test, y_test, color='red', alpha=0.5)\n",
        "    plt.xlabel(features)\n",
        "    plt.ylabel(target)\n",
        "    \n",
        "    x_domain = np.linspace(X.min(), X.max())\n",
        "    curve = model.predict(x_domain)\n",
        "    plt.plot(x_domain, curve, color='blue')\n",
        "    plt.show()\n",
        "    display(HTML('<hr/>'))\n",
        "    \n",
        "    train_r2s.append(train_r2)\n",
        "    test_r2s.append(test_r2)\n",
        "    \n",
        "display(HTML('Validation Curve'))\n",
        "plt.plot(polynomial_degrees, train_r2s, color='blue', label='Train')\n",
        "plt.plot(polynomial_degrees, test_r2s, color='red', label='Test')\n",
        "plt.xlabel('Model Complexity (Polynomial Degree)')\n",
        "plt.ylabel('R^2 Score')\n",
        "plt.legend()\n",
        "plt.show()"
      ],
      "execution_count": 0,
      "outputs": []
    },
    {
      "cell_type": "markdown",
      "metadata": {
        "id": "HWkI7C7-wllP",
        "colab_type": "text"
      },
      "source": [
        "## Challenge"
      ]
    },
    {
      "cell_type": "markdown",
      "metadata": {
        "id": "eMeK2F8OwoOE",
        "colab_type": "text"
      },
      "source": [
        "# Review"
      ]
    },
    {
      "cell_type": "markdown",
      "metadata": {
        "id": "4WcLE44XwpOL",
        "colab_type": "text"
      },
      "source": [
        "# Sources\n",
        "\n",
        "Jake VanderPlas, [_Python Data Science Handbook,_ Chapter 5.3](https://jakevdp.github.io/PythonDataScienceHandbook/05.03-hyperparameters-and-model-validation.html#The-Bias-variance-trade-off)\n",
        "\n",
        "\n",
        "#### Douglas Hibbs, [Background Information on the ‘Bread and Peace’ Model of Voting in Postwar US Presidential Elections](https://douglas-hibbs.com/background-information-on-bread-and-peace-voting-in-us-presidential-elections/)\n",
        "\n",
        "> Aggregate two-party vote shares going to candidates of the party holding the presidency during the postwar era are well explained by just two fundamental determinants:\n",
        "\n",
        "> (1) Positively by weighted-average growth of per capita real disposable personal income over the term.  \n",
        "> (2) Negatively by cumulative US military fatalities (scaled to population) owing to unprovoked, hostile deployments of American armed forces in foreign wars.\n",
        "\n",
        "#### Data sources\n",
        "- 1952-2012: Douglas Hibbs, [2014 lecture at Deakin University Melbourne](http://www.douglas-hibbs.com/HibbsArticles/HIBBS-PRESVOTE-SLIDES-MELBOURNE-Part1-2014-02-26.pdf), Slide 40\n",
        "- 2016, Vote Share: [The American Presidency Project](https://www.presidency.ucsb.edu/statistics/elections)\n",
        "- 2016, Recent Growth in Personal Incomes: [The 2016 election economy: the \"Bread and Peace\" model final forecast](https://angrybearblog.com/2016/11/the-2016-election-economy-the-bread-and-peace-model-final-forecast.html)\n",
        "- 2016, US Military Fatalities: Assumption that Afghanistan War fatalities in 2012-16 occured at the same rate as 2008-12\n",
        "\n",
        "> Fatalities denotes the cumulative number of American military fatalities per millions of US population the in Korea, Vietnam, Iraq and Afghanistan wars during the presidential terms preceding the 1952, 1964, 1968, 1976 and 2004, 2008 and 2012 elections. —[Hibbs](http://www.douglas-hibbs.com/HibbsArticles/HIBBS-PRESVOTE-SLIDES-MELBOURNE-Part1-2014-02-26.pdf), Slide 33"
      ]
    }
  ]
}